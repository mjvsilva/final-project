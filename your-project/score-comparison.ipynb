{
 "cells": [
  {
   "cell_type": "code",
   "execution_count": 1,
   "metadata": {},
   "outputs": [],
   "source": [
    "import pandas as pd\n",
    "import numpy as np\n",
    "from scipy.stats import ttest_ind"
   ]
  },
  {
   "cell_type": "code",
   "execution_count": 15,
   "metadata": {},
   "outputs": [],
   "source": [
    "tipster_fa = pd.read_csv(\"data/tipster_scores.csv\", index_col=0)\n",
    "tipster_ml = pd.read_csv(\"data/tipster_ml_scores.csv\", index_col=0)\n",
    "\n",
    "bbc_fa = pd.read_csv(\"data/bbc_scores.csv\", index_col=0)\n",
    "bbc_ml = pd.read_csv(\"data/bbc_ml_scores.csv\", index_col=0)\n",
    "\n",
    "kaggle_fa = pd.read_csv(\"data/kaggle_scores.csv\", index_col=0)\n",
    "kaggle_ml = pd.read_csv(\"data/kaggle_ml_scores.csv\", index_col=0)"
   ]
  },
  {
   "cell_type": "code",
   "execution_count": 16,
   "metadata": {},
   "outputs": [],
   "source": [
    "fa = [tipster_fa, bbc_fa, kaggle_fa]\n",
    "for df in fa:\n",
    "    df[\"fa_precision\"] = df[\"my_pred_summary_score\"].map(lambda x: float(x.split(\", \")[0].strip(\"[\").strip()))\n",
    "    df[\"fa_recall\"] = df[\"my_pred_summary_score\"].map(lambda x: float(x.split(\", \")[1].strip(\"[\").strip()))\n",
    "    df[\"fa_rouge1\"] = df[\"pred_summary_score\"].map(lambda x: float(x.split(\", \")[0].strip(\"(\").strip()))\n",
    "    df.drop([\"pred_summary_score\", \"my_pred_summary_score\"], axis=1, inplace=True)"
   ]
  },
  {
   "cell_type": "code",
   "execution_count": 19,
   "metadata": {},
   "outputs": [],
   "source": [
    "ml = [tipster_ml, bbc_ml, kaggle_ml]\n",
    "for df in ml:\n",
    "    df[\"ml_precision\"] = df[\"my_pred_summary_score\"].map(lambda x: float(x.split(\", \")[0].strip(\"[\").strip()))\n",
    "    df[\"ml_recall\"] = df[\"my_pred_summary_score\"].map(lambda x: float(x.split(\", \")[1].strip(\"[\").strip()))\n",
    "    df[\"ml_rouge1\"] = df[\"pred_summary_score\"].map(lambda x: float(x.split(\", \")[0].strip(\"(\").strip()))\n",
    "    df.drop([\"pred_summary_score\", \"my_pred_summary_score\"], axis=1, inplace=True)"
   ]
  },
  {
   "cell_type": "code",
   "execution_count": 23,
   "metadata": {},
   "outputs": [],
   "source": [
    "tipster = pd.concat([tipster_fa, tipster_ml], axis=1)\n",
    "bbc = pd.concat([bbc_fa, bbc_ml], axis=1)\n",
    "kaggle = pd.concat([kaggle_fa, kaggle_ml], axis=1)"
   ]
  },
  {
   "cell_type": "markdown",
   "metadata": {},
   "source": [
    "### T-TEST FA/ML\n",
    "\n",
    "#### Precision"
   ]
  },
  {
   "cell_type": "code",
   "execution_count": 25,
   "metadata": {
    "scrolled": true
   },
   "outputs": [
    {
     "data": {
      "text/plain": [
       "Ttest_indResult(statistic=1.4507777630388528, pvalue=0.1477076994667758)"
      ]
     },
     "execution_count": 25,
     "metadata": {},
     "output_type": "execute_result"
    }
   ],
   "source": [
    "ttest_ind(tipster.fa_precision, tipster.ml_precision, equal_var=True)"
   ]
  },
  {
   "cell_type": "code",
   "execution_count": 26,
   "metadata": {},
   "outputs": [
    {
     "data": {
      "text/plain": [
       "Ttest_indResult(statistic=16.802630740427816, pvalue=3.2614683936219126e-54)"
      ]
     },
     "execution_count": 26,
     "metadata": {},
     "output_type": "execute_result"
    }
   ],
   "source": [
    "ttest_ind(bbc.fa_precision, bbc.ml_precision, equal_var=True)"
   ]
  },
  {
   "cell_type": "code",
   "execution_count": 27,
   "metadata": {},
   "outputs": [
    {
     "data": {
      "text/plain": [
       "Ttest_indResult(statistic=1.4128286607802165, pvalue=0.15801788719721216)"
      ]
     },
     "execution_count": 27,
     "metadata": {},
     "output_type": "execute_result"
    }
   ],
   "source": [
    "ttest_ind(kaggle.fa_precision, kaggle.ml_precision, equal_var=True)"
   ]
  },
  {
   "cell_type": "markdown",
   "metadata": {},
   "source": [
    "Precision scores for each of the summarization algorithms were significantly different in the BBC dataset, and comparable in the other two."
   ]
  },
  {
   "cell_type": "markdown",
   "metadata": {},
   "source": [
    "#### Recall"
   ]
  },
  {
   "cell_type": "code",
   "execution_count": 28,
   "metadata": {
    "scrolled": true
   },
   "outputs": [
    {
     "data": {
      "text/plain": [
       "Ttest_indResult(statistic=16.4458258805725, pvalue=8.785929481066149e-46)"
      ]
     },
     "execution_count": 28,
     "metadata": {},
     "output_type": "execute_result"
    }
   ],
   "source": [
    "ttest_ind(tipster.fa_recall, tipster.ml_recall, equal_var=True)"
   ]
  },
  {
   "cell_type": "code",
   "execution_count": 29,
   "metadata": {},
   "outputs": [
    {
     "data": {
      "text/plain": [
       "Ttest_indResult(statistic=29.74767894151547, pvalue=4.606162090294104e-130)"
      ]
     },
     "execution_count": 29,
     "metadata": {},
     "output_type": "execute_result"
    }
   ],
   "source": [
    "ttest_ind(bbc.fa_recall, bbc.ml_recall, equal_var=True)"
   ]
  },
  {
   "cell_type": "code",
   "execution_count": 30,
   "metadata": {},
   "outputs": [
    {
     "data": {
      "text/plain": [
       "Ttest_indResult(statistic=1.0425376421494812, pvalue=0.29741495542486185)"
      ]
     },
     "execution_count": 30,
     "metadata": {},
     "output_type": "execute_result"
    }
   ],
   "source": [
    "ttest_ind(kaggle.fa_recall, kaggle.ml_recall, equal_var=True)"
   ]
  },
  {
   "cell_type": "markdown",
   "metadata": {},
   "source": [
    "Recall scores for each of the summarization algorithms were significantly different in the TIPSTER and BBC dataset, and comparable in the last one."
   ]
  },
  {
   "cell_type": "markdown",
   "metadata": {},
   "source": [
    "#### ROUGE-1"
   ]
  },
  {
   "cell_type": "code",
   "execution_count": 31,
   "metadata": {
    "scrolled": true
   },
   "outputs": [
    {
     "data": {
      "text/plain": [
       "Ttest_indResult(statistic=4.453582514857824, pvalue=1.1267264518996946e-05)"
      ]
     },
     "execution_count": 31,
     "metadata": {},
     "output_type": "execute_result"
    }
   ],
   "source": [
    "ttest_ind(tipster.fa_rouge1, tipster.ml_rouge1, equal_var=True)"
   ]
  },
  {
   "cell_type": "code",
   "execution_count": 32,
   "metadata": {},
   "outputs": [
    {
     "data": {
      "text/plain": [
       "Ttest_indResult(statistic=23.576285700714752, pvalue=6.112796214128267e-93)"
      ]
     },
     "execution_count": 32,
     "metadata": {},
     "output_type": "execute_result"
    }
   ],
   "source": [
    "ttest_ind(bbc.fa_rouge1, bbc.ml_rouge1, equal_var=True)"
   ]
  },
  {
   "cell_type": "code",
   "execution_count": 33,
   "metadata": {},
   "outputs": [
    {
     "data": {
      "text/plain": [
       "Ttest_indResult(statistic=0.09659804626021612, pvalue=0.9230650022378419)"
      ]
     },
     "execution_count": 33,
     "metadata": {},
     "output_type": "execute_result"
    }
   ],
   "source": [
    "ttest_ind(kaggle.fa_rouge1, kaggle.ml_rouge1, equal_var=True)"
   ]
  },
  {
   "cell_type": "markdown",
   "metadata": {},
   "source": [
    "ROUGE-1 scores for each of the summarization algorithms were significantly different in the TIPSTER and BBC dataset, and comparable in the last one."
   ]
  },
  {
   "cell_type": "code",
   "execution_count": null,
   "metadata": {},
   "outputs": [],
   "source": []
  }
 ],
 "metadata": {
  "kernelspec": {
   "display_name": "Python 3",
   "language": "python",
   "name": "python3"
  },
  "language_info": {
   "codemirror_mode": {
    "name": "ipython",
    "version": 3
   },
   "file_extension": ".py",
   "mimetype": "text/x-python",
   "name": "python",
   "nbconvert_exporter": "python",
   "pygments_lexer": "ipython3",
   "version": "3.7.4"
  }
 },
 "nbformat": 4,
 "nbformat_minor": 2
}
