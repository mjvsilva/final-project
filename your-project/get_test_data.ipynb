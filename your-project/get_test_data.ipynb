{
 "cells": [
  {
   "cell_type": "code",
   "execution_count": 2,
   "metadata": {},
   "outputs": [],
   "source": [
    "import pandas as pd\n",
    "import numpy as np\n",
    "import re\n",
    "\n",
    "import os\n",
    "from bs4 import BeautifulSoup"
   ]
  },
  {
   "cell_type": "markdown",
   "metadata": {},
   "source": [
    "# Get evaluation dataset from TIPSTER data"
   ]
  },
  {
   "cell_type": "markdown",
   "metadata": {},
   "source": [
    "### Get files\n",
    "\n",
    "`./resources/tipster/*.xml`"
   ]
  },
  {
   "cell_type": "code",
   "execution_count": 2,
   "metadata": {},
   "outputs": [
    {
     "name": "stdout",
     "output_type": "stream",
     "text": [
      "183\n"
     ]
    }
   ],
   "source": [
    "path = \"resources/tipster/\"\n",
    "ext = \".xml\"\n",
    "\n",
    "filenames = []\n",
    "for _, _, files in os.walk(path):\n",
    "    filenames = [os.path.join(path, f) for f in files if f.endswith(ext)]\n",
    "print(len(filenames))"
   ]
  },
  {
   "cell_type": "markdown",
   "metadata": {},
   "source": [
    "### Store text in dictionary\n",
    "\n",
    "* Get text\n",
    "* Get BeautifulSoup to split abstract and text from xml"
   ]
  },
  {
   "cell_type": "code",
   "execution_count": 3,
   "metadata": {},
   "outputs": [],
   "source": [
    "data = {\"abstract\":[], \"text\":[]}"
   ]
  },
  {
   "cell_type": "code",
   "execution_count": 4,
   "metadata": {},
   "outputs": [],
   "source": [
    "for file in filenames:\n",
    "    with open(file, \"r\", encoding=\"latin1\") as f:\n",
    "        xml = f.read()\n",
    "        soup = BeautifulSoup(xml, \"xml\")\n",
    "        \n",
    "        abstract_raw = soup.find(\"ABSTRACT\").find_all(\"P\")\n",
    "        abstract = \" \".join([s.text.replace(\"\\n\", \" \") for s in abstract_raw])\n",
    "        data[\"abstract\"].append(abstract)\n",
    "        \n",
    "        text_raw = soup.find(\"BODY\").find_all(\"P\")\n",
    "        text = \" \".join([s.text.replace(\"\\n\", \" \") for s in text_raw])\n",
    "        data[\"text\"].append(text)"
   ]
  },
  {
   "cell_type": "markdown",
   "metadata": {},
   "source": [
    "### Save as CSV file"
   ]
  },
  {
   "cell_type": "code",
   "execution_count": 5,
   "metadata": {},
   "outputs": [],
   "source": [
    "df = pd.DataFrame(data)"
   ]
  },
  {
   "cell_type": "code",
   "execution_count": 6,
   "metadata": {},
   "outputs": [],
   "source": [
    "df.to_csv(\"data/tipster_test_data.csv\")"
   ]
  },
  {
   "cell_type": "markdown",
   "metadata": {},
   "source": [
    "# Get evaluation dataset from BBC News data"
   ]
  },
  {
   "cell_type": "markdown",
   "metadata": {},
   "source": [
    "### Get files\n",
    "\n",
    "Grabbing only one category to speed up processing\n",
    "\n",
    "`./resources/bbcnews/News Articles/entertainment/*.txt`\n",
    "`./resources/bbcnews/Summaries/entertainment/*.txt`"
   ]
  },
  {
   "cell_type": "code",
   "execution_count": 3,
   "metadata": {},
   "outputs": [
    {
     "name": "stdout",
     "output_type": "stream",
     "text": [
      "386 =? 386\n"
     ]
    }
   ],
   "source": [
    "textpath = \"resources/bbcnews/News Articles/entertainment/\"\n",
    "summpath = \"resources/bbcnews/Summaries/entertainment/\"\n",
    "ext = \".txt\"\n",
    "\n",
    "textfilenames = []\n",
    "for _, _, files in os.walk(textpath):\n",
    "    textfilenames = [os.path.join(textpath, f) for f in files if f.endswith(ext)]\n",
    "\n",
    "summfilenames = []\n",
    "for _, _, files in os.walk(summpath):\n",
    "    summfilenames = [os.path.join(summpath, f) for f in files if f.endswith(ext)]\n",
    "\n",
    "print(len(textfilenames),\"=?\",len(summfilenames))\n"
   ]
  },
  {
   "cell_type": "markdown",
   "metadata": {},
   "source": [
    "### Store text in dictionary\n",
    "\n",
    "* Ensure filenames are sorted\n",
    "* Add text and summary to dictionary"
   ]
  },
  {
   "cell_type": "code",
   "execution_count": 7,
   "metadata": {},
   "outputs": [],
   "source": [
    "bbcdata = {\"abstract\":[], \"text\":[]}\n",
    "\n",
    "textfilenames.sort()\n",
    "summfilenames.sort()\n",
    "\n",
    "for file in textfilenames:\n",
    "    with open(file, \"r\") as f:\n",
    "        bbcdata[\"text\"].append(f.read())\n",
    "\n",
    "for file in summfilenames:\n",
    "    with open(file, \"r\") as f:\n",
    "        bbcdata[\"abstract\"].append(f.read())"
   ]
  },
  {
   "cell_type": "markdown",
   "metadata": {},
   "source": [
    "### Save as CSV file"
   ]
  },
  {
   "cell_type": "code",
   "execution_count": 9,
   "metadata": {},
   "outputs": [
    {
     "data": {
      "text/html": [
       "<div>\n",
       "<style scoped>\n",
       "    .dataframe tbody tr th:only-of-type {\n",
       "        vertical-align: middle;\n",
       "    }\n",
       "\n",
       "    .dataframe tbody tr th {\n",
       "        vertical-align: top;\n",
       "    }\n",
       "\n",
       "    .dataframe thead th {\n",
       "        text-align: right;\n",
       "    }\n",
       "</style>\n",
       "<table border=\"1\" class=\"dataframe\">\n",
       "  <thead>\n",
       "    <tr style=\"text-align: right;\">\n",
       "      <th></th>\n",
       "      <th>abstract</th>\n",
       "      <th>text</th>\n",
       "    </tr>\n",
       "  </thead>\n",
       "  <tbody>\n",
       "    <tr>\n",
       "      <th>0</th>\n",
       "      <td>The messages will be \"unwrapped\" by sculptor R...</td>\n",
       "      <td>Gallery unveils interactive tree\\n\\nA Christma...</td>\n",
       "    </tr>\n",
       "    <tr>\n",
       "      <th>1</th>\n",
       "      <td>Bloom is to be formally presented with the Han...</td>\n",
       "      <td>Jarre joins fairytale celebration\\n\\nFrench mu...</td>\n",
       "    </tr>\n",
       "    <tr>\n",
       "      <th>2</th>\n",
       "      <td>The classic film It's A Wonderful Life is to b...</td>\n",
       "      <td>Musical treatment for Capra film\\n\\nThe classi...</td>\n",
       "    </tr>\n",
       "    <tr>\n",
       "      <th>3</th>\n",
       "      <td>\"It was very hard to follow last year's extrem...</td>\n",
       "      <td>Richard and Judy choose top books\\n\\nThe 10 au...</td>\n",
       "    </tr>\n",
       "    <tr>\n",
       "      <th>4</th>\n",
       "      <td>Mary Poppins was originally created by author ...</td>\n",
       "      <td>Poppins musical gets flying start\\n\\nThe stage...</td>\n",
       "    </tr>\n",
       "  </tbody>\n",
       "</table>\n",
       "</div>"
      ],
      "text/plain": [
       "                                            abstract  \\\n",
       "0  The messages will be \"unwrapped\" by sculptor R...   \n",
       "1  Bloom is to be formally presented with the Han...   \n",
       "2  The classic film It's A Wonderful Life is to b...   \n",
       "3  \"It was very hard to follow last year's extrem...   \n",
       "4  Mary Poppins was originally created by author ...   \n",
       "\n",
       "                                                text  \n",
       "0  Gallery unveils interactive tree\\n\\nA Christma...  \n",
       "1  Jarre joins fairytale celebration\\n\\nFrench mu...  \n",
       "2  Musical treatment for Capra film\\n\\nThe classi...  \n",
       "3  Richard and Judy choose top books\\n\\nThe 10 au...  \n",
       "4  Poppins musical gets flying start\\n\\nThe stage...  "
      ]
     },
     "execution_count": 9,
     "metadata": {},
     "output_type": "execute_result"
    }
   ],
   "source": [
    "df = pd.DataFrame(bbcdata)\n",
    "df.head()"
   ]
  },
  {
   "cell_type": "code",
   "execution_count": 10,
   "metadata": {},
   "outputs": [],
   "source": [
    "df.to_csv(\"data/bbc_test_data.csv\")"
   ]
  },
  {
   "cell_type": "code",
   "execution_count": null,
   "metadata": {},
   "outputs": [],
   "source": []
  }
 ],
 "metadata": {
  "kernelspec": {
   "display_name": "Python 3",
   "language": "python",
   "name": "python3"
  },
  "language_info": {
   "codemirror_mode": {
    "name": "ipython",
    "version": 3
   },
   "file_extension": ".py",
   "mimetype": "text/x-python",
   "name": "python",
   "nbconvert_exporter": "python",
   "pygments_lexer": "ipython3",
   "version": "3.7.4"
  }
 },
 "nbformat": 4,
 "nbformat_minor": 2
}
