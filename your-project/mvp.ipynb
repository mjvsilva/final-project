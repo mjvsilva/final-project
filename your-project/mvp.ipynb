{
 "cells": [
  {
   "cell_type": "code",
   "execution_count": 1,
   "metadata": {},
   "outputs": [],
   "source": [
    "import pandas as pd\n",
    "import numpy as np\n",
    "import string\n",
    "import re\n",
    "from functools import reduce\n",
    "import nltk\n",
    "from nltk.corpus import stopwords\n",
    "from sklearn.cluster import KMeans\n",
    "from sklearn.metrics import pairwise_distances_argmin_min\n",
    "import matplotlib.pyplot as plt\n",
    "import seaborn as sns"
   ]
  },
  {
   "cell_type": "markdown",
   "metadata": {},
   "source": [
    "[Unsupervised Text Summarization using Sentence Embeddings](https://medium.com/jatana/unsupervised-text-summarization-using-sentence-embeddings-adb15ce83db1)"
   ]
  },
  {
   "cell_type": "markdown",
   "metadata": {},
   "source": [
    "## Overview:\n",
    "\n",
    "The summarizer should follow this structure:\n",
    "\n",
    "```py\n",
    "def main(text):\n",
    "    clean_text = clean(text)\n",
    "    tokenized_text = tokenize(clean_text)\n",
    "    vector_list = vec_encode(tokenized_text)\n",
    "    clusters = cluster(vector_list)\n",
    "    summary = extract_most_meaningful(clusters)\n",
    "    return summary\n",
    "```\n"
   ]
  },
  {
   "cell_type": "code",
   "execution_count": 2,
   "metadata": {},
   "outputs": [],
   "source": [
    "%run \"resources/pretrained-skipthought-encoder/skipthoughts.py\""
   ]
  },
  {
   "cell_type": "code",
   "execution_count": 3,
   "metadata": {},
   "outputs": [
    {
     "name": "stdout",
     "output_type": "stream",
     "text": [
      "Loading model parameters...\n",
      "Compiling encoders...\n",
      "Loading tables...\n",
      "Packing up...\n"
     ]
    }
   ],
   "source": [
    "def init_encoder():\n",
    "    return Encoder(load_model())\n",
    "try: # has codec been initialized?\n",
    "    codec\n",
    "except NameError:\n",
    "    codec = init_encoder()"
   ]
  },
  {
   "cell_type": "code",
   "execution_count": 3,
   "metadata": {},
   "outputs": [],
   "source": [
    "test = \"Is this    a test?\\n \\t(No, it's only a sample.)\\n Testing!,  testing...\\n\"\n",
    "#test = \"Maria Eliza Rundell (1745 – 16 December 1828) was an English writer. In 1805 when she was over 60, she sent an unedited collection of recipes and household advice to her friend John Murray, of whose family owned a publishing house.\\n\\nMurray published the work, A New System of Domestic Cookery, in November 1805. It was a huge success and several editions followed; the book sold around half a million copies in Rundell's lifetime. The book was aimed at middle class housewives. In addition to dealing with food preparation, it offers advice on medical remedies and how to set up a home brewery and includes a section entitled \\\"Directions to Servants\\\". The book contains an early recipe for tomato sauce—possibly the first—and the first recipe in print for Scotch eggs. Rundell also advises readers on being economical with their food and avoiding waste.\\n\\nIn 1819 Rundell asked Murray to stop publishing Domestic Cookery, as she was increasingly unhappy with the way the work had declined with each subsequent edition. She wanted to issue a new edition with a new publisher. A court case ensued, and legal wrangling between the two sides continued until 1823, when Rundell accepted Murray's offer of £2,100 for the rights to the work.\\n\\nRundell wrote a second book, Letters Addressed to Two Absent Daughters, published in 1814. The work contains the advice a mother would give to her daughters on subjects such as death, friendship, how to behave in polite company and the types of books a well-mannered young woman should read. She died in December 1828 while visiting Lausanne, Switzerland.\"\n",
    "#test = \"HONG KONG — Police fired tear gas against protesters in Hong Kong before meetings Monday between the territory’s leader and Communist Party officials in Beijing, ending a lull in what have become regular clashes between riot squads and demonstrators.\\n\\nPolice said they fired the choking gas after unrest erupted Sunday night in the Mongkok district of Kowloon.\\n\\nProtesters threw bricks at officers and tossed traffic cones at a police vehicle, police said. They also set fires, blocked roads and smashed traffic lights with hammers.\\n\\nVideo footage showed truncheon-wielding riot officers squirting pepper spray at a man in a group of journalists and ganging up to beat and manhandle him.\\n\\nThe violence and scattered confrontations in shopping malls earlier Sunday, where police also squirted pepper spray and made several arrests, ended what had been a lull of a couple of weeks in clashes between police and protesters.\\n\\nThe uptick in tension came as Hong Kong leader Carrie Lam was in Beijing on Monday to brief President Xi Jinping on the situation in the semi-autonomous Chinese territory.\\n\\nHong Kong’s protest movement erupted in June against now-scrapped legislation that would have allowed criminal suspects to be extradited for trial in Communist Party-controlled courts in mainland China.\\n\\nIt has snowballed into a full-blow challenge to the government and Communist leaders in Beijing, with an array of demands, including that Hong Kong’s leader and legislators all be fully elected.\"\n",
    "#test = \"President Donald Trump's new trade deal with China will further integrate the world's two largest economies if Beijing honors its commitments in areas ranging from intellectual property protection to agriculture, U.S. Trade Representative Robert Lighthizer said Sunday.\\n\\n\\\"Ultimately, whether this whole agreement works is going to be determined by who's making the decisions in China, not in the United States,\\\" Lighthizer said on CBS News' \\\"Face the Nation.\\\" \\\"If the hardliners are making the decisions, we're going to get one outcome. If the reformers are making the decisions, which is what we hope, then we're going to get another outcome.\\\"\\n\\nThe \\\"phase one\\\" trade deal announced Friday cancels additional duties that were scheduled to go into effect Sunday, reduces duties on about $120 billion of Chinese goods to 7.5 percent, from 15 percent previously, and leaves a 25 percent duty in place on another $250 billion worth of Chinese goods.\\n\\nChina, in addition to making promises to better protect U.S. intellectual property, has pledged to buy another $200 billion worth of goods and services from the United States over the next two years, including about $40 billion to $50 billion worth of agricultural products each year.\\n\\n\\\"You could think of it as $80 to $100 billion in new sales for agriculture over the course of the next two years. Just massive numbers,\\\" Lighthizer said.\\n\\nThat has prompted questions about whether U.S. farmers can actually accommodate the increased demand, without siphoning sales away from other export markets they already have.\\n\\nFor much of the last two years, there has been a debate about whether Trump's true aim by imposing tariffs on hundreds of billions of dollars of Chinese good was to separate, or \\\"decouple,\\\" the U.S. economy from China, rather reach an actual trade agreement.\\n\\nOn Sunday, Lighthizer indicated the objective was to tie the two economies closer together.\\n\\n\\\"The way to think about this deal, is this is a first step in trying to integrate two very different systems to the benefit of both of us,\\\" the trade chief said.\\n\\nThe Trump administration also got another trade win last week when House Democrats and the AFL-CIO endorsed a newly revised North American trade agreement with Mexico and Canada, after changes were made to toughen labor enforcement provisions and weaken intellectual property protections for life-saving biologic medicine.\\n\\nSome of the tweaks made to shore up Democratic support have annoyed Republicans, who have different views of both issues. But that's not expected to block congressional approval. The House is expected to vote on the bill this week and the Senate to follow suit in early 2020, after it finishes Trump's impeachment trial.\\n\\nLighthizer conceded weakening the biologics provision made the trade deal worse on that point. But he said the overall package was \\\"better\\\" as a result of the changes demanded by Democrats.\\n\\n\\\"There's nothing about being against labor enforcement that's Republican,\\\" Lighthizer said. \\\"The president wants Mexico to enforce its labor laws. He doesn't want American manufacturing workers to have to compete with people who are in very difficult conditions.\\\"\""
   ]
  },
  {
   "cell_type": "code",
   "execution_count": 2,
   "metadata": {},
   "outputs": [],
   "source": [
    "# get official rouge\n",
    "%run \"resources/rouge-master/rouge/metrics.py\""
   ]
  },
  {
   "cell_type": "markdown",
   "metadata": {},
   "source": [
    "### clean(text)\n",
    "\n",
    "`clean(text)` removes newline characters and repeated whitespaces, returning a one-line string with all the text.\n",
    "\n",
    "In later versions, this function should consider that different texts have different structures.\n",
    "For example, it should remove signatures from emails, section headers or symbols separating sections of text.\n"
   ]
  },
  {
   "cell_type": "code",
   "execution_count": 4,
   "metadata": {},
   "outputs": [
    {
     "name": "stdout",
     "output_type": "stream",
     "text": [
      "|Is this a test? (No, it's only a sample.) Testing!, testing...|\n"
     ]
    }
   ],
   "source": [
    "def clean(text):\n",
    "    return re.sub(\"\\s+\", \" \", text).strip() #, text.replace(\".\", \". \").replace(\". . . \", \"... \")\n",
    "\n",
    "test2 = clean(test)\n",
    "print(\"|\" + test2 + \"|\")"
   ]
  },
  {
   "cell_type": "markdown",
   "metadata": {},
   "source": [
    "### tokenize(clean_text)\n",
    "\n",
    "`tokenize()` splits text and returns a list of sentences using NLTK's pre-trained Punkt Sentence Tokenizer.\n",
    "\n",
    "In later versions, this tokenizer model should be customised and perfected with PunktSentenceTokenizer(text).\n",
    "It might also be expanded to handle languages other than English as well."
   ]
  },
  {
   "cell_type": "code",
   "execution_count": 5,
   "metadata": {},
   "outputs": [
    {
     "name": "stdout",
     "output_type": "stream",
     "text": [
      "['Is this a test?', \"(No, it's only a sample.)\", 'Testing!, testing...']\n"
     ]
    }
   ],
   "source": [
    "def tokenize(text):\n",
    "    sent_detector = nltk.data.load('tokenizers/punkt/english.pickle')\n",
    "    return sent_detector.tokenize(text.strip())\n",
    "\n",
    "test3 = tokenize(test2)\n",
    "print(test3)"
   ]
  },
  {
   "cell_type": "markdown",
   "metadata": {},
   "source": [
    "### vec_encode(tokenized_text)\n",
    "\n",
    "`vec_encode(tokenized_text)` uses Skip-Thought Encoder to encode tokenized sentences into NumPy arrays.\n",
    "\n",
    "For this version, I will use the pre-trained model in the open-source code that the author of the skip-thoughts paper made available. It is a Python 2.7 script that I converted to Python 3.\n",
    "In future versions, I would train my own model. I would also look into a Quick Thought Vectors solution."
   ]
  },
  {
   "cell_type": "code",
   "execution_count": 8,
   "metadata": {},
   "outputs": [
    {
     "name": "stdout",
     "output_type": "stream",
     "text": [
      "(3, 4800)\n"
     ]
    }
   ],
   "source": [
    "def vec_encode(tokenized_text, encoder):\n",
    "    return encoder.encode(tokenized_text, verbose=False)\n",
    "\n",
    "test4 = vec_encode(test3, codec)\n",
    "print(test4.shape)"
   ]
  },
  {
   "cell_type": "markdown",
   "metadata": {},
   "source": [
    "### cluster(vector_list)\n",
    "\n",
    "`cluster(vector_list)` uses a KMeans model to cluster the given vectors."
   ]
  },
  {
   "cell_type": "code",
   "execution_count": 9,
   "metadata": {},
   "outputs": [
    {
     "name": "stdout",
     "output_type": "stream",
     "text": [
      "KMeans(algorithm='auto', copy_x=True, init='k-means++', max_iter=300,\n",
      "       n_clusters=3, n_init=10, n_jobs=-1, precompute_distances='auto',\n",
      "       random_state=0, tol=0.0001, verbose=0)\n"
     ]
    }
   ],
   "source": [
    "def cluster(vector_list, n_clusters=5):\n",
    "    n_clusters = abs(n_clusters)\n",
    "    if n_clusters == 0:   #default: 30% of the sentences of the original text\n",
    "        n_clusters = np.ceil(vector_list.shape[0]*0.3)\n",
    "    elif n_clusters<1:\n",
    "        n_clusters = np.ceil(vector_list.shape[0]*n_clusters)\n",
    "    elif n_clusters>vector_list.shape[0]:\n",
    "        n_clusters = vector_list.shape[0]\n",
    "    \n",
    "    model = KMeans(n_clusters=int(n_clusters), random_state=0, n_jobs=-1).fit(vector_list)\n",
    "    return model\n",
    "\n",
    "test5 = cluster(test4)\n",
    "print(test5)"
   ]
  },
  {
   "cell_type": "markdown",
   "metadata": {},
   "source": [
    "### extract_most_meaningful(clusters)\n",
    "\n",
    "`extract_most_meaningful(clusters)` selects and returns the most meaningful sentence in each cluster (i.e. the one closest to the cluster centre). These sentences are ordered according to the averaged sequence order in which they appear in the original text."
   ]
  },
  {
   "cell_type": "code",
   "execution_count": 10,
   "metadata": {},
   "outputs": [
    {
     "name": "stdout",
     "output_type": "stream",
     "text": [
      "Is this a test? (No, it's only a sample.) Testing!, testing...\n"
     ]
    }
   ],
   "source": [
    "def extract_most_meaningful(tokenized_text, vector_list, model):\n",
    "    extracted = []\n",
    "    for k in range(model.cluster_centers_.shape[0]):\n",
    "        index = np.where(model.labels_ == k)[0]\n",
    "        min_i,_ = pairwise_distances_argmin_min(model.cluster_centers_[k].reshape(1,-1), vector_list)\n",
    "        p_snt = tokenized_text[int(min_i)]\n",
    "        extracted.append((np.mean(index), p_snt))\n",
    "\n",
    "    extracted.sort(key=lambda x: x[0])\n",
    "    return \" \".join([s[1] for s in extracted])\n",
    "\n",
    "test6 = extract_most_meaningful(test3, test4, test5)\n",
    "print(test6)"
   ]
  },
  {
   "cell_type": "code",
   "execution_count": 11,
   "metadata": {},
   "outputs": [
    {
     "name": "stdout",
     "output_type": "stream",
     "text": [
      "Is this    a test?\n",
      " \t(No, it's only a sample.)\n",
      " Testing!,  testing...\n",
      "\n"
     ]
    }
   ],
   "source": [
    "print(test)"
   ]
  },
  {
   "cell_type": "markdown",
   "metadata": {},
   "source": [
    "## SUMMARIZER\n",
    "\n",
    "Given string `text` and sentence embedding encoder `encoder`, `summarizer` returns a string containing a summary of `text`. If `n_sentences` is defined, the summary will contain either exactly `n` sentences (if the absolute value of `n` is greater than or equal to 1) or `n` percent of the number of sentences in the text (if the absolute value of `n` is a number between 0 and 1. When `n` is 0, 30% of the number of sentences in the text is returned (default behaviour).\n",
    "\n",
    "Uses `clean(text)`, `tokenize(text)`, `vec_encode(text, encoder)`, `cluster(list)` and `extract_most_meaningful(list, list, model)` functions."
   ]
  },
  {
   "cell_type": "code",
   "execution_count": 12,
   "metadata": {},
   "outputs": [],
   "source": [
    "def summarizer(text, encoder, n_sentences=0):\n",
    "    clean_text = clean(text)\n",
    "    tokenized_text = tokenize(clean_text)\n",
    "    vector_list = vec_encode(tokenized_text, encoder)\n",
    "    model = cluster(vector_list, n_sentences)\n",
    "    summary = extract_most_meaningful(tokenized_text, vector_list, model)\n",
    "    return summary"
   ]
  },
  {
   "cell_type": "code",
   "execution_count": 13,
   "metadata": {},
   "outputs": [
    {
     "name": "stdout",
     "output_type": "stream",
     "text": [
      "Is this a test? (No, it's only a sample.) Testing!, testing...\n"
     ]
    }
   ],
   "source": [
    "test_summary = summarizer(test, codec, 5)\n",
    "print(test_summary)"
   ]
  },
  {
   "cell_type": "markdown",
   "metadata": {},
   "source": [
    "## Evaluating summarizer using ROUGE-1 and ROUGE-2"
   ]
  },
  {
   "cell_type": "markdown",
   "metadata": {},
   "source": [
    "### make_bow(text)\n",
    "\n",
    "Given string text, `make_bow(text)` removes capitalization, punctuation and splits words into a dictionary with the form `{word:count}`.\n",
    "\n",
    "Uses `clean(text)` function."
   ]
  },
  {
   "cell_type": "code",
   "execution_count": 6,
   "metadata": {},
   "outputs": [
    {
     "name": "stdout",
     "output_type": "stream",
     "text": [
      "{'test': 1, 'sample': 1, 'testing': 1}\n"
     ]
    },
    {
     "name": "stderr",
     "output_type": "stream",
     "text": [
      "[nltk_data] Downloading package stopwords to\n",
      "[nltk_data]     /Users/mjsilva/nltk_data...\n",
      "[nltk_data]   Package stopwords is already up-to-date!\n"
     ]
    }
   ],
   "source": [
    "nltk.download('stopwords')\n",
    "stop_words = stopwords.words('english')\n",
    "stop_words = set(stop_words)\n",
    "\n",
    "def make_bow(text):\n",
    "    ttable = str.maketrans(\"\\n\", \" \", string.punctuation)\n",
    "    words = clean(text.translate(ttable)).lower().split(\" \")\n",
    "    words = list(set(words) - stop_words - set(['']))\n",
    "    return {w:words.count(w) for w in words}\n",
    "\n",
    "print(make_bow(test))"
   ]
  },
  {
   "cell_type": "markdown",
   "metadata": {},
   "source": [
    "### get_rouge_score(text_pred, text_real)\n",
    "\n",
    "Model evaluation metrics. Given an automatically produced summary text_pred, `get_rouge_score` compares the words in it with the words in a second summary, following ROUGE-1. The function returns a tuple with (precision score, recall score, F2 score).\n",
    "\n",
    "(Note: the function calculates F2 score to give more weight to recall. The size of the two texts will vary, depending on the summarizer parameters, so the level of conciseness of text_pred is not as relevant.)\n",
    "\n",
    "Uses `make_bow` function."
   ]
  },
  {
   "cell_type": "code",
   "execution_count": 10,
   "metadata": {},
   "outputs": [
    {
     "name": "stdout",
     "output_type": "stream",
     "text": [
      "[0.0, 0.0, 0]\n"
     ]
    }
   ],
   "source": [
    "def get_rouge_score(text_pred, text_real):\n",
    "    bow_pred = make_bow(text_pred)\n",
    "    bow_real = make_bow(text_real)\n",
    "    \n",
    "    total_pred_words = reduce(lambda x,y: x+bow_pred[y], bow_pred.keys(), 0)\n",
    "    total_real_words = reduce(lambda x,y: x+bow_real[y], bow_real.keys(), 0)\n",
    "    \n",
    "    if total_pred_words==0:\n",
    "        total_pred_words=1\n",
    "    if total_real_words==0:\n",
    "        total_real_words=1\n",
    "    \n",
    "    overlapping_list = [min(bow_pred[k], bow_real[k]) for k in bow_pred.keys() if k in bow_real.keys()]\n",
    "    overlapping_words = sum(overlapping_list)\n",
    "    \n",
    "    precision = overlapping_words/total_pred_words\n",
    "    recall = overlapping_words/total_real_words\n",
    "    \n",
    "    f2_score = 5 * precision * recall / (4 * precision + recall) if (precision!=0 or recall!=0) else 0\n",
    "    \n",
    "    return [precision, recall, f2_score]\n",
    "\n",
    "test_summary=\"\"\n",
    "print(get_rouge_score(test_summary, test))"
   ]
  },
  {
   "cell_type": "code",
   "execution_count": 11,
   "metadata": {},
   "outputs": [],
   "source": [
    "# ROUGE score using script\n",
    "def score(pred_text, actual_text):\n",
    "    pred = [s.split() for s in tokenize(clean(pred_text))]\n",
    "    text = [s.split() for s in tokenize(clean(actual_text))]\n",
    "    \n",
    "    _, _, rouge_1 = rouge_n_summary_level(pred, text, 1)\n",
    "    _, _, rouge_2 = rouge_n_summary_level(pred, text, 2)\n",
    "    return rouge_1, rouge_2\n"
   ]
  },
  {
   "cell_type": "markdown",
   "metadata": {},
   "source": [
    "### Evaluating using TIPSTER test data"
   ]
  },
  {
   "cell_type": "code",
   "execution_count": 17,
   "metadata": {},
   "outputs": [
    {
     "data": {
      "text/html": [
       "<div>\n",
       "<style scoped>\n",
       "    .dataframe tbody tr th:only-of-type {\n",
       "        vertical-align: middle;\n",
       "    }\n",
       "\n",
       "    .dataframe tbody tr th {\n",
       "        vertical-align: top;\n",
       "    }\n",
       "\n",
       "    .dataframe thead th {\n",
       "        text-align: right;\n",
       "    }\n",
       "</style>\n",
       "<table border=\"1\" class=\"dataframe\">\n",
       "  <thead>\n",
       "    <tr style=\"text-align: right;\">\n",
       "      <th></th>\n",
       "      <th>abstract</th>\n",
       "      <th>text</th>\n",
       "    </tr>\n",
       "  </thead>\n",
       "  <tbody>\n",
       "    <tr>\n",
       "      <th>0</th>\n",
       "      <td>This paper presents an algorithm for tagging ...</td>\n",
       "      <td>Since online text becomes available in ever i...</td>\n",
       "    </tr>\n",
       "    <tr>\n",
       "      <th>1</th>\n",
       "      <td>The recognition problem for attribute-value g...</td>\n",
       "      <td>Although a universal feature theory does not ...</td>\n",
       "    </tr>\n",
       "    <tr>\n",
       "      <th>2</th>\n",
       "      <td>Eric Brill introduced transformation-based le...</td>\n",
       "      <td>Text chunking involves dividing sentences int...</td>\n",
       "    </tr>\n",
       "    <tr>\n",
       "      <th>3</th>\n",
       "      <td>We propose a paradigm for concurrent natural ...</td>\n",
       "      <td>Parallel and distributed computation is expec...</td>\n",
       "    </tr>\n",
       "    <tr>\n",
       "      <th>4</th>\n",
       "      <td>We propose an algorithm to resolve anaphors, ...</td>\n",
       "      <td>Intrasentential antecedents, i.e., antecedent...</td>\n",
       "    </tr>\n",
       "  </tbody>\n",
       "</table>\n",
       "</div>"
      ],
      "text/plain": [
       "                                            abstract  \\\n",
       "0   This paper presents an algorithm for tagging ...   \n",
       "1   The recognition problem for attribute-value g...   \n",
       "2   Eric Brill introduced transformation-based le...   \n",
       "3   We propose a paradigm for concurrent natural ...   \n",
       "4   We propose an algorithm to resolve anaphors, ...   \n",
       "\n",
       "                                                text  \n",
       "0   Since online text becomes available in ever i...  \n",
       "1   Although a universal feature theory does not ...  \n",
       "2   Text chunking involves dividing sentences int...  \n",
       "3   Parallel and distributed computation is expec...  \n",
       "4   Intrasentential antecedents, i.e., antecedent...  "
      ]
     },
     "execution_count": 17,
     "metadata": {},
     "output_type": "execute_result"
    }
   ],
   "source": [
    "df = pd.read_csv(\"data/tipster_test_data.csv\", index_col=0)\n",
    "df.head()"
   ]
  },
  {
   "cell_type": "code",
   "execution_count": 18,
   "metadata": {},
   "outputs": [],
   "source": [
    "df.dropna(axis=0, inplace=True)"
   ]
  },
  {
   "cell_type": "code",
   "execution_count": 19,
   "metadata": {},
   "outputs": [],
   "source": [
    "df[\"abstract_size\"] = df[\"abstract\"].map(lambda x: len(tokenize(clean(str(x)))))"
   ]
  },
  {
   "cell_type": "code",
   "execution_count": 20,
   "metadata": {},
   "outputs": [
    {
     "data": {
      "text/html": [
       "<div>\n",
       "<style scoped>\n",
       "    .dataframe tbody tr th:only-of-type {\n",
       "        vertical-align: middle;\n",
       "    }\n",
       "\n",
       "    .dataframe tbody tr th {\n",
       "        vertical-align: top;\n",
       "    }\n",
       "\n",
       "    .dataframe thead th {\n",
       "        text-align: right;\n",
       "    }\n",
       "</style>\n",
       "<table border=\"1\" class=\"dataframe\">\n",
       "  <thead>\n",
       "    <tr style=\"text-align: right;\">\n",
       "      <th></th>\n",
       "      <th>abstract</th>\n",
       "      <th>text</th>\n",
       "      <th>abstract_size</th>\n",
       "      <th>pred_summary</th>\n",
       "    </tr>\n",
       "  </thead>\n",
       "  <tbody>\n",
       "    <tr>\n",
       "      <th>0</th>\n",
       "      <td>This paper presents an algorithm for tagging ...</td>\n",
       "      <td>Since online text becomes available in ever i...</td>\n",
       "      <td>3</td>\n",
       "      <td>For example, verbs taking bare infinitives wer...</td>\n",
       "    </tr>\n",
       "    <tr>\n",
       "      <th>1</th>\n",
       "      <td>The recognition problem for attribute-value g...</td>\n",
       "      <td>Although a universal feature theory does not ...</td>\n",
       "      <td>4</td>\n",
       "      <td>The values of these properties are either atom...</td>\n",
       "    </tr>\n",
       "    <tr>\n",
       "      <th>2</th>\n",
       "      <td>Eric Brill introduced transformation-based le...</td>\n",
       "      <td>Text chunking involves dividing sentences int...</td>\n",
       "      <td>5</td>\n",
       "      <td>Bourigault claims that the grammar can parse `...</td>\n",
       "    </tr>\n",
       "    <tr>\n",
       "      <th>3</th>\n",
       "      <td>We propose a paradigm for concurrent natural ...</td>\n",
       "      <td>Parallel and distributed computation is expec...</td>\n",
       "      <td>5</td>\n",
       "      <td>We presuppose that two type variables and are ...</td>\n",
       "    </tr>\n",
       "    <tr>\n",
       "      <th>4</th>\n",
       "      <td>We propose an algorithm to resolve anaphors, ...</td>\n",
       "      <td>Intrasentential antecedents, i.e., antecedent...</td>\n",
       "      <td>5</td>\n",
       "      <td>The statistics below show that of 262 non-PRR ...</td>\n",
       "    </tr>\n",
       "  </tbody>\n",
       "</table>\n",
       "</div>"
      ],
      "text/plain": [
       "                                            abstract  \\\n",
       "0   This paper presents an algorithm for tagging ...   \n",
       "1   The recognition problem for attribute-value g...   \n",
       "2   Eric Brill introduced transformation-based le...   \n",
       "3   We propose a paradigm for concurrent natural ...   \n",
       "4   We propose an algorithm to resolve anaphors, ...   \n",
       "\n",
       "                                                text  abstract_size  \\\n",
       "0   Since online text becomes available in ever i...              3   \n",
       "1   Although a universal feature theory does not ...              4   \n",
       "2   Text chunking involves dividing sentences int...              5   \n",
       "3   Parallel and distributed computation is expec...              5   \n",
       "4   Intrasentential antecedents, i.e., antecedent...              5   \n",
       "\n",
       "                                        pred_summary  \n",
       "0  For example, verbs taking bare infinitives wer...  \n",
       "1  The values of these properties are either atom...  \n",
       "2  Bourigault claims that the grammar can parse `...  \n",
       "3  We presuppose that two type variables and are ...  \n",
       "4  The statistics below show that of 262 non-PRR ...  "
      ]
     },
     "execution_count": 20,
     "metadata": {},
     "output_type": "execute_result"
    }
   ],
   "source": [
    "df[\"pred_summary\"] = df.apply(lambda x: summarizer(x[\"text\"], codec, x[\"abstract_size\"]), axis=1)\n",
    "df.head()"
   ]
  },
  {
   "cell_type": "code",
   "execution_count": 21,
   "metadata": {},
   "outputs": [],
   "source": [
    "df.to_csv(\"data/tipster_with_predicted_summaries.csv\")"
   ]
  },
  {
   "cell_type": "code",
   "execution_count": 12,
   "metadata": {},
   "outputs": [
    {
     "data": {
      "text/html": [
       "<div>\n",
       "<style scoped>\n",
       "    .dataframe tbody tr th:only-of-type {\n",
       "        vertical-align: middle;\n",
       "    }\n",
       "\n",
       "    .dataframe tbody tr th {\n",
       "        vertical-align: top;\n",
       "    }\n",
       "\n",
       "    .dataframe thead th {\n",
       "        text-align: right;\n",
       "    }\n",
       "</style>\n",
       "<table border=\"1\" class=\"dataframe\">\n",
       "  <thead>\n",
       "    <tr style=\"text-align: right;\">\n",
       "      <th></th>\n",
       "      <th>abstract</th>\n",
       "      <th>text</th>\n",
       "      <th>abstract_size</th>\n",
       "      <th>pred_summary</th>\n",
       "      <th>nltk_pred_summary</th>\n",
       "    </tr>\n",
       "  </thead>\n",
       "  <tbody>\n",
       "    <tr>\n",
       "      <th>0</th>\n",
       "      <td>This paper presents an algorithm for tagging ...</td>\n",
       "      <td>Since online text becomes available in ever i...</td>\n",
       "      <td>3</td>\n",
       "      <td>For example, verbs taking bare infinitives wer...</td>\n",
       "      <td>The left and right context vectors are the bas...</td>\n",
       "    </tr>\n",
       "    <tr>\n",
       "      <th>1</th>\n",
       "      <td>The recognition problem for attribute-value g...</td>\n",
       "      <td>Although a universal feature theory does not ...</td>\n",
       "      <td>4</td>\n",
       "      <td>The values of these properties are either atom...</td>\n",
       "      <td>A CFG is in Greibach normalform (GNF) if, and ...</td>\n",
       "    </tr>\n",
       "    <tr>\n",
       "      <th>2</th>\n",
       "      <td>Eric Brill introduced transformation-based le...</td>\n",
       "      <td>Text chunking involves dividing sentences int...</td>\n",
       "      <td>5</td>\n",
       "      <td>Bourigault claims that the grammar can parse `...</td>\n",
       "      <td>The fact that this system includes lexical rul...</td>\n",
       "    </tr>\n",
       "    <tr>\n",
       "      <th>3</th>\n",
       "      <td>We propose a paradigm for concurrent natural ...</td>\n",
       "      <td>Parallel and distributed computation is expec...</td>\n",
       "      <td>5</td>\n",
       "      <td>We presuppose that two type variables and are ...</td>\n",
       "      <td>Suppose that we are required to compose all th...</td>\n",
       "    </tr>\n",
       "    <tr>\n",
       "      <th>4</th>\n",
       "      <td>We propose an algorithm to resolve anaphors, ...</td>\n",
       "      <td>Intrasentential antecedents, i.e., antecedent...</td>\n",
       "      <td>5</td>\n",
       "      <td>The statistics below show that of 262 non-PRR ...</td>\n",
       "      <td>In the following, remember that what we called...</td>\n",
       "    </tr>\n",
       "  </tbody>\n",
       "</table>\n",
       "</div>"
      ],
      "text/plain": [
       "                                            abstract  \\\n",
       "0   This paper presents an algorithm for tagging ...   \n",
       "1   The recognition problem for attribute-value g...   \n",
       "2   Eric Brill introduced transformation-based le...   \n",
       "3   We propose a paradigm for concurrent natural ...   \n",
       "4   We propose an algorithm to resolve anaphors, ...   \n",
       "\n",
       "                                                text  abstract_size  \\\n",
       "0   Since online text becomes available in ever i...              3   \n",
       "1   Although a universal feature theory does not ...              4   \n",
       "2   Text chunking involves dividing sentences int...              5   \n",
       "3   Parallel and distributed computation is expec...              5   \n",
       "4   Intrasentential antecedents, i.e., antecedent...              5   \n",
       "\n",
       "                                        pred_summary  \\\n",
       "0  For example, verbs taking bare infinitives wer...   \n",
       "1  The values of these properties are either atom...   \n",
       "2  Bourigault claims that the grammar can parse `...   \n",
       "3  We presuppose that two type variables and are ...   \n",
       "4  The statistics below show that of 262 non-PRR ...   \n",
       "\n",
       "                                   nltk_pred_summary  \n",
       "0  The left and right context vectors are the bas...  \n",
       "1  A CFG is in Greibach normalform (GNF) if, and ...  \n",
       "2  The fact that this system includes lexical rul...  \n",
       "3  Suppose that we are required to compose all th...  \n",
       "4  In the following, remember that what we called...  "
      ]
     },
     "execution_count": 12,
     "metadata": {},
     "output_type": "execute_result"
    }
   ],
   "source": [
    "df = pd.read_csv(\"data/tipster_with_predicted_summaries.csv\", index_col=0)\n",
    "df.head()"
   ]
  },
  {
   "cell_type": "code",
   "execution_count": 13,
   "metadata": {},
   "outputs": [
    {
     "data": {
      "text/html": [
       "<div>\n",
       "<style scoped>\n",
       "    .dataframe tbody tr th:only-of-type {\n",
       "        vertical-align: middle;\n",
       "    }\n",
       "\n",
       "    .dataframe tbody tr th {\n",
       "        vertical-align: top;\n",
       "    }\n",
       "\n",
       "    .dataframe thead th {\n",
       "        text-align: right;\n",
       "    }\n",
       "</style>\n",
       "<table border=\"1\" class=\"dataframe\">\n",
       "  <thead>\n",
       "    <tr style=\"text-align: right;\">\n",
       "      <th></th>\n",
       "      <th>abstract</th>\n",
       "      <th>text</th>\n",
       "      <th>abstract_size</th>\n",
       "      <th>pred_summary</th>\n",
       "      <th>nltk_pred_summary</th>\n",
       "      <th>pred_summary_score</th>\n",
       "      <th>my_pred_summary_score</th>\n",
       "    </tr>\n",
       "  </thead>\n",
       "  <tbody>\n",
       "    <tr>\n",
       "      <th>0</th>\n",
       "      <td>This paper presents an algorithm for tagging ...</td>\n",
       "      <td>Since online text becomes available in ever i...</td>\n",
       "      <td>3</td>\n",
       "      <td>For example, verbs taking bare infinitives wer...</td>\n",
       "      <td>The left and right context vectors are the bas...</td>\n",
       "      <td>(0.1758241758241758, 0.022471910112359553)</td>\n",
       "      <td>[0.12121212121212122, 0.19047619047619047, 0.1...</td>\n",
       "    </tr>\n",
       "    <tr>\n",
       "      <th>1</th>\n",
       "      <td>The recognition problem for attribute-value g...</td>\n",
       "      <td>Although a universal feature theory does not ...</td>\n",
       "      <td>4</td>\n",
       "      <td>The values of these properties are either atom...</td>\n",
       "      <td>A CFG is in Greibach normalform (GNF) if, and ...</td>\n",
       "      <td>(0.2368421052631579, 0.013333333333333336)</td>\n",
       "      <td>[0.04, 0.022222222222222223, 0.024390243902439...</td>\n",
       "    </tr>\n",
       "    <tr>\n",
       "      <th>2</th>\n",
       "      <td>Eric Brill introduced transformation-based le...</td>\n",
       "      <td>Text chunking involves dividing sentences int...</td>\n",
       "      <td>5</td>\n",
       "      <td>Bourigault claims that the grammar can parse `...</td>\n",
       "      <td>The fact that this system includes lexical rul...</td>\n",
       "      <td>(0.23645320197044334, 0.01990049751243781)</td>\n",
       "      <td>[0.09433962264150944, 0.0847457627118644, 0.08...</td>\n",
       "    </tr>\n",
       "    <tr>\n",
       "      <th>3</th>\n",
       "      <td>We propose a paradigm for concurrent natural ...</td>\n",
       "      <td>Parallel and distributed computation is expec...</td>\n",
       "      <td>5</td>\n",
       "      <td>We presuppose that two type variables and are ...</td>\n",
       "      <td>Suppose that we are required to compose all th...</td>\n",
       "      <td>(0.26865671641791045, 0.030303030303030304)</td>\n",
       "      <td>[0.16129032258064516, 0.10638297872340426, 0.1...</td>\n",
       "    </tr>\n",
       "    <tr>\n",
       "      <th>4</th>\n",
       "      <td>We propose an algorithm to resolve anaphors, ...</td>\n",
       "      <td>Intrasentential antecedents, i.e., antecedent...</td>\n",
       "      <td>5</td>\n",
       "      <td>The statistics below show that of 262 non-PRR ...</td>\n",
       "      <td>In the following, remember that what we called...</td>\n",
       "      <td>(0.25333333333333335, 0.05405405405405405)</td>\n",
       "      <td>[0.15, 0.17647058823529413, 0.17045454545454544]</td>\n",
       "    </tr>\n",
       "  </tbody>\n",
       "</table>\n",
       "</div>"
      ],
      "text/plain": [
       "                                            abstract  \\\n",
       "0   This paper presents an algorithm for tagging ...   \n",
       "1   The recognition problem for attribute-value g...   \n",
       "2   Eric Brill introduced transformation-based le...   \n",
       "3   We propose a paradigm for concurrent natural ...   \n",
       "4   We propose an algorithm to resolve anaphors, ...   \n",
       "\n",
       "                                                text  abstract_size  \\\n",
       "0   Since online text becomes available in ever i...              3   \n",
       "1   Although a universal feature theory does not ...              4   \n",
       "2   Text chunking involves dividing sentences int...              5   \n",
       "3   Parallel and distributed computation is expec...              5   \n",
       "4   Intrasentential antecedents, i.e., antecedent...              5   \n",
       "\n",
       "                                        pred_summary  \\\n",
       "0  For example, verbs taking bare infinitives wer...   \n",
       "1  The values of these properties are either atom...   \n",
       "2  Bourigault claims that the grammar can parse `...   \n",
       "3  We presuppose that two type variables and are ...   \n",
       "4  The statistics below show that of 262 non-PRR ...   \n",
       "\n",
       "                                   nltk_pred_summary  \\\n",
       "0  The left and right context vectors are the bas...   \n",
       "1  A CFG is in Greibach normalform (GNF) if, and ...   \n",
       "2  The fact that this system includes lexical rul...   \n",
       "3  Suppose that we are required to compose all th...   \n",
       "4  In the following, remember that what we called...   \n",
       "\n",
       "                            pred_summary_score  \\\n",
       "0   (0.1758241758241758, 0.022471910112359553)   \n",
       "1   (0.2368421052631579, 0.013333333333333336)   \n",
       "2   (0.23645320197044334, 0.01990049751243781)   \n",
       "3  (0.26865671641791045, 0.030303030303030304)   \n",
       "4   (0.25333333333333335, 0.05405405405405405)   \n",
       "\n",
       "                               my_pred_summary_score  \n",
       "0  [0.12121212121212122, 0.19047619047619047, 0.1...  \n",
       "1  [0.04, 0.022222222222222223, 0.024390243902439...  \n",
       "2  [0.09433962264150944, 0.0847457627118644, 0.08...  \n",
       "3  [0.16129032258064516, 0.10638297872340426, 0.1...  \n",
       "4   [0.15, 0.17647058823529413, 0.17045454545454544]  "
      ]
     },
     "execution_count": 13,
     "metadata": {},
     "output_type": "execute_result"
    }
   ],
   "source": [
    "df[\"pred_summary_score\"] = df.apply(lambda x: score(x[\"pred_summary\"], x[\"abstract\"]), axis=1)\n",
    "df[\"my_pred_summary_score\"] = df.apply(lambda x: get_rouge_score(x[\"pred_summary\"], x[\"abstract\"]), axis=1)\n",
    "df.head()"
   ]
  },
  {
   "cell_type": "code",
   "execution_count": 14,
   "metadata": {},
   "outputs": [],
   "source": [
    "rouge1 = [a[0] for a in df[\"pred_summary_score\"].values]\n",
    "rouge2 = [a[1] for a in df[\"pred_summary_score\"].values]\n",
    "\n",
    "my_precisions = [a[0] for a in df[\"my_pred_summary_score\"].values]\n",
    "my_recalls = [a[1] for a in df[\"my_pred_summary_score\"].values]\n",
    "#f2s = [a[2] for a in df[\"my_pred_summary_score\"].values]\n",
    "\n",
    "x = list(range(len(my_precisions)))"
   ]
  },
  {
   "cell_type": "code",
   "execution_count": 15,
   "metadata": {},
   "outputs": [
    {
     "data": {
      "image/png": "[encoded data removed]",
      "text/plain": [
       "<Figure size 864x288 with 2 Axes>"
      ]
     },
     "metadata": {
      "needs_background": "light"
     },
     "output_type": "display_data"
    }
   ],
   "source": [
    "fig, axs = plt.subplots(1, 2, figsize=(12, 4))\n",
    "\n",
    "#axs[0,0].scatter(x, rouge1)\n",
    "#axs[0,0].set_ylim(0,1)\n",
    "#axs[0,0].get_xaxis().set_visible(False)\n",
    "#\n",
    "#axs[0,1].scatter(x, rouge2)\n",
    "#axs[0,1].set_ylim(0,1)\n",
    "#axs[0,1].get_xaxis().set_visible(False)\n",
    "\n",
    "axs[0].scatter(x, my_precisions, color='#da33ff')\n",
    "axs[0].set_ylim(0,1)\n",
    "axs[0].set_xlim(0,150)\n",
    "#axs[0].get_xaxis().set_visible(False)\n",
    "\n",
    "axs[1].scatter(x, my_recalls, color='#60e18a')\n",
    "axs[1].set_ylim(0,1)\n",
    "axs[1].set_xlim(0,150)\n",
    "#axs[1].get_xaxis().set_visible(False)\n",
    "\n",
    "#sns.regplot(x, my_precisions, scatter=True, ax=axs[1,0])\n",
    "#sns.regplot(x, my_recalls, scatter=True, ax=axs[1,1])\n",
    "#sns.regplot(x, f2s, scatter=True, ax=axs[2])\n",
    "\n",
    "plt.savefig(\"presentation/ml_tipster.png\")\n",
    "plt.show()"
   ]
  },
  {
   "cell_type": "code",
   "execution_count": 38,
   "metadata": {},
   "outputs": [],
   "source": [
    "df[[\"pred_summary_score\", \"my_pred_summary_score\"]].to_csv(\"data/tipster_ml_scores.csv\")"
   ]
  },
  {
   "cell_type": "markdown",
   "metadata": {},
   "source": [
    "### Evaluating using BBC NEWS test data"
   ]
  },
  {
   "cell_type": "code",
   "execution_count": 20,
   "metadata": {},
   "outputs": [
    {
     "data": {
      "text/html": [
       "<div>\n",
       "<style scoped>\n",
       "    .dataframe tbody tr th:only-of-type {\n",
       "        vertical-align: middle;\n",
       "    }\n",
       "\n",
       "    .dataframe tbody tr th {\n",
       "        vertical-align: top;\n",
       "    }\n",
       "\n",
       "    .dataframe thead th {\n",
       "        text-align: right;\n",
       "    }\n",
       "</style>\n",
       "<table border=\"1\" class=\"dataframe\">\n",
       "  <thead>\n",
       "    <tr style=\"text-align: right;\">\n",
       "      <th></th>\n",
       "      <th>abstract</th>\n",
       "      <th>text</th>\n",
       "    </tr>\n",
       "  </thead>\n",
       "  <tbody>\n",
       "    <tr>\n",
       "      <th>0</th>\n",
       "      <td>The messages will be \"unwrapped\" by sculptor R...</td>\n",
       "      <td>Gallery unveils interactive tree\\n\\nA Christma...</td>\n",
       "    </tr>\n",
       "    <tr>\n",
       "      <th>1</th>\n",
       "      <td>Bloom is to be formally presented with the Han...</td>\n",
       "      <td>Jarre joins fairytale celebration\\n\\nFrench mu...</td>\n",
       "    </tr>\n",
       "    <tr>\n",
       "      <th>2</th>\n",
       "      <td>The classic film It's A Wonderful Life is to b...</td>\n",
       "      <td>Musical treatment for Capra film\\n\\nThe classi...</td>\n",
       "    </tr>\n",
       "    <tr>\n",
       "      <th>3</th>\n",
       "      <td>\"It was very hard to follow last year's extrem...</td>\n",
       "      <td>Richard and Judy choose top books\\n\\nThe 10 au...</td>\n",
       "    </tr>\n",
       "    <tr>\n",
       "      <th>4</th>\n",
       "      <td>Mary Poppins was originally created by author ...</td>\n",
       "      <td>Poppins musical gets flying start\\n\\nThe stage...</td>\n",
       "    </tr>\n",
       "  </tbody>\n",
       "</table>\n",
       "</div>"
      ],
      "text/plain": [
       "                                            abstract  \\\n",
       "0  The messages will be \"unwrapped\" by sculptor R...   \n",
       "1  Bloom is to be formally presented with the Han...   \n",
       "2  The classic film It's A Wonderful Life is to b...   \n",
       "3  \"It was very hard to follow last year's extrem...   \n",
       "4  Mary Poppins was originally created by author ...   \n",
       "\n",
       "                                                text  \n",
       "0  Gallery unveils interactive tree\\n\\nA Christma...  \n",
       "1  Jarre joins fairytale celebration\\n\\nFrench mu...  \n",
       "2  Musical treatment for Capra film\\n\\nThe classi...  \n",
       "3  Richard and Judy choose top books\\n\\nThe 10 au...  \n",
       "4  Poppins musical gets flying start\\n\\nThe stage...  "
      ]
     },
     "execution_count": 20,
     "metadata": {},
     "output_type": "execute_result"
    }
   ],
   "source": [
    "df2 = pd.read_csv(\"data/bbc_test_data.csv\", index_col=0)\n",
    "df2.head()"
   ]
  },
  {
   "cell_type": "code",
   "execution_count": 21,
   "metadata": {},
   "outputs": [],
   "source": [
    "df2.dropna(axis=0, inplace=True)"
   ]
  },
  {
   "cell_type": "code",
   "execution_count": 22,
   "metadata": {},
   "outputs": [],
   "source": [
    "df2[\"abstract_size\"] = df2[\"abstract\"].map(lambda x: len(tokenize(clean(str(x)))))"
   ]
  },
  {
   "cell_type": "code",
   "execution_count": 23,
   "metadata": {},
   "outputs": [
    {
     "data": {
      "text/html": [
       "<div>\n",
       "<style scoped>\n",
       "    .dataframe tbody tr th:only-of-type {\n",
       "        vertical-align: middle;\n",
       "    }\n",
       "\n",
       "    .dataframe tbody tr th {\n",
       "        vertical-align: top;\n",
       "    }\n",
       "\n",
       "    .dataframe thead th {\n",
       "        text-align: right;\n",
       "    }\n",
       "</style>\n",
       "<table border=\"1\" class=\"dataframe\">\n",
       "  <thead>\n",
       "    <tr style=\"text-align: right;\">\n",
       "      <th></th>\n",
       "      <th>abstract</th>\n",
       "      <th>text</th>\n",
       "      <th>abstract_size</th>\n",
       "      <th>pred_summary</th>\n",
       "    </tr>\n",
       "  </thead>\n",
       "  <tbody>\n",
       "    <tr>\n",
       "      <th>0</th>\n",
       "      <td>The messages will be \"unwrapped\" by sculptor R...</td>\n",
       "      <td>Gallery unveils interactive tree\\n\\nA Christma...</td>\n",
       "      <td>5</td>\n",
       "      <td>The messages will be \"unwrapped\" by sculptor R...</td>\n",
       "    </tr>\n",
       "    <tr>\n",
       "      <th>1</th>\n",
       "      <td>Bloom is to be formally presented with the Han...</td>\n",
       "      <td>Jarre joins fairytale celebration\\n\\nFrench mu...</td>\n",
       "      <td>6</td>\n",
       "      <td>Jarre joins fairytale celebration French music...</td>\n",
       "    </tr>\n",
       "    <tr>\n",
       "      <th>2</th>\n",
       "      <td>The classic film It's A Wonderful Life is to b...</td>\n",
       "      <td>Musical treatment for Capra film\\n\\nThe classi...</td>\n",
       "      <td>4</td>\n",
       "      <td>Frank Capra's 1946 movie starring James Stewar...</td>\n",
       "    </tr>\n",
       "    <tr>\n",
       "      <th>3</th>\n",
       "      <td>\"It was very hard to follow last year's extrem...</td>\n",
       "      <td>Richard and Judy choose top books\\n\\nThe 10 au...</td>\n",
       "      <td>5</td>\n",
       "      <td>Richard and Judy choose top books The 10 autho...</td>\n",
       "    </tr>\n",
       "    <tr>\n",
       "      <th>4</th>\n",
       "      <td>Mary Poppins was originally created by author ...</td>\n",
       "      <td>Poppins musical gets flying start\\n\\nThe stage...</td>\n",
       "      <td>4</td>\n",
       "      <td>Lead actress Laura Michelle Kelly soared over ...</td>\n",
       "    </tr>\n",
       "  </tbody>\n",
       "</table>\n",
       "</div>"
      ],
      "text/plain": [
       "                                            abstract  \\\n",
       "0  The messages will be \"unwrapped\" by sculptor R...   \n",
       "1  Bloom is to be formally presented with the Han...   \n",
       "2  The classic film It's A Wonderful Life is to b...   \n",
       "3  \"It was very hard to follow last year's extrem...   \n",
       "4  Mary Poppins was originally created by author ...   \n",
       "\n",
       "                                                text  abstract_size  \\\n",
       "0  Gallery unveils interactive tree\\n\\nA Christma...              5   \n",
       "1  Jarre joins fairytale celebration\\n\\nFrench mu...              6   \n",
       "2  Musical treatment for Capra film\\n\\nThe classi...              4   \n",
       "3  Richard and Judy choose top books\\n\\nThe 10 au...              5   \n",
       "4  Poppins musical gets flying start\\n\\nThe stage...              4   \n",
       "\n",
       "                                        pred_summary  \n",
       "0  The messages will be \"unwrapped\" by sculptor R...  \n",
       "1  Jarre joins fairytale celebration French music...  \n",
       "2  Frank Capra's 1946 movie starring James Stewar...  \n",
       "3  Richard and Judy choose top books The 10 autho...  \n",
       "4  Lead actress Laura Michelle Kelly soared over ...  "
      ]
     },
     "execution_count": 23,
     "metadata": {},
     "output_type": "execute_result"
    }
   ],
   "source": [
    "df2[\"pred_summary\"] = df2.apply(lambda x: summarizer(x[\"text\"], codec, x[\"abstract_size\"]), axis=1)\n",
    "df2.head()"
   ]
  },
  {
   "cell_type": "code",
   "execution_count": 24,
   "metadata": {},
   "outputs": [],
   "source": [
    "df2.to_csv(\"data/bbc_with_predicted_summaries.csv\")"
   ]
  },
  {
   "cell_type": "code",
   "execution_count": 16,
   "metadata": {
    "scrolled": true
   },
   "outputs": [
    {
     "data": {
      "text/html": [
       "<div>\n",
       "<style scoped>\n",
       "    .dataframe tbody tr th:only-of-type {\n",
       "        vertical-align: middle;\n",
       "    }\n",
       "\n",
       "    .dataframe tbody tr th {\n",
       "        vertical-align: top;\n",
       "    }\n",
       "\n",
       "    .dataframe thead th {\n",
       "        text-align: right;\n",
       "    }\n",
       "</style>\n",
       "<table border=\"1\" class=\"dataframe\">\n",
       "  <thead>\n",
       "    <tr style=\"text-align: right;\">\n",
       "      <th></th>\n",
       "      <th>abstract</th>\n",
       "      <th>text</th>\n",
       "      <th>abstract_size</th>\n",
       "      <th>pred_summary</th>\n",
       "      <th>nltk_pred_summary</th>\n",
       "    </tr>\n",
       "  </thead>\n",
       "  <tbody>\n",
       "    <tr>\n",
       "      <th>0</th>\n",
       "      <td>The messages will be \"unwrapped\" by sculptor R...</td>\n",
       "      <td>Gallery unveils interactive tree\\n\\nA Christma...</td>\n",
       "      <td>5</td>\n",
       "      <td>The messages will be \"unwrapped\" by sculptor R...</td>\n",
       "      <td>Gallery unveils interactive tree A Christmas t...</td>\n",
       "    </tr>\n",
       "    <tr>\n",
       "      <th>1</th>\n",
       "      <td>Bloom is to be formally presented with the Han...</td>\n",
       "      <td>Jarre joins fairytale celebration\\n\\nFrench mu...</td>\n",
       "      <td>6</td>\n",
       "      <td>Jarre joins fairytale celebration French music...</td>\n",
       "      <td>Jarre joins fairytale celebration French music...</td>\n",
       "    </tr>\n",
       "    <tr>\n",
       "      <th>2</th>\n",
       "      <td>The classic film It's A Wonderful Life is to b...</td>\n",
       "      <td>Musical treatment for Capra film\\n\\nThe classi...</td>\n",
       "      <td>4</td>\n",
       "      <td>Frank Capra's 1946 movie starring James Stewar...</td>\n",
       "      <td>Musical treatment for Capra film The classic f...</td>\n",
       "    </tr>\n",
       "    <tr>\n",
       "      <th>3</th>\n",
       "      <td>\"It was very hard to follow last year's extrem...</td>\n",
       "      <td>Richard and Judy choose top books\\n\\nThe 10 au...</td>\n",
       "      <td>5</td>\n",
       "      <td>Richard and Judy choose top books The 10 autho...</td>\n",
       "      <td>\"It was very hard to follow last year's extrem...</td>\n",
       "    </tr>\n",
       "    <tr>\n",
       "      <th>4</th>\n",
       "      <td>Mary Poppins was originally created by author ...</td>\n",
       "      <td>Poppins musical gets flying start\\n\\nThe stage...</td>\n",
       "      <td>4</td>\n",
       "      <td>Lead actress Laura Michelle Kelly soared over ...</td>\n",
       "      <td>Poppins musical gets flying start The stage ad...</td>\n",
       "    </tr>\n",
       "  </tbody>\n",
       "</table>\n",
       "</div>"
      ],
      "text/plain": [
       "                                            abstract  \\\n",
       "0  The messages will be \"unwrapped\" by sculptor R...   \n",
       "1  Bloom is to be formally presented with the Han...   \n",
       "2  The classic film It's A Wonderful Life is to b...   \n",
       "3  \"It was very hard to follow last year's extrem...   \n",
       "4  Mary Poppins was originally created by author ...   \n",
       "\n",
       "                                                text  abstract_size  \\\n",
       "0  Gallery unveils interactive tree\\n\\nA Christma...              5   \n",
       "1  Jarre joins fairytale celebration\\n\\nFrench mu...              6   \n",
       "2  Musical treatment for Capra film\\n\\nThe classi...              4   \n",
       "3  Richard and Judy choose top books\\n\\nThe 10 au...              5   \n",
       "4  Poppins musical gets flying start\\n\\nThe stage...              4   \n",
       "\n",
       "                                        pred_summary  \\\n",
       "0  The messages will be \"unwrapped\" by sculptor R...   \n",
       "1  Jarre joins fairytale celebration French music...   \n",
       "2  Frank Capra's 1946 movie starring James Stewar...   \n",
       "3  Richard and Judy choose top books The 10 autho...   \n",
       "4  Lead actress Laura Michelle Kelly soared over ...   \n",
       "\n",
       "                                   nltk_pred_summary  \n",
       "0  Gallery unveils interactive tree A Christmas t...  \n",
       "1  Jarre joins fairytale celebration French music...  \n",
       "2  Musical treatment for Capra film The classic f...  \n",
       "3  \"It was very hard to follow last year's extrem...  \n",
       "4  Poppins musical gets flying start The stage ad...  "
      ]
     },
     "execution_count": 16,
     "metadata": {},
     "output_type": "execute_result"
    }
   ],
   "source": [
    "df2 = pd.read_csv(\"data/bbc_with_predicted_summaries.csv\", index_col=0)\n",
    "df2.head()"
   ]
  },
  {
   "cell_type": "code",
   "execution_count": 17,
   "metadata": {},
   "outputs": [
    {
     "data": {
      "text/html": [
       "<div>\n",
       "<style scoped>\n",
       "    .dataframe tbody tr th:only-of-type {\n",
       "        vertical-align: middle;\n",
       "    }\n",
       "\n",
       "    .dataframe tbody tr th {\n",
       "        vertical-align: top;\n",
       "    }\n",
       "\n",
       "    .dataframe thead th {\n",
       "        text-align: right;\n",
       "    }\n",
       "</style>\n",
       "<table border=\"1\" class=\"dataframe\">\n",
       "  <thead>\n",
       "    <tr style=\"text-align: right;\">\n",
       "      <th></th>\n",
       "      <th>abstract</th>\n",
       "      <th>text</th>\n",
       "      <th>abstract_size</th>\n",
       "      <th>pred_summary</th>\n",
       "      <th>nltk_pred_summary</th>\n",
       "      <th>pred_summary_score</th>\n",
       "      <th>my_pred_summary_score</th>\n",
       "    </tr>\n",
       "  </thead>\n",
       "  <tbody>\n",
       "    <tr>\n",
       "      <th>0</th>\n",
       "      <td>The messages will be \"unwrapped\" by sculptor R...</td>\n",
       "      <td>Gallery unveils interactive tree\\n\\nA Christma...</td>\n",
       "      <td>5</td>\n",
       "      <td>The messages will be \"unwrapped\" by sculptor R...</td>\n",
       "      <td>Gallery unveils interactive tree A Christmas t...</td>\n",
       "      <td>(0.7830687830687831, 0.7486631016042781)</td>\n",
       "      <td>[0.7391304347826086, 0.7727272727272727, 0.765...</td>\n",
       "    </tr>\n",
       "    <tr>\n",
       "      <th>1</th>\n",
       "      <td>Bloom is to be formally presented with the Han...</td>\n",
       "      <td>Jarre joins fairytale celebration\\n\\nFrench mu...</td>\n",
       "      <td>6</td>\n",
       "      <td>Jarre joins fairytale celebration French music...</td>\n",
       "      <td>Jarre joins fairytale celebration French music...</td>\n",
       "      <td>(0.5700934579439253, 0.42452830188679247)</td>\n",
       "      <td>[0.5, 0.5614035087719298, 0.547945205479452]</td>\n",
       "    </tr>\n",
       "    <tr>\n",
       "      <th>2</th>\n",
       "      <td>The classic film It's A Wonderful Life is to b...</td>\n",
       "      <td>Musical treatment for Capra film\\n\\nThe classi...</td>\n",
       "      <td>4</td>\n",
       "      <td>Frank Capra's 1946 movie starring James Stewar...</td>\n",
       "      <td>Musical treatment for Capra film The classic f...</td>\n",
       "      <td>(0.6508875739644971, 0.5389221556886228)</td>\n",
       "      <td>[0.5681818181818182, 0.6097560975609756, 0.600...</td>\n",
       "    </tr>\n",
       "    <tr>\n",
       "      <th>3</th>\n",
       "      <td>\"It was very hard to follow last year's extrem...</td>\n",
       "      <td>Richard and Judy choose top books\\n\\nThe 10 au...</td>\n",
       "      <td>5</td>\n",
       "      <td>Richard and Judy choose top books The 10 autho...</td>\n",
       "      <td>\"It was very hard to follow last year's extrem...</td>\n",
       "      <td>(0.6577777777777778, 0.5919282511210764)</td>\n",
       "      <td>[0.5666666666666667, 0.576271186440678, 0.5743...</td>\n",
       "    </tr>\n",
       "    <tr>\n",
       "      <th>4</th>\n",
       "      <td>Mary Poppins was originally created by author ...</td>\n",
       "      <td>Poppins musical gets flying start\\n\\nThe stage...</td>\n",
       "      <td>4</td>\n",
       "      <td>Lead actress Laura Michelle Kelly soared over ...</td>\n",
       "      <td>Poppins musical gets flying start The stage ad...</td>\n",
       "      <td>(0.326797385620915, 0.1986754966887417)</td>\n",
       "      <td>[0.25, 0.2727272727272727, 0.26785714285714285]</td>\n",
       "    </tr>\n",
       "  </tbody>\n",
       "</table>\n",
       "</div>"
      ],
      "text/plain": [
       "                                            abstract  \\\n",
       "0  The messages will be \"unwrapped\" by sculptor R...   \n",
       "1  Bloom is to be formally presented with the Han...   \n",
       "2  The classic film It's A Wonderful Life is to b...   \n",
       "3  \"It was very hard to follow last year's extrem...   \n",
       "4  Mary Poppins was originally created by author ...   \n",
       "\n",
       "                                                text  abstract_size  \\\n",
       "0  Gallery unveils interactive tree\\n\\nA Christma...              5   \n",
       "1  Jarre joins fairytale celebration\\n\\nFrench mu...              6   \n",
       "2  Musical treatment for Capra film\\n\\nThe classi...              4   \n",
       "3  Richard and Judy choose top books\\n\\nThe 10 au...              5   \n",
       "4  Poppins musical gets flying start\\n\\nThe stage...              4   \n",
       "\n",
       "                                        pred_summary  \\\n",
       "0  The messages will be \"unwrapped\" by sculptor R...   \n",
       "1  Jarre joins fairytale celebration French music...   \n",
       "2  Frank Capra's 1946 movie starring James Stewar...   \n",
       "3  Richard and Judy choose top books The 10 autho...   \n",
       "4  Lead actress Laura Michelle Kelly soared over ...   \n",
       "\n",
       "                                   nltk_pred_summary  \\\n",
       "0  Gallery unveils interactive tree A Christmas t...   \n",
       "1  Jarre joins fairytale celebration French music...   \n",
       "2  Musical treatment for Capra film The classic f...   \n",
       "3  \"It was very hard to follow last year's extrem...   \n",
       "4  Poppins musical gets flying start The stage ad...   \n",
       "\n",
       "                          pred_summary_score  \\\n",
       "0   (0.7830687830687831, 0.7486631016042781)   \n",
       "1  (0.5700934579439253, 0.42452830188679247)   \n",
       "2   (0.6508875739644971, 0.5389221556886228)   \n",
       "3   (0.6577777777777778, 0.5919282511210764)   \n",
       "4    (0.326797385620915, 0.1986754966887417)   \n",
       "\n",
       "                               my_pred_summary_score  \n",
       "0  [0.7391304347826086, 0.7727272727272727, 0.765...  \n",
       "1       [0.5, 0.5614035087719298, 0.547945205479452]  \n",
       "2  [0.5681818181818182, 0.6097560975609756, 0.600...  \n",
       "3  [0.5666666666666667, 0.576271186440678, 0.5743...  \n",
       "4    [0.25, 0.2727272727272727, 0.26785714285714285]  "
      ]
     },
     "execution_count": 17,
     "metadata": {},
     "output_type": "execute_result"
    }
   ],
   "source": [
    "df2[\"pred_summary_score\"] = df2.apply(lambda x: score(x[\"pred_summary\"], x[\"abstract\"]), axis=1)\n",
    "df2[\"my_pred_summary_score\"] = df2.apply(lambda x: get_rouge_score(x[\"pred_summary\"], x[\"abstract\"]), axis=1)\n",
    "df2.head()"
   ]
  },
  {
   "cell_type": "code",
   "execution_count": 18,
   "metadata": {},
   "outputs": [],
   "source": [
    "rouge1 = [a[0] for a in df2[\"pred_summary_score\"].values]\n",
    "rouge2 = [a[1] for a in df2[\"pred_summary_score\"].values]\n",
    "\n",
    "my_precisions = [a[0] for a in df2[\"my_pred_summary_score\"].values]\n",
    "my_recalls = [a[1] for a in df2[\"my_pred_summary_score\"].values]\n",
    "#f2s = [a[2] for a in df2[\"my_pred_summary_score\"].values]\n",
    "\n",
    "x = list(range(len(my_precisions)))"
   ]
  },
  {
   "cell_type": "code",
   "execution_count": 19,
   "metadata": {},
   "outputs": [
    {
     "data": {
      "image/png": "[encoded data removed]",
      "text/plain": [
       "<Figure size 864x288 with 2 Axes>"
      ]
     },
     "metadata": {
      "needs_background": "light"
     },
     "output_type": "display_data"
    }
   ],
   "source": [
    "fig, axs = plt.subplots(1, 2, figsize=(12, 4))\n",
    "\n",
    "#axs[0,0].scatter(x, rouge1)\n",
    "#axs[0,0].set_ylim(0,1)\n",
    "#axs[0,0].get_xaxis().set_visible(False)\n",
    "#\n",
    "#axs[0,1].scatter(x, rouge2)\n",
    "#axs[0,1].set_ylim(0,1)\n",
    "#axs[0,1].get_xaxis().set_visible(False)\n",
    "\n",
    "axs[0].scatter(x, my_precisions, color='#da33ff')\n",
    "axs[0].set_ylim(0,1)\n",
    "axs[0].set_xlim(0,150)\n",
    "#axs[0].get_xaxis().set_visible(False)\n",
    "\n",
    "axs[1].scatter(x, my_recalls, color='#60e18a')\n",
    "axs[1].set_ylim(0,1)\n",
    "axs[1].set_xlim(0,150)\n",
    "#axs[1].get_xaxis().set_visible(False)\n",
    "\n",
    "#sns.regplot(x, my_precisions, scatter=True, ax=axs[1,0])\n",
    "#sns.regplot(x, my_recalls, scatter=True, ax=axs[1,1])\n",
    "#sns.regplot(x, f2s, scatter=True, ax=axs[2])\n",
    "\n",
    "plt.savefig(\"presentation/ml_bbc.png\")\n",
    "plt.show()"
   ]
  },
  {
   "cell_type": "code",
   "execution_count": 43,
   "metadata": {},
   "outputs": [],
   "source": [
    "df2[[\"pred_summary_score\", \"my_pred_summary_score\"]].to_csv(\"data/bbc_ml_scores.csv\")"
   ]
  },
  {
   "cell_type": "markdown",
   "metadata": {},
   "source": [
    "### Evaluating using NEWS SUMMARY (KAGGLE) test data"
   ]
  },
  {
   "cell_type": "code",
   "execution_count": 20,
   "metadata": {},
   "outputs": [
    {
     "data": {
      "text/html": [
       "<div>\n",
       "<style scoped>\n",
       "    .dataframe tbody tr th:only-of-type {\n",
       "        vertical-align: middle;\n",
       "    }\n",
       "\n",
       "    .dataframe tbody tr th {\n",
       "        vertical-align: top;\n",
       "    }\n",
       "\n",
       "    .dataframe thead th {\n",
       "        text-align: right;\n",
       "    }\n",
       "</style>\n",
       "<table border=\"1\" class=\"dataframe\">\n",
       "  <thead>\n",
       "    <tr style=\"text-align: right;\">\n",
       "      <th></th>\n",
       "      <th>text</th>\n",
       "      <th>abstract</th>\n",
       "    </tr>\n",
       "  </thead>\n",
       "  <tbody>\n",
       "    <tr>\n",
       "      <th>0</th>\n",
       "      <td>The Administration of Union Territory Daman an...</td>\n",
       "      <td>The Daman and Diu administration on Wednesday ...</td>\n",
       "    </tr>\n",
       "    <tr>\n",
       "      <th>1</th>\n",
       "      <td>Malaika Arora slammed an Instagram user who tr...</td>\n",
       "      <td>From her special numbers to TV?appearances, Bo...</td>\n",
       "    </tr>\n",
       "    <tr>\n",
       "      <th>2</th>\n",
       "      <td>The Indira Gandhi Institute of Medical Science...</td>\n",
       "      <td>The Indira Gandhi Institute of Medical Science...</td>\n",
       "    </tr>\n",
       "    <tr>\n",
       "      <th>3</th>\n",
       "      <td>Lashkar-e-Taiba's Kashmir commander Abu Dujana...</td>\n",
       "      <td>Lashkar-e-Taiba's Kashmir commander Abu Dujana...</td>\n",
       "    </tr>\n",
       "    <tr>\n",
       "      <th>4</th>\n",
       "      <td>Hotels in Maharashtra will train their staff t...</td>\n",
       "      <td>Hotels in Mumbai and other Indian cities are t...</td>\n",
       "    </tr>\n",
       "  </tbody>\n",
       "</table>\n",
       "</div>"
      ],
      "text/plain": [
       "                                                text  \\\n",
       "0  The Administration of Union Territory Daman an...   \n",
       "1  Malaika Arora slammed an Instagram user who tr...   \n",
       "2  The Indira Gandhi Institute of Medical Science...   \n",
       "3  Lashkar-e-Taiba's Kashmir commander Abu Dujana...   \n",
       "4  Hotels in Maharashtra will train their staff t...   \n",
       "\n",
       "                                            abstract  \n",
       "0  The Daman and Diu administration on Wednesday ...  \n",
       "1  From her special numbers to TV?appearances, Bo...  \n",
       "2  The Indira Gandhi Institute of Medical Science...  \n",
       "3  Lashkar-e-Taiba's Kashmir commander Abu Dujana...  \n",
       "4  Hotels in Mumbai and other Indian cities are t...  "
      ]
     },
     "execution_count": 20,
     "metadata": {},
     "output_type": "execute_result"
    }
   ],
   "source": [
    "df3 = pd.read_csv(\"data/kaggle_test_data.csv\", index_col=0)\n",
    "df3.head()"
   ]
  },
  {
   "cell_type": "code",
   "execution_count": 21,
   "metadata": {},
   "outputs": [],
   "source": [
    "df3.dropna(axis=0, inplace=True)"
   ]
  },
  {
   "cell_type": "code",
   "execution_count": 22,
   "metadata": {},
   "outputs": [],
   "source": [
    "df3[\"abstract_size\"] = df3[\"abstract\"].map(lambda x: len(tokenize(clean(str(x)))))"
   ]
  },
  {
   "cell_type": "code",
   "execution_count": 24,
   "metadata": {},
   "outputs": [],
   "source": [
    "df3 = df3.sample(500)"
   ]
  },
  {
   "cell_type": "code",
   "execution_count": 25,
   "metadata": {},
   "outputs": [
    {
     "data": {
      "text/html": [
       "<div>\n",
       "<style scoped>\n",
       "    .dataframe tbody tr th:only-of-type {\n",
       "        vertical-align: middle;\n",
       "    }\n",
       "\n",
       "    .dataframe tbody tr th {\n",
       "        vertical-align: top;\n",
       "    }\n",
       "\n",
       "    .dataframe thead th {\n",
       "        text-align: right;\n",
       "    }\n",
       "</style>\n",
       "<table border=\"1\" class=\"dataframe\">\n",
       "  <thead>\n",
       "    <tr style=\"text-align: right;\">\n",
       "      <th></th>\n",
       "      <th>text</th>\n",
       "      <th>abstract</th>\n",
       "      <th>abstract_size</th>\n",
       "      <th>pred_summary</th>\n",
       "    </tr>\n",
       "  </thead>\n",
       "  <tbody>\n",
       "    <tr>\n",
       "      <th>3344</th>\n",
       "      <td>India's only existing steam engine was put on ...</td>\n",
       "      <td>A shiny, sleek white steam engine huffing and ...</td>\n",
       "      <td>16</td>\n",
       "      <td>India's only existing steam engine was put on ...</td>\n",
       "    </tr>\n",
       "    <tr>\n",
       "      <th>3080</th>\n",
       "      <td>A producer filed a petition claiming the title...</td>\n",
       "      <td>A court on Thursday sought the response of sup...</td>\n",
       "      <td>25</td>\n",
       "      <td>A producer filed a petition claiming the title...</td>\n",
       "    </tr>\n",
       "    <tr>\n",
       "      <th>858</th>\n",
       "      <td>Television actor Karan Wahi has slammed the se...</td>\n",
       "      <td>Television actor Karan Wahi has expressed his ...</td>\n",
       "      <td>47</td>\n",
       "      <td>Television actor Karan Wahi has slammed the se...</td>\n",
       "    </tr>\n",
       "    <tr>\n",
       "      <th>227</th>\n",
       "      <td>Twenty-nine Indian cities and towns including ...</td>\n",
       "      <td>Twenty-nine Indian cities and towns, including...</td>\n",
       "      <td>22</td>\n",
       "      <td>Twenty-nine Indian cities and towns including ...</td>\n",
       "    </tr>\n",
       "    <tr>\n",
       "      <th>177</th>\n",
       "      <td>The Gorkha Janmukti Morcha (GJM) has given the...</td>\n",
       "      <td>The Gorkha Janamukti Morcha has given a ten-da...</td>\n",
       "      <td>14</td>\n",
       "      <td>The Gorkha Janmukti Morcha (GJM) has given the...</td>\n",
       "    </tr>\n",
       "  </tbody>\n",
       "</table>\n",
       "</div>"
      ],
      "text/plain": [
       "                                                   text  \\\n",
       "3344  India's only existing steam engine was put on ...   \n",
       "3080  A producer filed a petition claiming the title...   \n",
       "858   Television actor Karan Wahi has slammed the se...   \n",
       "227   Twenty-nine Indian cities and towns including ...   \n",
       "177   The Gorkha Janmukti Morcha (GJM) has given the...   \n",
       "\n",
       "                                               abstract  abstract_size  \\\n",
       "3344  A shiny, sleek white steam engine huffing and ...             16   \n",
       "3080  A court on Thursday sought the response of sup...             25   \n",
       "858   Television actor Karan Wahi has expressed his ...             47   \n",
       "227   Twenty-nine Indian cities and towns, including...             22   \n",
       "177   The Gorkha Janamukti Morcha has given a ten-da...             14   \n",
       "\n",
       "                                           pred_summary  \n",
       "3344  India's only existing steam engine was put on ...  \n",
       "3080  A producer filed a petition claiming the title...  \n",
       "858   Television actor Karan Wahi has slammed the se...  \n",
       "227   Twenty-nine Indian cities and towns including ...  \n",
       "177   The Gorkha Janmukti Morcha (GJM) has given the...  "
      ]
     },
     "execution_count": 25,
     "metadata": {},
     "output_type": "execute_result"
    }
   ],
   "source": [
    "df3[\"pred_summary\"] = df3.apply(lambda x: summarizer(x[\"text\"], codec, x[\"abstract_size\"]), axis=1)\n",
    "df3.head()"
   ]
  },
  {
   "cell_type": "code",
   "execution_count": 26,
   "metadata": {},
   "outputs": [],
   "source": [
    "df3.to_csv(\"data/kaggle_with_predicted_summaries.csv\")"
   ]
  },
  {
   "cell_type": "code",
   "execution_count": 20,
   "metadata": {},
   "outputs": [
    {
     "data": {
      "text/html": [
       "<div>\n",
       "<style scoped>\n",
       "    .dataframe tbody tr th:only-of-type {\n",
       "        vertical-align: middle;\n",
       "    }\n",
       "\n",
       "    .dataframe tbody tr th {\n",
       "        vertical-align: top;\n",
       "    }\n",
       "\n",
       "    .dataframe thead th {\n",
       "        text-align: right;\n",
       "    }\n",
       "</style>\n",
       "<table border=\"1\" class=\"dataframe\">\n",
       "  <thead>\n",
       "    <tr style=\"text-align: right;\">\n",
       "      <th></th>\n",
       "      <th>text</th>\n",
       "      <th>abstract</th>\n",
       "      <th>abstract_size</th>\n",
       "      <th>pred_summary</th>\n",
       "      <th>nltk_pred_summary</th>\n",
       "    </tr>\n",
       "  </thead>\n",
       "  <tbody>\n",
       "    <tr>\n",
       "      <th>3344</th>\n",
       "      <td>India's only existing steam engine was put on ...</td>\n",
       "      <td>A shiny, sleek white steam engine huffing and ...</td>\n",
       "      <td>16</td>\n",
       "      <td>India's only existing steam engine was put on ...</td>\n",
       "      <td>India's only existing steam engine was put on ...</td>\n",
       "    </tr>\n",
       "    <tr>\n",
       "      <th>3080</th>\n",
       "      <td>A producer filed a petition claiming the title...</td>\n",
       "      <td>A court on Thursday sought the response of sup...</td>\n",
       "      <td>25</td>\n",
       "      <td>A producer filed a petition claiming the title...</td>\n",
       "      <td>Further, he claimed that the film's title has ...</td>\n",
       "    </tr>\n",
       "    <tr>\n",
       "      <th>858</th>\n",
       "      <td>Television actor Karan Wahi has slammed the se...</td>\n",
       "      <td>Television actor Karan Wahi has expressed his ...</td>\n",
       "      <td>47</td>\n",
       "      <td>Television actor Karan Wahi has slammed the se...</td>\n",
       "      <td>Television actor Karan Wahi has slammed the se...</td>\n",
       "    </tr>\n",
       "    <tr>\n",
       "      <th>227</th>\n",
       "      <td>Twenty-nine Indian cities and towns including ...</td>\n",
       "      <td>Twenty-nine Indian cities and towns, including...</td>\n",
       "      <td>22</td>\n",
       "      <td>Twenty-nine Indian cities and towns including ...</td>\n",
       "      <td>Twenty-nine Indian cities and towns including ...</td>\n",
       "    </tr>\n",
       "    <tr>\n",
       "      <th>177</th>\n",
       "      <td>The Gorkha Janmukti Morcha (GJM) has given the...</td>\n",
       "      <td>The Gorkha Janamukti Morcha has given a ten-da...</td>\n",
       "      <td>14</td>\n",
       "      <td>The Gorkha Janmukti Morcha (GJM) has given the...</td>\n",
       "      <td>The Gorkha Janmukti Morcha (GJM) has given the...</td>\n",
       "    </tr>\n",
       "  </tbody>\n",
       "</table>\n",
       "</div>"
      ],
      "text/plain": [
       "                                                   text  \\\n",
       "3344  India's only existing steam engine was put on ...   \n",
       "3080  A producer filed a petition claiming the title...   \n",
       "858   Television actor Karan Wahi has slammed the se...   \n",
       "227   Twenty-nine Indian cities and towns including ...   \n",
       "177   The Gorkha Janmukti Morcha (GJM) has given the...   \n",
       "\n",
       "                                               abstract  abstract_size  \\\n",
       "3344  A shiny, sleek white steam engine huffing and ...             16   \n",
       "3080  A court on Thursday sought the response of sup...             25   \n",
       "858   Television actor Karan Wahi has expressed his ...             47   \n",
       "227   Twenty-nine Indian cities and towns, including...             22   \n",
       "177   The Gorkha Janamukti Morcha has given a ten-da...             14   \n",
       "\n",
       "                                           pred_summary  \\\n",
       "3344  India's only existing steam engine was put on ...   \n",
       "3080  A producer filed a petition claiming the title...   \n",
       "858   Television actor Karan Wahi has slammed the se...   \n",
       "227   Twenty-nine Indian cities and towns including ...   \n",
       "177   The Gorkha Janmukti Morcha (GJM) has given the...   \n",
       "\n",
       "                                      nltk_pred_summary  \n",
       "3344  India's only existing steam engine was put on ...  \n",
       "3080  Further, he claimed that the film's title has ...  \n",
       "858   Television actor Karan Wahi has slammed the se...  \n",
       "227   Twenty-nine Indian cities and towns including ...  \n",
       "177   The Gorkha Janmukti Morcha (GJM) has given the...  "
      ]
     },
     "execution_count": 20,
     "metadata": {},
     "output_type": "execute_result"
    }
   ],
   "source": [
    "df3 = pd.read_csv(\"data/kaggle_with_predicted_summaries.csv\", index_col=0)\n",
    "df3.head()"
   ]
  },
  {
   "cell_type": "code",
   "execution_count": 21,
   "metadata": {
    "scrolled": true
   },
   "outputs": [
    {
     "data": {
      "text/html": [
       "<div>\n",
       "<style scoped>\n",
       "    .dataframe tbody tr th:only-of-type {\n",
       "        vertical-align: middle;\n",
       "    }\n",
       "\n",
       "    .dataframe tbody tr th {\n",
       "        vertical-align: top;\n",
       "    }\n",
       "\n",
       "    .dataframe thead th {\n",
       "        text-align: right;\n",
       "    }\n",
       "</style>\n",
       "<table border=\"1\" class=\"dataframe\">\n",
       "  <thead>\n",
       "    <tr style=\"text-align: right;\">\n",
       "      <th></th>\n",
       "      <th>text</th>\n",
       "      <th>abstract</th>\n",
       "      <th>abstract_size</th>\n",
       "      <th>pred_summary</th>\n",
       "      <th>nltk_pred_summary</th>\n",
       "      <th>pred_summary_score</th>\n",
       "      <th>my_pred_summary_score</th>\n",
       "    </tr>\n",
       "  </thead>\n",
       "  <tbody>\n",
       "    <tr>\n",
       "      <th>3344</th>\n",
       "      <td>India's only existing steam engine was put on ...</td>\n",
       "      <td>A shiny, sleek white steam engine huffing and ...</td>\n",
       "      <td>16</td>\n",
       "      <td>India's only existing steam engine was put on ...</td>\n",
       "      <td>India's only existing steam engine was put on ...</td>\n",
       "      <td>(0.23631123919308358, 0.10434782608695653)</td>\n",
       "      <td>[0.6, 0.13846153846153847, 0.16363636363636366]</td>\n",
       "    </tr>\n",
       "    <tr>\n",
       "      <th>3080</th>\n",
       "      <td>A producer filed a petition claiming the title...</td>\n",
       "      <td>A court on Thursday sought the response of sup...</td>\n",
       "      <td>25</td>\n",
       "      <td>A producer filed a petition claiming the title...</td>\n",
       "      <td>Further, he claimed that the film's title has ...</td>\n",
       "      <td>(0.15280135823429541, 0.06473594548551959)</td>\n",
       "      <td>[0.8, 0.12121212121212122, 0.145985401459854]</td>\n",
       "    </tr>\n",
       "    <tr>\n",
       "      <th>858</th>\n",
       "      <td>Television actor Karan Wahi has slammed the se...</td>\n",
       "      <td>Television actor Karan Wahi has expressed his ...</td>\n",
       "      <td>47</td>\n",
       "      <td>Television actor Karan Wahi has slammed the se...</td>\n",
       "      <td>Television actor Karan Wahi has slammed the se...</td>\n",
       "      <td>(0.11457036114570361, 0.0749063670411985)</td>\n",
       "      <td>[0.8125, 0.10569105691056911, 0.12795275590551...</td>\n",
       "    </tr>\n",
       "    <tr>\n",
       "      <th>227</th>\n",
       "      <td>Twenty-nine Indian cities and towns including ...</td>\n",
       "      <td>Twenty-nine Indian cities and towns, including...</td>\n",
       "      <td>22</td>\n",
       "      <td>Twenty-nine Indian cities and towns including ...</td>\n",
       "      <td>Twenty-nine Indian cities and towns including ...</td>\n",
       "      <td>(0.20253164556962025, 0.1016949152542373)</td>\n",
       "      <td>[0.9696969696969697, 0.1711229946524064, 0.204...</td>\n",
       "    </tr>\n",
       "    <tr>\n",
       "      <th>177</th>\n",
       "      <td>The Gorkha Janmukti Morcha (GJM) has given the...</td>\n",
       "      <td>The Gorkha Janamukti Morcha has given a ten-da...</td>\n",
       "      <td>14</td>\n",
       "      <td>The Gorkha Janmukti Morcha (GJM) has given the...</td>\n",
       "      <td>The Gorkha Janmukti Morcha (GJM) has given the...</td>\n",
       "      <td>(0.27956989247311825, 0.1732851985559567)</td>\n",
       "      <td>[0.7, 0.20388349514563106, 0.23755656108597287]</td>\n",
       "    </tr>\n",
       "  </tbody>\n",
       "</table>\n",
       "</div>"
      ],
      "text/plain": [
       "                                                   text  \\\n",
       "3344  India's only existing steam engine was put on ...   \n",
       "3080  A producer filed a petition claiming the title...   \n",
       "858   Television actor Karan Wahi has slammed the se...   \n",
       "227   Twenty-nine Indian cities and towns including ...   \n",
       "177   The Gorkha Janmukti Morcha (GJM) has given the...   \n",
       "\n",
       "                                               abstract  abstract_size  \\\n",
       "3344  A shiny, sleek white steam engine huffing and ...             16   \n",
       "3080  A court on Thursday sought the response of sup...             25   \n",
       "858   Television actor Karan Wahi has expressed his ...             47   \n",
       "227   Twenty-nine Indian cities and towns, including...             22   \n",
       "177   The Gorkha Janamukti Morcha has given a ten-da...             14   \n",
       "\n",
       "                                           pred_summary  \\\n",
       "3344  India's only existing steam engine was put on ...   \n",
       "3080  A producer filed a petition claiming the title...   \n",
       "858   Television actor Karan Wahi has slammed the se...   \n",
       "227   Twenty-nine Indian cities and towns including ...   \n",
       "177   The Gorkha Janmukti Morcha (GJM) has given the...   \n",
       "\n",
       "                                      nltk_pred_summary  \\\n",
       "3344  India's only existing steam engine was put on ...   \n",
       "3080  Further, he claimed that the film's title has ...   \n",
       "858   Television actor Karan Wahi has slammed the se...   \n",
       "227   Twenty-nine Indian cities and towns including ...   \n",
       "177   The Gorkha Janmukti Morcha (GJM) has given the...   \n",
       "\n",
       "                              pred_summary_score  \\\n",
       "3344  (0.23631123919308358, 0.10434782608695653)   \n",
       "3080  (0.15280135823429541, 0.06473594548551959)   \n",
       "858    (0.11457036114570361, 0.0749063670411985)   \n",
       "227    (0.20253164556962025, 0.1016949152542373)   \n",
       "177    (0.27956989247311825, 0.1732851985559567)   \n",
       "\n",
       "                                  my_pred_summary_score  \n",
       "3344    [0.6, 0.13846153846153847, 0.16363636363636366]  \n",
       "3080      [0.8, 0.12121212121212122, 0.145985401459854]  \n",
       "858   [0.8125, 0.10569105691056911, 0.12795275590551...  \n",
       "227   [0.9696969696969697, 0.1711229946524064, 0.204...  \n",
       "177     [0.7, 0.20388349514563106, 0.23755656108597287]  "
      ]
     },
     "execution_count": 21,
     "metadata": {},
     "output_type": "execute_result"
    }
   ],
   "source": [
    "df3[\"pred_summary_score\"] = df3.apply(lambda x: score(x[\"pred_summary\"], x[\"abstract\"]), axis=1)\n",
    "df3[\"my_pred_summary_score\"] = df3.apply(lambda x: get_rouge_score(x[\"pred_summary\"], x[\"abstract\"]), axis=1)\n",
    "df3.head()"
   ]
  },
  {
   "cell_type": "code",
   "execution_count": 22,
   "metadata": {},
   "outputs": [],
   "source": [
    "rouge1_2 = [a[0] for a in df3[\"pred_summary_score\"].values]\n",
    "rouge2_2 = [a[1] for a in df3[\"pred_summary_score\"].values]\n",
    "\n",
    "my_precisions_2 = [a[0] for a in df3[\"my_pred_summary_score\"].values]\n",
    "my_recalls_2 = [a[1] for a in df3[\"my_pred_summary_score\"].values]\n",
    "#f2s = [a[2] for a in df3[\"my_pred_summary_score\"].values]\n",
    "\n",
    "x2 = list(range(len(my_precisions_2)))"
   ]
  },
  {
   "cell_type": "code",
   "execution_count": 23,
   "metadata": {
    "scrolled": true
   },
   "outputs": [
    {
     "data": {
      "image/png": "[encoded data removed]",
      "text/plain": [
       "<Figure size 864x288 with 2 Axes>"
      ]
     },
     "metadata": {
      "needs_background": "light"
     },
     "output_type": "display_data"
    }
   ],
   "source": [
    "fig, axs = plt.subplots(1, 2, figsize=(12, 4))\n",
    "\n",
    "#sns.regplot(x2, rouge1_2, scatter=True, ax=axs[0,0])\n",
    "#sns.regplot(x2, rouge2_2, scatter=True, ax=axs[0,1])\n",
    "\n",
    "axs[0].scatter(x2, my_precisions_2, color='#da33ff')\n",
    "axs[0].set_ylim(0,1)\n",
    "axs[0].set_xlim(0,150)\n",
    "#axs[0].get_xaxis().set_visible(False)\n",
    "\n",
    "axs[1].scatter(x2, my_recalls_2, color='#60e18a')\n",
    "axs[1].set_ylim(0,1)\n",
    "axs[1].set_xlim(0,150)\n",
    "#axs[1].get_xaxis().set_visible(False)\n",
    "\n",
    "#sns.regplot(x2, my_precisions_2, scatter=True, ax=axs[1,0])\n",
    "#sns.regplot(x2, my_recalls_2, scatter=True, ax=axs[1,1])\n",
    "#sns.regplot(x2, f2s, scatter=True, ax=axs[2])\n",
    "\n",
    "plt.savefig(\"presentation/ml_kaggle.png\")\n",
    "plt.show()"
   ]
  },
  {
   "cell_type": "code",
   "execution_count": 50,
   "metadata": {},
   "outputs": [],
   "source": [
    "df3[[\"pred_summary_score\", \"my_pred_summary_score\"]].to_csv(\"data/kaggle_ml_scores.csv\")"
   ]
  },
  {
   "cell_type": "code",
   "execution_count": null,
   "metadata": {},
   "outputs": [],
   "source": []
  }
 ],
 "metadata": {
  "kernelspec": {
   "display_name": "Python 3",
   "language": "python",
   "name": "python3"
  },
  "language_info": {
   "codemirror_mode": {
    "name": "ipython",
    "version": 3
   },
   "file_extension": ".py",
   "mimetype": "text/x-python",
   "name": "python",
   "nbconvert_exporter": "python",
   "pygments_lexer": "ipython3",
   "version": "3.7.4"
  }
 },
 "nbformat": 4,
 "nbformat_minor": 2
}
