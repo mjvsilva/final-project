{
 "cells": [
  {
   "cell_type": "code",
   "execution_count": 1,
   "metadata": {},
   "outputs": [],
   "source": [
    "import numpy as np\n",
    "import pandas as pd\n",
    "import string\n",
    "import re\n",
    "from functools import reduce\n",
    "import nltk\n",
    "from nltk.corpus import stopwords\n",
    "from nltk.tokenize import word_tokenize\n",
    "from nltk.stem import PorterStemmer, WordNetLemmatizer\n",
    "import matplotlib.pyplot as plt\n",
    "import seaborn as sns"
   ]
  },
  {
   "cell_type": "markdown",
   "metadata": {},
   "source": [
    "[Text Summarization with NLTK in Python](https://stackabuse.com/text-summarization-with-nltk-in-python/)\n",
    "\n",
    "## Overview:\n",
    "\n",
    "* Convert paragraphs to sentences\n",
    "* Text preprocessing: remove all the special characters, stop words and numbers from all the sentences\n",
    "* Tokenizing the sentences\n",
    "* Find weighted frequency of occurrence: find the weighted frequency of each word by dividing its frequency by the frequency of the most occurring word\n",
    "* Replace words by weighted frequency in original sentences: plug the weighted frequency in place of the corresponding words in original sentences and find their sum\n",
    "* Sort sentences in descending order of sum: The sentences with highest frequencies summarize the text"
   ]
  },
  {
   "cell_type": "code",
   "execution_count": 2,
   "metadata": {},
   "outputs": [],
   "source": [
    "test = \"Is this    a test?\\n \\t(No, it's only a sample.)\\n 123, Testing!,  testing...\\n\"\n",
    "#test = \"President Donald Trump's new trade deal with China will further integrate the world's two largest economies if Beijing honors its commitments in areas ranging from intellectual property protection to agriculture, U.S. Trade Representative Robert Lighthizer said Sunday.\\n\\n\\\"Ultimately, whether this whole agreement works is going to be determined by who's making the decisions in China, not in the United States,\\\" Lighthizer said on CBS News' \\\"Face the Nation.\\\" \\\"If the hardliners are making the decisions, we're going to get one outcome. If the reformers are making the decisions, which is what we hope, then we're going to get another outcome.\\\"\\n\\nThe \\\"phase one\\\" trade deal announced Friday cancels additional duties that were scheduled to go into effect Sunday, reduces duties on about $120 billion of Chinese goods to 7.5 percent, from 15 percent previously, and leaves a 25 percent duty in place on another $250 billion worth of Chinese goods.\\n\\nChina, in addition to making promises to better protect U.S. intellectual property, has pledged to buy another $200 billion worth of goods and services from the United States over the next two years, including about $40 billion to $50 billion worth of agricultural products each year.\\n\\n\\\"You could think of it as $80 to $100 billion in new sales for agriculture over the course of the next two years. Just massive numbers,\\\" Lighthizer said.\\n\\nThat has prompted questions about whether U.S. farmers can actually accommodate the increased demand, without siphoning sales away from other export markets they already have.\\n\\nFor much of the last two years, there has been a debate about whether Trump's true aim by imposing tariffs on hundreds of billions of dollars of Chinese good was to separate, or \\\"decouple,\\\" the U.S. economy from China, rather reach an actual trade agreement.\\n\\nOn Sunday, Lighthizer indicated the objective was to tie the two economies closer together.\\n\\n\\\"The way to think about this deal, is this is a first step in trying to integrate two very different systems to the benefit of both of us,\\\" the trade chief said.\\n\\nThe Trump administration also got another trade win last week when House Democrats and the AFL-CIO endorsed a newly revised North American trade agreement with Mexico and Canada, after changes were made to toughen labor enforcement provisions and weaken intellectual property protections for life-saving biologic medicine.\\n\\nSome of the tweaks made to shore up Democratic support have annoyed Republicans, who have different views of both issues. But that's not expected to block congressional approval. The House is expected to vote on the bill this week and the Senate to follow suit in early 2020, after it finishes Trump's impeachment trial.\\n\\nLighthizer conceded weakening the biologics provision made the trade deal worse on that point. But he said the overall package was \\\"better\\\" as a result of the changes demanded by Democrats.\\n\\n\\\"There's nothing about being against labor enforcement that's Republican,\\\" Lighthizer said. \\\"The president wants Mexico to enforce its labor laws. He doesn't want American manufacturing workers to have to compete with people who are in very difficult conditions.\\\"\""
   ]
  },
  {
   "cell_type": "markdown",
   "metadata": {},
   "source": [
    "### paragraph2sentences(text)\n",
    "\n",
    "Converts a string paragraph into a list of sentences."
   ]
  },
  {
   "cell_type": "code",
   "execution_count": 4,
   "metadata": {},
   "outputs": [
    {
     "name": "stdout",
     "output_type": "stream",
     "text": [
      "['Is this a test?', \"(No, it's only a sample. )\", '123, Testing!, testing...']\n"
     ]
    }
   ],
   "source": [
    "def paragraph2sentences(text):\n",
    "    sent_detector = nltk.data.load('tokenizers/punkt/english.pickle')\n",
    "    text = re.sub(\"\\s+\", \" \", text.replace(\".\", \". \").replace(\". . . \", \"... \")).strip()\n",
    "    return sent_detector.tokenize(text)\n",
    "\n",
    "test2 = paragraph2sentences(test)\n",
    "print(test2)"
   ]
  },
  {
   "cell_type": "markdown",
   "metadata": {},
   "source": [
    "### preprocess_sentences(sentence_list)\n",
    "\n",
    "Removes special characters, stop words and numbers from each sentence in a list of sentences and tokenizes them."
   ]
  },
  {
   "cell_type": "code",
   "execution_count": 5,
   "metadata": {},
   "outputs": [
    {
     "name": "stderr",
     "output_type": "stream",
     "text": [
      "[nltk_data] Downloading package stopwords to\n",
      "[nltk_data]     /Users/mjsilva/nltk_data...\n",
      "[nltk_data]   Package stopwords is already up-to-date!\n"
     ]
    },
    {
     "name": "stdout",
     "output_type": "stream",
     "text": [
      "[['test', 'thi'], ['onli', 'sampl'], ['test']]\n"
     ]
    }
   ],
   "source": [
    "nltk.download('stopwords')\n",
    "stop_words = stopwords.words('english')\n",
    "stop_words = set(stop_words)\n",
    "\n",
    "def preprocess_sentences(sentence_list):\n",
    "    ps = PorterStemmer ()\n",
    "    lemmatizer = WordNetLemmatizer()\n",
    "    words = [re.sub(\"[^a-z\\s]+\", \"\", s.lower()).split(\" \") for s in sentence_list]\n",
    "    words = [[lemmatizer.lemmatize(ps.stem(w)) for w in sentence] for sentence in words]\n",
    "    return [list(set(w) - stop_words - set([''])) for w in words]\n",
    "\n",
    "test3 = preprocess_sentences(test2)\n",
    "print(test3)"
   ]
  },
  {
   "cell_type": "markdown",
   "metadata": {},
   "source": [
    "### weighed_freq_occurrence(tokenized_sentence_list)\n",
    "\n",
    "Divides each word frequency by the frequency of the most occurring word and returns a dictionary with pairs (word, weighted frequency)."
   ]
  },
  {
   "cell_type": "code",
   "execution_count": 6,
   "metadata": {},
   "outputs": [
    {
     "name": "stdout",
     "output_type": "stream",
     "text": [
      "{'test': 1.0, 'thi': 0.5, 'onli': 0.5, 'sampl': 0.5}\n"
     ]
    }
   ],
   "source": [
    "def weighed_freq_occurrence(tokenized_sentence_list):\n",
    "    aux_list = [word for sentence in tokenized_sentence_list for word in sentence]\n",
    "    aux_list = sorted(aux_list, key=lambda x: aux_list.count(x), reverse=True)\n",
    "    max_freq = aux_list.count(aux_list[0])\n",
    "    return {word:aux_list.count(word)/max_freq for word in aux_list}\n",
    "\n",
    "test4 = weighed_freq_occurrence(test3)\n",
    "print(test4)"
   ]
  },
  {
   "cell_type": "markdown",
   "metadata": {},
   "source": [
    "### sentence_weighed_freq(tokenized_sentence_list, word_weights)\n",
    "\n",
    "Replace words in the original sentences by weighted frequency, given by the weights dictionary, and sum."
   ]
  },
  {
   "cell_type": "code",
   "execution_count": 7,
   "metadata": {},
   "outputs": [
    {
     "name": "stdout",
     "output_type": "stream",
     "text": [
      "[1.5, 1.0, 1.0]\n"
     ]
    }
   ],
   "source": [
    "def sentence_weighed_freq(tokenized_sentence_list, weights):\n",
    "    aux_list = [[weights[w] if w in weights.keys() else 0 for w in s] for s in tokenized_sentence_list]\n",
    "    return [sum(s) for s in aux_list]\n",
    "\n",
    "test5 = sentence_weighed_freq(test3, test4)\n",
    "print(test5)"
   ]
  },
  {
   "cell_type": "markdown",
   "metadata": {},
   "source": [
    "### sort_and_select(sentence_list, sentence_weights, n_sentences)\n",
    "\n",
    "Given a list of sentences and a list of summed weights per sentence, sort sentences in descending order of weight and select the top n_sentences to generate a string with the text summary."
   ]
  },
  {
   "cell_type": "code",
   "execution_count": 8,
   "metadata": {},
   "outputs": [
    {
     "name": "stdout",
     "output_type": "stream",
     "text": [
      "Is this a test? (No, it's only a sample. ) 123, Testing!, testing...\n"
     ]
    }
   ],
   "source": [
    "def sort_and_select(sentence_list, sentence_weights, n_sentences):\n",
    "    aux_list = list(zip(sentence_list, sentence_weights))\n",
    "    aux_list = sorted(aux_list, key=lambda x: x[1], reverse=True)\n",
    "    aux_list = [sentence for sentence,weight in aux_list]\n",
    "    \n",
    "    n_sentences = abs(n_sentences)\n",
    "    if n_sentences<1:\n",
    "        n_sentences = np.ceil(len(aux_list)*n_sentences)\n",
    "    if n_sentences>len(aux_list) or n_sentences==0:\n",
    "        n_sentences = len(aux_list)\n",
    "    \n",
    "    return \" \".join(aux_list[:int(n_sentences)])\n",
    "\n",
    "test6 = sort_and_select(test2, test5, 5)\n",
    "print(test6)"
   ]
  },
  {
   "cell_type": "markdown",
   "metadata": {},
   "source": [
    "## NLTK SUMMARIZER\n",
    "\n",
    "Given string `text` and number of sentences `n`, `nltk_summarizer_n` returns a string containing a summary of `text` with either exactly `n` sentences (if the absolute value of `n` is greater than or equal to 1) or `n` percent of the number of sentences in the text (if the absolute value of `n` is a number between 0 and 1; when `n` is 0, the whole text is returned (default is 30% of the number of sentences).\n",
    "\n",
    "Uses `paragraph2sentences(text)`, `preprocess_sentences(sentence_list)`, `weighed_freq_occurrence(tokenized_sentence_list)`, `sentence_weighed_freq(tokenized_sentence_list, word_weights)` and `sort_and_select(sentence_list, sentence_weights, n_sentences)` functions."
   ]
  },
  {
   "cell_type": "code",
   "execution_count": 9,
   "metadata": {},
   "outputs": [],
   "source": [
    "def nltk_summarizer_n(text, n=0.3):\n",
    "    sentence_list = paragraph2sentences(text)\n",
    "    tokenized_sentence_list = preprocess_sentences(sentence_list)\n",
    "    word_weights = weighed_freq_occurrence(tokenized_sentence_list)\n",
    "    sentence_weights = sentence_weighed_freq(tokenized_sentence_list, word_weights)\n",
    "    return sort_and_select(sentence_list, sentence_weights, n)"
   ]
  },
  {
   "cell_type": "code",
   "execution_count": 10,
   "metadata": {},
   "outputs": [
    {
     "name": "stdout",
     "output_type": "stream",
     "text": [
      "Is this a test?\n"
     ]
    }
   ],
   "source": [
    "test_summary = nltk_summarizer_n(test, 0.1)\n",
    "print(test_summary)"
   ]
  },
  {
   "cell_type": "code",
   "execution_count": 11,
   "metadata": {},
   "outputs": [
    {
     "name": "stdout",
     "output_type": "stream",
     "text": [
      "Is this    a test?\n",
      " \t(No, it's only a sample.)\n",
      " 123, Testing!,  testing...\n",
      "\n"
     ]
    }
   ],
   "source": [
    "print(test)"
   ]
  },
  {
   "cell_type": "markdown",
   "metadata": {},
   "source": [
    "## Evaluating summarizer using ROUGE-1 and ROUGE-2"
   ]
  },
  {
   "cell_type": "markdown",
   "metadata": {},
   "source": [
    "### make_bow(text)\n",
    "\n",
    "Given string text, `make_bow(text)` removes capitalization, punctuation and splits words into a dictionary with the form `{word:count}`.\n",
    "\n",
    "Uses `clean(text)` function."
   ]
  },
  {
   "cell_type": "code",
   "execution_count": 12,
   "metadata": {},
   "outputs": [
    {
     "name": "stdout",
     "output_type": "stream",
     "text": [
      "{'test': 1, 'sample': 1, 'testing': 1}\n"
     ]
    }
   ],
   "source": [
    "# stop_words = set(stop_words)\n",
    "\n",
    "def make_bow(text):\n",
    "    ttable = str.maketrans(\"\\n\", \" \", string.punctuation)\n",
    "    text = text.replace(\".\", \". \").translate(ttable).lower()\n",
    "    text = re.sub(\"[^a-z\\s]\", \"\", text)\n",
    "    words = re.sub(\"\\s+\", \" \", text).split(\" \")\n",
    "    words = list(set(words) - stop_words - set(['']))\n",
    "    return {w:words.count(w) for w in words}\n",
    "\n",
    "print(make_bow(test))"
   ]
  },
  {
   "cell_type": "markdown",
   "metadata": {},
   "source": [
    "### get_rouge_score(text_pred, text_real)\n",
    "\n",
    "Model evaluation metrics. Given an automatically produced summary text_pred, `get_rouge_score` compares the words in it with the words in a second summary, following ROUGE-1. The function returns a tuple with (precision score, recall score, F2 score).\n",
    "\n",
    "(Note: the function calculates F2 score to give more weight to recall. The size of the two texts will vary, depending on the summarizer parameters, so the level of conciseness of text_pred is not as relevant.)\n",
    "\n",
    "Uses `make_bow` function."
   ]
  },
  {
   "cell_type": "code",
   "execution_count": 13,
   "metadata": {},
   "outputs": [
    {
     "name": "stdout",
     "output_type": "stream",
     "text": [
      "[1.0, 0.3333333333333333, 0.3846153846153846]\n"
     ]
    }
   ],
   "source": [
    "def get_rouge_score(text_pred, text_real):\n",
    "    bow_pred = make_bow(text_pred)\n",
    "    bow_real = make_bow(text_real)\n",
    "    \n",
    "    total_pred_words = reduce(lambda x,y: x+bow_pred[y], bow_pred.keys(), 0)\n",
    "    total_real_words = reduce(lambda x,y: x+bow_real[y], bow_real.keys(), 0)\n",
    "    \n",
    "    overlapping_list = [min(bow_pred[k], bow_real[k]) for k in bow_pred.keys() if k in bow_real.keys()]\n",
    "    overlapping_words = sum(overlapping_list)\n",
    "    \n",
    "    precision = overlapping_words/total_pred_words\n",
    "    recall = overlapping_words/total_real_words\n",
    "    \n",
    "    f2_score = 0\n",
    "    if precision!=0 or recall!=0:\n",
    "        f2_score = 5 * precision * recall / (4 * precision + recall)\n",
    "    \n",
    "    return [precision, recall, f2_score]\n",
    "\n",
    "print(get_rouge_score(test_summary, test))"
   ]
  },
  {
   "cell_type": "code",
   "execution_count": 14,
   "metadata": {},
   "outputs": [],
   "source": [
    "# ROUGE score using script\n",
    "%run \"resources/rouge-master/rouge/metrics.py\""
   ]
  },
  {
   "cell_type": "code",
   "execution_count": 15,
   "metadata": {},
   "outputs": [],
   "source": [
    "def tokenize(text):\n",
    "    sent_detector = nltk.data.load('tokenizers/punkt/english.pickle')\n",
    "    return sent_detector.tokenize(re.sub(\"\\s+\", \" \", text.replace(\".\", \". \").replace(\". . . \", \"... \")).strip())\n",
    "\n",
    "def score(pred_text, actual_text):\n",
    "    pred = [s.split() for s in tokenize(pred_text)]\n",
    "    text = [s.split() for s in tokenize(actual_text)]\n",
    "    \n",
    "    _, _, rouge_1 = rouge_n_summary_level(pred, text, 1)\n",
    "    _, _, rouge_2 = rouge_n_summary_level(pred, text, 2)\n",
    "    return rouge_1, rouge_2"
   ]
  },
  {
   "cell_type": "markdown",
   "metadata": {},
   "source": [
    "### Evaluating using TIPSTER test data"
   ]
  },
  {
   "cell_type": "code",
   "execution_count": 17,
   "metadata": {},
   "outputs": [
    {
     "data": {
      "text/html": [
       "<div>\n",
       "<style scoped>\n",
       "    .dataframe tbody tr th:only-of-type {\n",
       "        vertical-align: middle;\n",
       "    }\n",
       "\n",
       "    .dataframe tbody tr th {\n",
       "        vertical-align: top;\n",
       "    }\n",
       "\n",
       "    .dataframe thead th {\n",
       "        text-align: right;\n",
       "    }\n",
       "</style>\n",
       "<table border=\"1\" class=\"dataframe\">\n",
       "  <thead>\n",
       "    <tr style=\"text-align: right;\">\n",
       "      <th></th>\n",
       "      <th>abstract</th>\n",
       "      <th>text</th>\n",
       "      <th>abstract_size</th>\n",
       "      <th>pred_summary</th>\n",
       "    </tr>\n",
       "  </thead>\n",
       "  <tbody>\n",
       "    <tr>\n",
       "      <th>0</th>\n",
       "      <td>This paper presents an algorithm for tagging ...</td>\n",
       "      <td>Since online text becomes available in ever i...</td>\n",
       "      <td>3</td>\n",
       "      <td>For example, verbs taking bare infinitives wer...</td>\n",
       "    </tr>\n",
       "    <tr>\n",
       "      <th>1</th>\n",
       "      <td>The recognition problem for attribute-value g...</td>\n",
       "      <td>Although a universal feature theory does not ...</td>\n",
       "      <td>4</td>\n",
       "      <td>The values of these properties are either atom...</td>\n",
       "    </tr>\n",
       "    <tr>\n",
       "      <th>2</th>\n",
       "      <td>Eric Brill introduced transformation-based le...</td>\n",
       "      <td>Text chunking involves dividing sentences int...</td>\n",
       "      <td>5</td>\n",
       "      <td>Bourigault claims that the grammar can parse `...</td>\n",
       "    </tr>\n",
       "    <tr>\n",
       "      <th>3</th>\n",
       "      <td>We propose a paradigm for concurrent natural ...</td>\n",
       "      <td>Parallel and distributed computation is expec...</td>\n",
       "      <td>5</td>\n",
       "      <td>We presuppose that two type variables and are ...</td>\n",
       "    </tr>\n",
       "    <tr>\n",
       "      <th>4</th>\n",
       "      <td>We propose an algorithm to resolve anaphors, ...</td>\n",
       "      <td>Intrasentential antecedents, i.e., antecedent...</td>\n",
       "      <td>5</td>\n",
       "      <td>The statistics below show that of 262 non-PRR ...</td>\n",
       "    </tr>\n",
       "  </tbody>\n",
       "</table>\n",
       "</div>"
      ],
      "text/plain": [
       "                                            abstract  \\\n",
       "0   This paper presents an algorithm for tagging ...   \n",
       "1   The recognition problem for attribute-value g...   \n",
       "2   Eric Brill introduced transformation-based le...   \n",
       "3   We propose a paradigm for concurrent natural ...   \n",
       "4   We propose an algorithm to resolve anaphors, ...   \n",
       "\n",
       "                                                text  abstract_size  \\\n",
       "0   Since online text becomes available in ever i...              3   \n",
       "1   Although a universal feature theory does not ...              4   \n",
       "2   Text chunking involves dividing sentences int...              5   \n",
       "3   Parallel and distributed computation is expec...              5   \n",
       "4   Intrasentential antecedents, i.e., antecedent...              5   \n",
       "\n",
       "                                        pred_summary  \n",
       "0  For example, verbs taking bare infinitives wer...  \n",
       "1  The values of these properties are either atom...  \n",
       "2  Bourigault claims that the grammar can parse `...  \n",
       "3  We presuppose that two type variables and are ...  \n",
       "4  The statistics below show that of 262 non-PRR ...  "
      ]
     },
     "execution_count": 17,
     "metadata": {},
     "output_type": "execute_result"
    }
   ],
   "source": [
    "df = pd.read_csv(\"data/tipster_with_predicted_summaries.csv\", index_col=0)\n",
    "df.head()"
   ]
  },
  {
   "cell_type": "code",
   "execution_count": 18,
   "metadata": {},
   "outputs": [
    {
     "data": {
      "text/html": [
       "<div>\n",
       "<style scoped>\n",
       "    .dataframe tbody tr th:only-of-type {\n",
       "        vertical-align: middle;\n",
       "    }\n",
       "\n",
       "    .dataframe tbody tr th {\n",
       "        vertical-align: top;\n",
       "    }\n",
       "\n",
       "    .dataframe thead th {\n",
       "        text-align: right;\n",
       "    }\n",
       "</style>\n",
       "<table border=\"1\" class=\"dataframe\">\n",
       "  <thead>\n",
       "    <tr style=\"text-align: right;\">\n",
       "      <th></th>\n",
       "      <th>abstract</th>\n",
       "      <th>text</th>\n",
       "      <th>abstract_size</th>\n",
       "      <th>pred_summary</th>\n",
       "      <th>nltk_pred_summary</th>\n",
       "    </tr>\n",
       "  </thead>\n",
       "  <tbody>\n",
       "    <tr>\n",
       "      <th>0</th>\n",
       "      <td>This paper presents an algorithm for tagging ...</td>\n",
       "      <td>Since online text becomes available in ever i...</td>\n",
       "      <td>3</td>\n",
       "      <td>For example, verbs taking bare infinitives wer...</td>\n",
       "      <td>The left and right context vectors are the bas...</td>\n",
       "    </tr>\n",
       "    <tr>\n",
       "      <th>1</th>\n",
       "      <td>The recognition problem for attribute-value g...</td>\n",
       "      <td>Although a universal feature theory does not ...</td>\n",
       "      <td>4</td>\n",
       "      <td>The values of these properties are either atom...</td>\n",
       "      <td>A CFG is in Greibach normalform (GNF) if, and ...</td>\n",
       "    </tr>\n",
       "    <tr>\n",
       "      <th>2</th>\n",
       "      <td>Eric Brill introduced transformation-based le...</td>\n",
       "      <td>Text chunking involves dividing sentences int...</td>\n",
       "      <td>5</td>\n",
       "      <td>Bourigault claims that the grammar can parse `...</td>\n",
       "      <td>The fact that this system includes lexical rul...</td>\n",
       "    </tr>\n",
       "    <tr>\n",
       "      <th>3</th>\n",
       "      <td>We propose a paradigm for concurrent natural ...</td>\n",
       "      <td>Parallel and distributed computation is expec...</td>\n",
       "      <td>5</td>\n",
       "      <td>We presuppose that two type variables and are ...</td>\n",
       "      <td>Suppose that we are required to compose all th...</td>\n",
       "    </tr>\n",
       "    <tr>\n",
       "      <th>4</th>\n",
       "      <td>We propose an algorithm to resolve anaphors, ...</td>\n",
       "      <td>Intrasentential antecedents, i.e., antecedent...</td>\n",
       "      <td>5</td>\n",
       "      <td>The statistics below show that of 262 non-PRR ...</td>\n",
       "      <td>In the following, remember that what we called...</td>\n",
       "    </tr>\n",
       "  </tbody>\n",
       "</table>\n",
       "</div>"
      ],
      "text/plain": [
       "                                            abstract  \\\n",
       "0   This paper presents an algorithm for tagging ...   \n",
       "1   The recognition problem for attribute-value g...   \n",
       "2   Eric Brill introduced transformation-based le...   \n",
       "3   We propose a paradigm for concurrent natural ...   \n",
       "4   We propose an algorithm to resolve anaphors, ...   \n",
       "\n",
       "                                                text  abstract_size  \\\n",
       "0   Since online text becomes available in ever i...              3   \n",
       "1   Although a universal feature theory does not ...              4   \n",
       "2   Text chunking involves dividing sentences int...              5   \n",
       "3   Parallel and distributed computation is expec...              5   \n",
       "4   Intrasentential antecedents, i.e., antecedent...              5   \n",
       "\n",
       "                                        pred_summary  \\\n",
       "0  For example, verbs taking bare infinitives wer...   \n",
       "1  The values of these properties are either atom...   \n",
       "2  Bourigault claims that the grammar can parse `...   \n",
       "3  We presuppose that two type variables and are ...   \n",
       "4  The statistics below show that of 262 non-PRR ...   \n",
       "\n",
       "                                   nltk_pred_summary  \n",
       "0  The left and right context vectors are the bas...  \n",
       "1  A CFG is in Greibach normalform (GNF) if, and ...  \n",
       "2  The fact that this system includes lexical rul...  \n",
       "3  Suppose that we are required to compose all th...  \n",
       "4  In the following, remember that what we called...  "
      ]
     },
     "execution_count": 18,
     "metadata": {},
     "output_type": "execute_result"
    }
   ],
   "source": [
    "df[\"nltk_pred_summary\"] = df.apply(lambda x: nltk_summarizer_n(x[\"text\"], x[\"abstract_size\"]), axis=1)\n",
    "df.head()"
   ]
  },
  {
   "cell_type": "code",
   "execution_count": 19,
   "metadata": {},
   "outputs": [],
   "source": [
    "df.to_csv(\"data/tipster_with_predicted_summaries.csv\")"
   ]
  },
  {
   "cell_type": "code",
   "execution_count": 16,
   "metadata": {},
   "outputs": [
    {
     "data": {
      "text/html": [
       "<div>\n",
       "<style scoped>\n",
       "    .dataframe tbody tr th:only-of-type {\n",
       "        vertical-align: middle;\n",
       "    }\n",
       "\n",
       "    .dataframe tbody tr th {\n",
       "        vertical-align: top;\n",
       "    }\n",
       "\n",
       "    .dataframe thead th {\n",
       "        text-align: right;\n",
       "    }\n",
       "</style>\n",
       "<table border=\"1\" class=\"dataframe\">\n",
       "  <thead>\n",
       "    <tr style=\"text-align: right;\">\n",
       "      <th></th>\n",
       "      <th>abstract</th>\n",
       "      <th>text</th>\n",
       "      <th>abstract_size</th>\n",
       "      <th>pred_summary</th>\n",
       "      <th>nltk_pred_summary</th>\n",
       "    </tr>\n",
       "  </thead>\n",
       "  <tbody>\n",
       "    <tr>\n",
       "      <th>0</th>\n",
       "      <td>This paper presents an algorithm for tagging ...</td>\n",
       "      <td>Since online text becomes available in ever i...</td>\n",
       "      <td>3</td>\n",
       "      <td>For example, verbs taking bare infinitives wer...</td>\n",
       "      <td>The left and right context vectors are the bas...</td>\n",
       "    </tr>\n",
       "    <tr>\n",
       "      <th>1</th>\n",
       "      <td>The recognition problem for attribute-value g...</td>\n",
       "      <td>Although a universal feature theory does not ...</td>\n",
       "      <td>4</td>\n",
       "      <td>The values of these properties are either atom...</td>\n",
       "      <td>A CFG is in Greibach normalform (GNF) if, and ...</td>\n",
       "    </tr>\n",
       "    <tr>\n",
       "      <th>2</th>\n",
       "      <td>Eric Brill introduced transformation-based le...</td>\n",
       "      <td>Text chunking involves dividing sentences int...</td>\n",
       "      <td>5</td>\n",
       "      <td>Bourigault claims that the grammar can parse `...</td>\n",
       "      <td>The fact that this system includes lexical rul...</td>\n",
       "    </tr>\n",
       "    <tr>\n",
       "      <th>3</th>\n",
       "      <td>We propose a paradigm for concurrent natural ...</td>\n",
       "      <td>Parallel and distributed computation is expec...</td>\n",
       "      <td>5</td>\n",
       "      <td>We presuppose that two type variables and are ...</td>\n",
       "      <td>Suppose that we are required to compose all th...</td>\n",
       "    </tr>\n",
       "    <tr>\n",
       "      <th>4</th>\n",
       "      <td>We propose an algorithm to resolve anaphors, ...</td>\n",
       "      <td>Intrasentential antecedents, i.e., antecedent...</td>\n",
       "      <td>5</td>\n",
       "      <td>The statistics below show that of 262 non-PRR ...</td>\n",
       "      <td>In the following, remember that what we called...</td>\n",
       "    </tr>\n",
       "  </tbody>\n",
       "</table>\n",
       "</div>"
      ],
      "text/plain": [
       "                                            abstract  \\\n",
       "0   This paper presents an algorithm for tagging ...   \n",
       "1   The recognition problem for attribute-value g...   \n",
       "2   Eric Brill introduced transformation-based le...   \n",
       "3   We propose a paradigm for concurrent natural ...   \n",
       "4   We propose an algorithm to resolve anaphors, ...   \n",
       "\n",
       "                                                text  abstract_size  \\\n",
       "0   Since online text becomes available in ever i...              3   \n",
       "1   Although a universal feature theory does not ...              4   \n",
       "2   Text chunking involves dividing sentences int...              5   \n",
       "3   Parallel and distributed computation is expec...              5   \n",
       "4   Intrasentential antecedents, i.e., antecedent...              5   \n",
       "\n",
       "                                        pred_summary  \\\n",
       "0  For example, verbs taking bare infinitives wer...   \n",
       "1  The values of these properties are either atom...   \n",
       "2  Bourigault claims that the grammar can parse `...   \n",
       "3  We presuppose that two type variables and are ...   \n",
       "4  The statistics below show that of 262 non-PRR ...   \n",
       "\n",
       "                                   nltk_pred_summary  \n",
       "0  The left and right context vectors are the bas...  \n",
       "1  A CFG is in Greibach normalform (GNF) if, and ...  \n",
       "2  The fact that this system includes lexical rul...  \n",
       "3  Suppose that we are required to compose all th...  \n",
       "4  In the following, remember that what we called...  "
      ]
     },
     "execution_count": 16,
     "metadata": {},
     "output_type": "execute_result"
    }
   ],
   "source": [
    "df = pd.read_csv(\"data/tipster_with_predicted_summaries.csv\", index_col=0)\n",
    "df.head()"
   ]
  },
  {
   "cell_type": "code",
   "execution_count": 17,
   "metadata": {
    "scrolled": true
   },
   "outputs": [
    {
     "data": {
      "text/html": [
       "<div>\n",
       "<style scoped>\n",
       "    .dataframe tbody tr th:only-of-type {\n",
       "        vertical-align: middle;\n",
       "    }\n",
       "\n",
       "    .dataframe tbody tr th {\n",
       "        vertical-align: top;\n",
       "    }\n",
       "\n",
       "    .dataframe thead th {\n",
       "        text-align: right;\n",
       "    }\n",
       "</style>\n",
       "<table border=\"1\" class=\"dataframe\">\n",
       "  <thead>\n",
       "    <tr style=\"text-align: right;\">\n",
       "      <th></th>\n",
       "      <th>abstract</th>\n",
       "      <th>text</th>\n",
       "      <th>abstract_size</th>\n",
       "      <th>pred_summary</th>\n",
       "      <th>nltk_pred_summary</th>\n",
       "      <th>pred_summary_score</th>\n",
       "      <th>my_pred_summary_score</th>\n",
       "    </tr>\n",
       "  </thead>\n",
       "  <tbody>\n",
       "    <tr>\n",
       "      <th>0</th>\n",
       "      <td>This paper presents an algorithm for tagging ...</td>\n",
       "      <td>Since online text becomes available in ever i...</td>\n",
       "      <td>3</td>\n",
       "      <td>For example, verbs taking bare infinitives wer...</td>\n",
       "      <td>The left and right context vectors are the bas...</td>\n",
       "      <td>(0.13438735177865613, 0.0)</td>\n",
       "      <td>[0.1044776119402985, 0.3333333333333333, 0.231...</td>\n",
       "    </tr>\n",
       "    <tr>\n",
       "      <th>1</th>\n",
       "      <td>The recognition problem for attribute-value g...</td>\n",
       "      <td>Although a universal feature theory does not ...</td>\n",
       "      <td>4</td>\n",
       "      <td>The values of these properties are either atom...</td>\n",
       "      <td>A CFG is in Greibach normalform (GNF) if, and ...</td>\n",
       "      <td>(0.23026315789473686, 0.03973509933774834)</td>\n",
       "      <td>[0.08450704225352113, 0.13636363636363635, 0.1...</td>\n",
       "    </tr>\n",
       "    <tr>\n",
       "      <th>2</th>\n",
       "      <td>Eric Brill introduced transformation-based le...</td>\n",
       "      <td>Text chunking involves dividing sentences int...</td>\n",
       "      <td>5</td>\n",
       "      <td>Bourigault claims that the grammar can parse `...</td>\n",
       "      <td>The fact that this system includes lexical rul...</td>\n",
       "      <td>(0.2693409742120344, 0.046109510086455335)</td>\n",
       "      <td>[0.1702127659574468, 0.2807017543859649, 0.248...</td>\n",
       "    </tr>\n",
       "    <tr>\n",
       "      <th>3</th>\n",
       "      <td>We propose a paradigm for concurrent natural ...</td>\n",
       "      <td>Parallel and distributed computation is expec...</td>\n",
       "      <td>5</td>\n",
       "      <td>We presuppose that two type variables and are ...</td>\n",
       "      <td>Suppose that we are required to compose all th...</td>\n",
       "      <td>(0.2051282051282051, 0.022140221402214024)</td>\n",
       "      <td>[0.16304347826086957, 0.3191489361702128, 0.26...</td>\n",
       "    </tr>\n",
       "    <tr>\n",
       "      <th>4</th>\n",
       "      <td>We propose an algorithm to resolve anaphors, ...</td>\n",
       "      <td>Intrasentential antecedents, i.e., antecedent...</td>\n",
       "      <td>5</td>\n",
       "      <td>The statistics below show that of 262 non-PRR ...</td>\n",
       "      <td>In the following, remember that what we called...</td>\n",
       "      <td>(0.23272727272727275, 0.029304029304029307)</td>\n",
       "      <td>[0.125, 0.29411764705882354, 0.23148148148148148]</td>\n",
       "    </tr>\n",
       "  </tbody>\n",
       "</table>\n",
       "</div>"
      ],
      "text/plain": [
       "                                            abstract  \\\n",
       "0   This paper presents an algorithm for tagging ...   \n",
       "1   The recognition problem for attribute-value g...   \n",
       "2   Eric Brill introduced transformation-based le...   \n",
       "3   We propose a paradigm for concurrent natural ...   \n",
       "4   We propose an algorithm to resolve anaphors, ...   \n",
       "\n",
       "                                                text  abstract_size  \\\n",
       "0   Since online text becomes available in ever i...              3   \n",
       "1   Although a universal feature theory does not ...              4   \n",
       "2   Text chunking involves dividing sentences int...              5   \n",
       "3   Parallel and distributed computation is expec...              5   \n",
       "4   Intrasentential antecedents, i.e., antecedent...              5   \n",
       "\n",
       "                                        pred_summary  \\\n",
       "0  For example, verbs taking bare infinitives wer...   \n",
       "1  The values of these properties are either atom...   \n",
       "2  Bourigault claims that the grammar can parse `...   \n",
       "3  We presuppose that two type variables and are ...   \n",
       "4  The statistics below show that of 262 non-PRR ...   \n",
       "\n",
       "                                   nltk_pred_summary  \\\n",
       "0  The left and right context vectors are the bas...   \n",
       "1  A CFG is in Greibach normalform (GNF) if, and ...   \n",
       "2  The fact that this system includes lexical rul...   \n",
       "3  Suppose that we are required to compose all th...   \n",
       "4  In the following, remember that what we called...   \n",
       "\n",
       "                            pred_summary_score  \\\n",
       "0                   (0.13438735177865613, 0.0)   \n",
       "1   (0.23026315789473686, 0.03973509933774834)   \n",
       "2   (0.2693409742120344, 0.046109510086455335)   \n",
       "3   (0.2051282051282051, 0.022140221402214024)   \n",
       "4  (0.23272727272727275, 0.029304029304029307)   \n",
       "\n",
       "                               my_pred_summary_score  \n",
       "0  [0.1044776119402985, 0.3333333333333333, 0.231...  \n",
       "1  [0.08450704225352113, 0.13636363636363635, 0.1...  \n",
       "2  [0.1702127659574468, 0.2807017543859649, 0.248...  \n",
       "3  [0.16304347826086957, 0.3191489361702128, 0.26...  \n",
       "4  [0.125, 0.29411764705882354, 0.23148148148148148]  "
      ]
     },
     "execution_count": 17,
     "metadata": {},
     "output_type": "execute_result"
    }
   ],
   "source": [
    "df[\"pred_summary_score\"] = df.apply(lambda x: score(x[\"nltk_pred_summary\"], x[\"abstract\"]), axis=1)\n",
    "df[\"my_pred_summary_score\"] = df.apply(lambda x: get_rouge_score(x[\"nltk_pred_summary\"], x[\"abstract\"]), axis=1)\n",
    "df.head()"
   ]
  },
  {
   "cell_type": "code",
   "execution_count": 18,
   "metadata": {},
   "outputs": [],
   "source": [
    "rouge1 = [a[0] for a in df[\"pred_summary_score\"].values]\n",
    "rouge2 = [a[1] for a in df[\"pred_summary_score\"].values]\n",
    "\n",
    "my_precisions = [a[0] for a in df[\"my_pred_summary_score\"].values]\n",
    "my_recalls = [a[1] for a in df[\"my_pred_summary_score\"].values]\n",
    "#f2s = [a[2] for a in df[\"my_pred_summary_score\"].values]\n",
    "\n",
    "x = list(range(len(my_precisions)))"
   ]
  },
  {
   "cell_type": "code",
   "execution_count": 20,
   "metadata": {},
   "outputs": [
    {
     "data": {
      "image/png": "[encoded data removed]",
      "text/plain": [
       "<Figure size 864x288 with 2 Axes>"
      ]
     },
     "metadata": {
      "needs_background": "light"
     },
     "output_type": "display_data"
    }
   ],
   "source": [
    "fig, axs = plt.subplots(1, 2, figsize=(12, 4))\n",
    "\n",
    "#sns.regplot(x2, rouge1_2, scatter=True, ax=axs[0,0])\n",
    "#sns.regplot(x2, rouge2_2, scatter=True, ax=axs[0,1])\n",
    "\n",
    "axs[0].scatter(x, my_precisions, color='#da33ff')\n",
    "axs[0].set_ylim(0,1)\n",
    "axs[0].set_xlim(0,150)\n",
    "#axs[0].get_xaxis().set_visible(False)\n",
    "\n",
    "axs[1].scatter(x, my_recalls, color='#60e18a')\n",
    "axs[1].set_ylim(0,1)\n",
    "axs[1].set_xlim(0,150)\n",
    "#axs[1].get_xaxis().set_visible(False)\n",
    "\n",
    "#sns.regplot(x2, my_precisions_2, scatter=True, ax=axs[1,0])\n",
    "#sns.regplot(x2, my_recalls_2, scatter=True, ax=axs[1,1])\n",
    "#sns.regplot(x2, f2s, scatter=True, ax=axs[2])\n",
    "\n",
    "plt.savefig(\"presentation/fa_tipster.png\")\n",
    "plt.show()"
   ]
  },
  {
   "cell_type": "code",
   "execution_count": 31,
   "metadata": {},
   "outputs": [
    {
     "data": {
      "image/png": "[encoded data removed]",
      "text/plain": [
       "<Figure size 576x432 with 1 Axes>"
      ]
     },
     "metadata": {
      "needs_background": "light"
     },
     "output_type": "display_data"
    }
   ],
   "source": [
    "fig, axs = plt.subplots(figsize=(8, 6), sharey=True)\n",
    "sns.scatterplot(my_precisions, my_recalls, ax=axs)\n",
    "axs.set(xlabel='Precision', ylabel='Recall')\n",
    "axs.axhline(0.5, alpha=0.4)  #horizontal line\n",
    "axs.axvline(0.5, alpha=0.4)  #vertical line\n",
    "axs.set_xlim(0,1)\n",
    "axs.set_ylim(0,1)\n",
    "plt.savefig(\"presentation/fa_tipster_eval.png\", transparency=True)"
   ]
  },
  {
   "cell_type": "code",
   "execution_count": 20,
   "metadata": {},
   "outputs": [],
   "source": [
    "df[[\"pred_summary_score\", \"my_pred_summary_score\"]].to_csv(\"data/tipster_scores.csv\")"
   ]
  },
  {
   "cell_type": "markdown",
   "metadata": {},
   "source": [
    "### Evaluating using BBC NEWS test data"
   ]
  },
  {
   "cell_type": "code",
   "execution_count": 33,
   "metadata": {},
   "outputs": [
    {
     "data": {
      "text/html": [
       "<div>\n",
       "<style scoped>\n",
       "    .dataframe tbody tr th:only-of-type {\n",
       "        vertical-align: middle;\n",
       "    }\n",
       "\n",
       "    .dataframe tbody tr th {\n",
       "        vertical-align: top;\n",
       "    }\n",
       "\n",
       "    .dataframe thead th {\n",
       "        text-align: right;\n",
       "    }\n",
       "</style>\n",
       "<table border=\"1\" class=\"dataframe\">\n",
       "  <thead>\n",
       "    <tr style=\"text-align: right;\">\n",
       "      <th></th>\n",
       "      <th>abstract</th>\n",
       "      <th>text</th>\n",
       "      <th>abstract_size</th>\n",
       "      <th>pred_summary</th>\n",
       "      <th>nltk_pred_summary</th>\n",
       "    </tr>\n",
       "  </thead>\n",
       "  <tbody>\n",
       "    <tr>\n",
       "      <th>0</th>\n",
       "      <td>The messages will be \"unwrapped\" by sculptor R...</td>\n",
       "      <td>Gallery unveils interactive tree\\n\\nA Christma...</td>\n",
       "      <td>5</td>\n",
       "      <td>The messages will be \"unwrapped\" by sculptor R...</td>\n",
       "      <td>Gallery unveils interactive tree A Christmas t...</td>\n",
       "    </tr>\n",
       "    <tr>\n",
       "      <th>1</th>\n",
       "      <td>Bloom is to be formally presented with the Han...</td>\n",
       "      <td>Jarre joins fairytale celebration\\n\\nFrench mu...</td>\n",
       "      <td>6</td>\n",
       "      <td>Jarre joins fairytale celebration French music...</td>\n",
       "      <td>Jarre joins fairytale celebration French music...</td>\n",
       "    </tr>\n",
       "    <tr>\n",
       "      <th>2</th>\n",
       "      <td>The classic film It's A Wonderful Life is to b...</td>\n",
       "      <td>Musical treatment for Capra film\\n\\nThe classi...</td>\n",
       "      <td>4</td>\n",
       "      <td>Frank Capra's 1946 movie starring James Stewar...</td>\n",
       "      <td>Musical treatment for Capra film The classic f...</td>\n",
       "    </tr>\n",
       "    <tr>\n",
       "      <th>3</th>\n",
       "      <td>\"It was very hard to follow last year's extrem...</td>\n",
       "      <td>Richard and Judy choose top books\\n\\nThe 10 au...</td>\n",
       "      <td>5</td>\n",
       "      <td>Richard and Judy choose top books The 10 autho...</td>\n",
       "      <td>\"It was very hard to follow last year's extrem...</td>\n",
       "    </tr>\n",
       "    <tr>\n",
       "      <th>4</th>\n",
       "      <td>Mary Poppins was originally created by author ...</td>\n",
       "      <td>Poppins musical gets flying start\\n\\nThe stage...</td>\n",
       "      <td>4</td>\n",
       "      <td>Lead actress Laura Michelle Kelly soared over ...</td>\n",
       "      <td>Poppins musical gets flying start The stage ad...</td>\n",
       "    </tr>\n",
       "  </tbody>\n",
       "</table>\n",
       "</div>"
      ],
      "text/plain": [
       "                                            abstract  \\\n",
       "0  The messages will be \"unwrapped\" by sculptor R...   \n",
       "1  Bloom is to be formally presented with the Han...   \n",
       "2  The classic film It's A Wonderful Life is to b...   \n",
       "3  \"It was very hard to follow last year's extrem...   \n",
       "4  Mary Poppins was originally created by author ...   \n",
       "\n",
       "                                                text  abstract_size  \\\n",
       "0  Gallery unveils interactive tree\\n\\nA Christma...              5   \n",
       "1  Jarre joins fairytale celebration\\n\\nFrench mu...              6   \n",
       "2  Musical treatment for Capra film\\n\\nThe classi...              4   \n",
       "3  Richard and Judy choose top books\\n\\nThe 10 au...              5   \n",
       "4  Poppins musical gets flying start\\n\\nThe stage...              4   \n",
       "\n",
       "                                        pred_summary  \\\n",
       "0  The messages will be \"unwrapped\" by sculptor R...   \n",
       "1  Jarre joins fairytale celebration French music...   \n",
       "2  Frank Capra's 1946 movie starring James Stewar...   \n",
       "3  Richard and Judy choose top books The 10 autho...   \n",
       "4  Lead actress Laura Michelle Kelly soared over ...   \n",
       "\n",
       "                                   nltk_pred_summary  \n",
       "0  Gallery unveils interactive tree A Christmas t...  \n",
       "1  Jarre joins fairytale celebration French music...  \n",
       "2  Musical treatment for Capra film The classic f...  \n",
       "3  \"It was very hard to follow last year's extrem...  \n",
       "4  Poppins musical gets flying start The stage ad...  "
      ]
     },
     "execution_count": 33,
     "metadata": {},
     "output_type": "execute_result"
    }
   ],
   "source": [
    "df2 = pd.read_csv(\"data/bbc_with_predicted_summaries.csv\", index_col=0)\n",
    "df2.head()"
   ]
  },
  {
   "cell_type": "code",
   "execution_count": 57,
   "metadata": {},
   "outputs": [
    {
     "data": {
      "text/html": [
       "<div>\n",
       "<style scoped>\n",
       "    .dataframe tbody tr th:only-of-type {\n",
       "        vertical-align: middle;\n",
       "    }\n",
       "\n",
       "    .dataframe tbody tr th {\n",
       "        vertical-align: top;\n",
       "    }\n",
       "\n",
       "    .dataframe thead th {\n",
       "        text-align: right;\n",
       "    }\n",
       "</style>\n",
       "<table border=\"1\" class=\"dataframe\">\n",
       "  <thead>\n",
       "    <tr style=\"text-align: right;\">\n",
       "      <th></th>\n",
       "      <th>abstract</th>\n",
       "      <th>text</th>\n",
       "      <th>abstract_size</th>\n",
       "      <th>pred_summary</th>\n",
       "      <th>nltk_pred_summary</th>\n",
       "    </tr>\n",
       "  </thead>\n",
       "  <tbody>\n",
       "    <tr>\n",
       "      <th>0</th>\n",
       "      <td>The messages will be \"unwrapped\" by sculptor R...</td>\n",
       "      <td>Gallery unveils interactive tree\\n\\nA Christma...</td>\n",
       "      <td>5</td>\n",
       "      <td>The messages will be \"unwrapped\" by sculptor R...</td>\n",
       "      <td>Gallery unveils interactive tree A Christmas t...</td>\n",
       "    </tr>\n",
       "    <tr>\n",
       "      <th>1</th>\n",
       "      <td>Bloom is to be formally presented with the Han...</td>\n",
       "      <td>Jarre joins fairytale celebration\\n\\nFrench mu...</td>\n",
       "      <td>6</td>\n",
       "      <td>Jarre joins fairytale celebration French music...</td>\n",
       "      <td>Jarre joins fairytale celebration French music...</td>\n",
       "    </tr>\n",
       "    <tr>\n",
       "      <th>2</th>\n",
       "      <td>The classic film It's A Wonderful Life is to b...</td>\n",
       "      <td>Musical treatment for Capra film\\n\\nThe classi...</td>\n",
       "      <td>4</td>\n",
       "      <td>Frank Capra's 1946 movie starring James Stewar...</td>\n",
       "      <td>Musical treatment for Capra film The classic f...</td>\n",
       "    </tr>\n",
       "    <tr>\n",
       "      <th>3</th>\n",
       "      <td>\"It was very hard to follow last year's extrem...</td>\n",
       "      <td>Richard and Judy choose top books\\n\\nThe 10 au...</td>\n",
       "      <td>5</td>\n",
       "      <td>Richard and Judy choose top books The 10 autho...</td>\n",
       "      <td>\"It was very hard to follow last year's extrem...</td>\n",
       "    </tr>\n",
       "    <tr>\n",
       "      <th>4</th>\n",
       "      <td>Mary Poppins was originally created by author ...</td>\n",
       "      <td>Poppins musical gets flying start\\n\\nThe stage...</td>\n",
       "      <td>4</td>\n",
       "      <td>Lead actress Laura Michelle Kelly soared over ...</td>\n",
       "      <td>Poppins musical gets flying start The stage ad...</td>\n",
       "    </tr>\n",
       "  </tbody>\n",
       "</table>\n",
       "</div>"
      ],
      "text/plain": [
       "                                            abstract  \\\n",
       "0  The messages will be \"unwrapped\" by sculptor R...   \n",
       "1  Bloom is to be formally presented with the Han...   \n",
       "2  The classic film It's A Wonderful Life is to b...   \n",
       "3  \"It was very hard to follow last year's extrem...   \n",
       "4  Mary Poppins was originally created by author ...   \n",
       "\n",
       "                                                text  abstract_size  \\\n",
       "0  Gallery unveils interactive tree\\n\\nA Christma...              5   \n",
       "1  Jarre joins fairytale celebration\\n\\nFrench mu...              6   \n",
       "2  Musical treatment for Capra film\\n\\nThe classi...              4   \n",
       "3  Richard and Judy choose top books\\n\\nThe 10 au...              5   \n",
       "4  Poppins musical gets flying start\\n\\nThe stage...              4   \n",
       "\n",
       "                                        pred_summary  \\\n",
       "0  The messages will be \"unwrapped\" by sculptor R...   \n",
       "1  Jarre joins fairytale celebration French music...   \n",
       "2  Frank Capra's 1946 movie starring James Stewar...   \n",
       "3  Richard and Judy choose top books The 10 autho...   \n",
       "4  Lead actress Laura Michelle Kelly soared over ...   \n",
       "\n",
       "                                   nltk_pred_summary  \n",
       "0  Gallery unveils interactive tree A Christmas t...  \n",
       "1  Jarre joins fairytale celebration French music...  \n",
       "2  Musical treatment for Capra film The classic f...  \n",
       "3  \"It was very hard to follow last year's extrem...  \n",
       "4  Poppins musical gets flying start The stage ad...  "
      ]
     },
     "execution_count": 57,
     "metadata": {},
     "output_type": "execute_result"
    }
   ],
   "source": [
    "df2[\"nltk_pred_summary\"] = df2.apply(lambda x: nltk_summarizer_n(x[\"text\"], x[\"abstract_size\"]), axis=1)\n",
    "df2.head()"
   ]
  },
  {
   "cell_type": "code",
   "execution_count": 58,
   "metadata": {},
   "outputs": [],
   "source": [
    "df2.to_csv(\"data/bbc_with_predicted_summaries.csv\")"
   ]
  },
  {
   "cell_type": "code",
   "execution_count": 21,
   "metadata": {},
   "outputs": [
    {
     "data": {
      "text/html": [
       "<div>\n",
       "<style scoped>\n",
       "    .dataframe tbody tr th:only-of-type {\n",
       "        vertical-align: middle;\n",
       "    }\n",
       "\n",
       "    .dataframe tbody tr th {\n",
       "        vertical-align: top;\n",
       "    }\n",
       "\n",
       "    .dataframe thead th {\n",
       "        text-align: right;\n",
       "    }\n",
       "</style>\n",
       "<table border=\"1\" class=\"dataframe\">\n",
       "  <thead>\n",
       "    <tr style=\"text-align: right;\">\n",
       "      <th></th>\n",
       "      <th>abstract</th>\n",
       "      <th>text</th>\n",
       "      <th>abstract_size</th>\n",
       "      <th>pred_summary</th>\n",
       "      <th>nltk_pred_summary</th>\n",
       "    </tr>\n",
       "  </thead>\n",
       "  <tbody>\n",
       "    <tr>\n",
       "      <th>0</th>\n",
       "      <td>The messages will be \"unwrapped\" by sculptor R...</td>\n",
       "      <td>Gallery unveils interactive tree\\n\\nA Christma...</td>\n",
       "      <td>5</td>\n",
       "      <td>The messages will be \"unwrapped\" by sculptor R...</td>\n",
       "      <td>Gallery unveils interactive tree A Christmas t...</td>\n",
       "    </tr>\n",
       "    <tr>\n",
       "      <th>1</th>\n",
       "      <td>Bloom is to be formally presented with the Han...</td>\n",
       "      <td>Jarre joins fairytale celebration\\n\\nFrench mu...</td>\n",
       "      <td>6</td>\n",
       "      <td>Jarre joins fairytale celebration French music...</td>\n",
       "      <td>Jarre joins fairytale celebration French music...</td>\n",
       "    </tr>\n",
       "    <tr>\n",
       "      <th>2</th>\n",
       "      <td>The classic film It's A Wonderful Life is to b...</td>\n",
       "      <td>Musical treatment for Capra film\\n\\nThe classi...</td>\n",
       "      <td>4</td>\n",
       "      <td>Frank Capra's 1946 movie starring James Stewar...</td>\n",
       "      <td>Musical treatment for Capra film The classic f...</td>\n",
       "    </tr>\n",
       "    <tr>\n",
       "      <th>3</th>\n",
       "      <td>\"It was very hard to follow last year's extrem...</td>\n",
       "      <td>Richard and Judy choose top books\\n\\nThe 10 au...</td>\n",
       "      <td>5</td>\n",
       "      <td>Richard and Judy choose top books The 10 autho...</td>\n",
       "      <td>\"It was very hard to follow last year's extrem...</td>\n",
       "    </tr>\n",
       "    <tr>\n",
       "      <th>4</th>\n",
       "      <td>Mary Poppins was originally created by author ...</td>\n",
       "      <td>Poppins musical gets flying start\\n\\nThe stage...</td>\n",
       "      <td>4</td>\n",
       "      <td>Lead actress Laura Michelle Kelly soared over ...</td>\n",
       "      <td>Poppins musical gets flying start The stage ad...</td>\n",
       "    </tr>\n",
       "  </tbody>\n",
       "</table>\n",
       "</div>"
      ],
      "text/plain": [
       "                                            abstract  \\\n",
       "0  The messages will be \"unwrapped\" by sculptor R...   \n",
       "1  Bloom is to be formally presented with the Han...   \n",
       "2  The classic film It's A Wonderful Life is to b...   \n",
       "3  \"It was very hard to follow last year's extrem...   \n",
       "4  Mary Poppins was originally created by author ...   \n",
       "\n",
       "                                                text  abstract_size  \\\n",
       "0  Gallery unveils interactive tree\\n\\nA Christma...              5   \n",
       "1  Jarre joins fairytale celebration\\n\\nFrench mu...              6   \n",
       "2  Musical treatment for Capra film\\n\\nThe classi...              4   \n",
       "3  Richard and Judy choose top books\\n\\nThe 10 au...              5   \n",
       "4  Poppins musical gets flying start\\n\\nThe stage...              4   \n",
       "\n",
       "                                        pred_summary  \\\n",
       "0  The messages will be \"unwrapped\" by sculptor R...   \n",
       "1  Jarre joins fairytale celebration French music...   \n",
       "2  Frank Capra's 1946 movie starring James Stewar...   \n",
       "3  Richard and Judy choose top books The 10 autho...   \n",
       "4  Lead actress Laura Michelle Kelly soared over ...   \n",
       "\n",
       "                                   nltk_pred_summary  \n",
       "0  Gallery unveils interactive tree A Christmas t...  \n",
       "1  Jarre joins fairytale celebration French music...  \n",
       "2  Musical treatment for Capra film The classic f...  \n",
       "3  \"It was very hard to follow last year's extrem...  \n",
       "4  Poppins musical gets flying start The stage ad...  "
      ]
     },
     "execution_count": 21,
     "metadata": {},
     "output_type": "execute_result"
    }
   ],
   "source": [
    "df2 = pd.read_csv(\"data/bbc_with_predicted_summaries.csv\", index_col=0)\n",
    "df2.head()"
   ]
  },
  {
   "cell_type": "code",
   "execution_count": 22,
   "metadata": {
    "scrolled": true
   },
   "outputs": [
    {
     "data": {
      "text/html": [
       "<div>\n",
       "<style scoped>\n",
       "    .dataframe tbody tr th:only-of-type {\n",
       "        vertical-align: middle;\n",
       "    }\n",
       "\n",
       "    .dataframe tbody tr th {\n",
       "        vertical-align: top;\n",
       "    }\n",
       "\n",
       "    .dataframe thead th {\n",
       "        text-align: right;\n",
       "    }\n",
       "</style>\n",
       "<table border=\"1\" class=\"dataframe\">\n",
       "  <thead>\n",
       "    <tr style=\"text-align: right;\">\n",
       "      <th></th>\n",
       "      <th>abstract</th>\n",
       "      <th>text</th>\n",
       "      <th>abstract_size</th>\n",
       "      <th>pred_summary</th>\n",
       "      <th>nltk_pred_summary</th>\n",
       "      <th>pred_summary_score</th>\n",
       "      <th>my_pred_summary_score</th>\n",
       "    </tr>\n",
       "  </thead>\n",
       "  <tbody>\n",
       "    <tr>\n",
       "      <th>0</th>\n",
       "      <td>The messages will be \"unwrapped\" by sculptor R...</td>\n",
       "      <td>Gallery unveils interactive tree\\n\\nA Christma...</td>\n",
       "      <td>5</td>\n",
       "      <td>The messages will be \"unwrapped\" by sculptor R...</td>\n",
       "      <td>Gallery unveils interactive tree A Christmas t...</td>\n",
       "      <td>(0.8307692307692308, 0.7875647668393783)</td>\n",
       "      <td>[0.7906976744186046, 0.85, 0.8374384236453202]</td>\n",
       "    </tr>\n",
       "    <tr>\n",
       "      <th>1</th>\n",
       "      <td>Bloom is to be formally presented with the Han...</td>\n",
       "      <td>Jarre joins fairytale celebration\\n\\nFrench mu...</td>\n",
       "      <td>6</td>\n",
       "      <td>Jarre joins fairytale celebration French music...</td>\n",
       "      <td>Jarre joins fairytale celebration French music...</td>\n",
       "      <td>(0.8325791855203619, 0.7853881278538813)</td>\n",
       "      <td>[0.7611940298507462, 0.8947368421052632, 0.864...</td>\n",
       "    </tr>\n",
       "    <tr>\n",
       "      <th>2</th>\n",
       "      <td>The classic film It's A Wonderful Life is to b...</td>\n",
       "      <td>Musical treatment for Capra film\\n\\nThe classi...</td>\n",
       "      <td>4</td>\n",
       "      <td>Frank Capra's 1946 movie starring James Stewar...</td>\n",
       "      <td>Musical treatment for Capra film The classic f...</td>\n",
       "      <td>(0.8216216216216216, 0.7868852459016394)</td>\n",
       "      <td>[0.7857142857142857, 0.868421052631579, 0.8505...</td>\n",
       "    </tr>\n",
       "    <tr>\n",
       "      <th>3</th>\n",
       "      <td>\"It was very hard to follow last year's extrem...</td>\n",
       "      <td>Richard and Judy choose top books\\n\\nThe 10 au...</td>\n",
       "      <td>5</td>\n",
       "      <td>Richard and Judy choose top books The 10 autho...</td>\n",
       "      <td>\"It was very hard to follow last year's extrem...</td>\n",
       "      <td>(0.853658536585366, 0.8278688524590164)</td>\n",
       "      <td>[0.7936507936507936, 0.8928571428571429, 0.871...</td>\n",
       "    </tr>\n",
       "    <tr>\n",
       "      <th>4</th>\n",
       "      <td>Mary Poppins was originally created by author ...</td>\n",
       "      <td>Poppins musical gets flying start\\n\\nThe stage...</td>\n",
       "      <td>4</td>\n",
       "      <td>Lead actress Laura Michelle Kelly soared over ...</td>\n",
       "      <td>Poppins musical gets flying start The stage ad...</td>\n",
       "      <td>(0.9707602339181286, 0.9349112426035503)</td>\n",
       "      <td>[0.9347826086956522, 1.0, 0.9862385321100916]</td>\n",
       "    </tr>\n",
       "  </tbody>\n",
       "</table>\n",
       "</div>"
      ],
      "text/plain": [
       "                                            abstract  \\\n",
       "0  The messages will be \"unwrapped\" by sculptor R...   \n",
       "1  Bloom is to be formally presented with the Han...   \n",
       "2  The classic film It's A Wonderful Life is to b...   \n",
       "3  \"It was very hard to follow last year's extrem...   \n",
       "4  Mary Poppins was originally created by author ...   \n",
       "\n",
       "                                                text  abstract_size  \\\n",
       "0  Gallery unveils interactive tree\\n\\nA Christma...              5   \n",
       "1  Jarre joins fairytale celebration\\n\\nFrench mu...              6   \n",
       "2  Musical treatment for Capra film\\n\\nThe classi...              4   \n",
       "3  Richard and Judy choose top books\\n\\nThe 10 au...              5   \n",
       "4  Poppins musical gets flying start\\n\\nThe stage...              4   \n",
       "\n",
       "                                        pred_summary  \\\n",
       "0  The messages will be \"unwrapped\" by sculptor R...   \n",
       "1  Jarre joins fairytale celebration French music...   \n",
       "2  Frank Capra's 1946 movie starring James Stewar...   \n",
       "3  Richard and Judy choose top books The 10 autho...   \n",
       "4  Lead actress Laura Michelle Kelly soared over ...   \n",
       "\n",
       "                                   nltk_pred_summary  \\\n",
       "0  Gallery unveils interactive tree A Christmas t...   \n",
       "1  Jarre joins fairytale celebration French music...   \n",
       "2  Musical treatment for Capra film The classic f...   \n",
       "3  \"It was very hard to follow last year's extrem...   \n",
       "4  Poppins musical gets flying start The stage ad...   \n",
       "\n",
       "                         pred_summary_score  \\\n",
       "0  (0.8307692307692308, 0.7875647668393783)   \n",
       "1  (0.8325791855203619, 0.7853881278538813)   \n",
       "2  (0.8216216216216216, 0.7868852459016394)   \n",
       "3   (0.853658536585366, 0.8278688524590164)   \n",
       "4  (0.9707602339181286, 0.9349112426035503)   \n",
       "\n",
       "                               my_pred_summary_score  \n",
       "0     [0.7906976744186046, 0.85, 0.8374384236453202]  \n",
       "1  [0.7611940298507462, 0.8947368421052632, 0.864...  \n",
       "2  [0.7857142857142857, 0.868421052631579, 0.8505...  \n",
       "3  [0.7936507936507936, 0.8928571428571429, 0.871...  \n",
       "4      [0.9347826086956522, 1.0, 0.9862385321100916]  "
      ]
     },
     "execution_count": 22,
     "metadata": {},
     "output_type": "execute_result"
    }
   ],
   "source": [
    "df2[\"pred_summary_score\"] = df2.apply(lambda x: score(x[\"nltk_pred_summary\"], x[\"abstract\"]), axis=1)\n",
    "df2[\"my_pred_summary_score\"] = df2.apply(lambda x: get_rouge_score(x[\"nltk_pred_summary\"], x[\"abstract\"]), axis=1)\n",
    "df2.head()"
   ]
  },
  {
   "cell_type": "code",
   "execution_count": 23,
   "metadata": {},
   "outputs": [],
   "source": [
    "rouge1_2 = [a[0] for a in df2[\"pred_summary_score\"].values]\n",
    "rouge2_2 = [a[1] for a in df2[\"pred_summary_score\"].values]\n",
    "\n",
    "my_precisions_2 = [a[0] for a in df2[\"my_pred_summary_score\"].values]\n",
    "my_recalls_2 = [a[1] for a in df2[\"my_pred_summary_score\"].values]\n",
    "#f2s = [a[2] for a in df2[\"my_pred_summary_score\"].values]\n",
    "\n",
    "x2 = list(range(len(my_precisions_2)))"
   ]
  },
  {
   "cell_type": "code",
   "execution_count": 24,
   "metadata": {
    "scrolled": true
   },
   "outputs": [
    {
     "data": {
      "image/png": "[encoded data removed]",
      "text/plain": [
       "<Figure size 864x288 with 2 Axes>"
      ]
     },
     "metadata": {
      "needs_background": "light"
     },
     "output_type": "display_data"
    }
   ],
   "source": [
    "fig, axs = plt.subplots(1, 2, figsize=(12, 4))\n",
    "\n",
    "#sns.regplot(x2, rouge1_2, scatter=True, ax=axs[0,0])\n",
    "#sns.regplot(x2, rouge2_2, scatter=True, ax=axs[0,1])\n",
    "\n",
    "axs[0].scatter(x2, my_precisions_2, color='#da33ff')\n",
    "axs[0].set_ylim(0,1)\n",
    "axs[0].set_xlim(0,150)\n",
    "#axs[0].get_xaxis().set_visible(False)\n",
    "\n",
    "axs[1].scatter(x2, my_recalls_2, color='#60e18a')\n",
    "axs[1].set_ylim(0,1)\n",
    "axs[1].set_xlim(0,150)\n",
    "#axs[1].get_xaxis().set_visible(False)\n",
    "\n",
    "#sns.regplot(x2, my_precisions_2, scatter=True, ax=axs[1,0])\n",
    "#sns.regplot(x2, my_recalls_2, scatter=True, ax=axs[1,1])\n",
    "#sns.regplot(x2, f2s, scatter=True, ax=axs[2])\n",
    "\n",
    "plt.savefig(\"presentation/fa_bbc.png\")\n",
    "plt.show()"
   ]
  },
  {
   "cell_type": "code",
   "execution_count": 37,
   "metadata": {},
   "outputs": [
    {
     "data": {
      "image/png": "[encoded data removed]",
      "text/plain": [
       "<Figure size 576x432 with 1 Axes>"
      ]
     },
     "metadata": {
      "needs_background": "light"
     },
     "output_type": "display_data"
    }
   ],
   "source": [
    "fig, axs = plt.subplots(figsize=(8, 6), sharey=True)\n",
    "sns.scatterplot(my_precisions_2, my_recalls_2, ax=axs)\n",
    "axs.set(xlabel='Precision', ylabel='Recall')\n",
    "axs.axhline(0.5, alpha=0.4)  #horizontal line\n",
    "axs.axvline(0.5, alpha=0.4)  #vertical line\n",
    "axs.set_xlim(0,1)\n",
    "axs.set_ylim(0,1)\n",
    "plt.savefig(\"presentation/fa_bbc_eval.png\", transparency=True)"
   ]
  },
  {
   "cell_type": "code",
   "execution_count": 25,
   "metadata": {},
   "outputs": [],
   "source": [
    "df2[[\"pred_summary_score\", \"my_pred_summary_score\"]].to_csv(\"data/bbc_scores.csv\")"
   ]
  },
  {
   "cell_type": "code",
   "execution_count": 98,
   "metadata": {
    "scrolled": false
   },
   "outputs": [
    {
     "name": "stdout",
     "output_type": "stream",
     "text": [
      "She said the play is being produced and performed by Ugandan women and it is not being forced on them.But the organisers of the play say it raises awareness of sexual abuse against women.\"The play promotes illegal, unnatural sexual acts, homosexuality and prostitution, it should be and is hereby banned,\" the council's ruling said.Uganda's authorities have banned the play The Vagina Monologues, due to open in the capital, Kampala this weekend.The four Ugandan NGOs organising the play intended to raise money to campaign to stop violence against women and to raise funds for the war-torn north of the country.\"There is obviously some fear of the vagina and saying the word vagina,\" Ms Ensler told the BBC. \n",
      "\n",
      "\n",
      " \"I'm amazed that this country Uganda gives the impression that it is progressive and supports women's rights and the notions of free speech; yet when women want to share their stories the government uses the apparatus of state to shut us up. \" The four Ugandan NGOs organising the play intended to raise money to campaign to stop violence against women and to raise funds for the war-torn north of the country. \"I'm extremely outraged at the hypocrisy,\" the play's organiser in Uganda, Sarah Mukasa, told the BBC's Focus on Africa programme. \"The play promotes illegal, unnatural sexual acts, homosexuality and prostitution, it should be and is hereby banned,\" the council's ruling said. But the organisers of the play say it raises awareness of sexual abuse against women. \"The play is obscene and pornographic although it was under the guise of women's liberation,\" MP Kefa Ssempgani told parliament. \n",
      "\n",
      "\n",
      " It said the production could go ahead if the organisers \"expunge all the offending parts\". Uganda bans Vagina Monologues Uganda's authorities have banned the play The Vagina Monologues, due to open in the capital, Kampala this weekend. The Ugandan Media Council said the performance would not be put on as it promoted and glorified acts such as lesbianism and homosexuality. But the organisers of the play say it raises awareness of sexual abuse against women. \"The play is obscene and pornographic although it was under the guise of women's liberation,\" MP Kefa Ssempgani told parliament. \"It's not a slang word or dirty word it's a biological, anatomical word.\"\n"
     ]
    }
   ],
   "source": [
    "print(df2[\"abstract\"][9], \"\\n\\n\\n\", df2[\"nltk_pred_summary\"][9], \"\\n\\n\\n\", df2[\"pred_summary\"][9])"
   ]
  },
  {
   "cell_type": "markdown",
   "metadata": {},
   "source": [
    "### Evaluating using NEWS SUMMARY (KAGGLE) test data"
   ]
  },
  {
   "cell_type": "code",
   "execution_count": 23,
   "metadata": {},
   "outputs": [
    {
     "data": {
      "text/html": [
       "<div>\n",
       "<style scoped>\n",
       "    .dataframe tbody tr th:only-of-type {\n",
       "        vertical-align: middle;\n",
       "    }\n",
       "\n",
       "    .dataframe tbody tr th {\n",
       "        vertical-align: top;\n",
       "    }\n",
       "\n",
       "    .dataframe thead th {\n",
       "        text-align: right;\n",
       "    }\n",
       "</style>\n",
       "<table border=\"1\" class=\"dataframe\">\n",
       "  <thead>\n",
       "    <tr style=\"text-align: right;\">\n",
       "      <th></th>\n",
       "      <th>text</th>\n",
       "      <th>abstract</th>\n",
       "      <th>abstract_size</th>\n",
       "      <th>pred_summary</th>\n",
       "    </tr>\n",
       "  </thead>\n",
       "  <tbody>\n",
       "    <tr>\n",
       "      <th>3344</th>\n",
       "      <td>India's only existing steam engine was put on ...</td>\n",
       "      <td>A shiny, sleek white steam engine huffing and ...</td>\n",
       "      <td>16</td>\n",
       "      <td>India's only existing steam engine was put on ...</td>\n",
       "    </tr>\n",
       "    <tr>\n",
       "      <th>3080</th>\n",
       "      <td>A producer filed a petition claiming the title...</td>\n",
       "      <td>A court on Thursday sought the response of sup...</td>\n",
       "      <td>25</td>\n",
       "      <td>A producer filed a petition claiming the title...</td>\n",
       "    </tr>\n",
       "    <tr>\n",
       "      <th>858</th>\n",
       "      <td>Television actor Karan Wahi has slammed the se...</td>\n",
       "      <td>Television actor Karan Wahi has expressed his ...</td>\n",
       "      <td>47</td>\n",
       "      <td>Television actor Karan Wahi has slammed the se...</td>\n",
       "    </tr>\n",
       "    <tr>\n",
       "      <th>227</th>\n",
       "      <td>Twenty-nine Indian cities and towns including ...</td>\n",
       "      <td>Twenty-nine Indian cities and towns, including...</td>\n",
       "      <td>22</td>\n",
       "      <td>Twenty-nine Indian cities and towns including ...</td>\n",
       "    </tr>\n",
       "    <tr>\n",
       "      <th>177</th>\n",
       "      <td>The Gorkha Janmukti Morcha (GJM) has given the...</td>\n",
       "      <td>The Gorkha Janamukti Morcha has given a ten-da...</td>\n",
       "      <td>14</td>\n",
       "      <td>The Gorkha Janmukti Morcha (GJM) has given the...</td>\n",
       "    </tr>\n",
       "  </tbody>\n",
       "</table>\n",
       "</div>"
      ],
      "text/plain": [
       "                                                   text  \\\n",
       "3344  India's only existing steam engine was put on ...   \n",
       "3080  A producer filed a petition claiming the title...   \n",
       "858   Television actor Karan Wahi has slammed the se...   \n",
       "227   Twenty-nine Indian cities and towns including ...   \n",
       "177   The Gorkha Janmukti Morcha (GJM) has given the...   \n",
       "\n",
       "                                               abstract  abstract_size  \\\n",
       "3344  A shiny, sleek white steam engine huffing and ...             16   \n",
       "3080  A court on Thursday sought the response of sup...             25   \n",
       "858   Television actor Karan Wahi has expressed his ...             47   \n",
       "227   Twenty-nine Indian cities and towns, including...             22   \n",
       "177   The Gorkha Janamukti Morcha has given a ten-da...             14   \n",
       "\n",
       "                                           pred_summary  \n",
       "3344  India's only existing steam engine was put on ...  \n",
       "3080  A producer filed a petition claiming the title...  \n",
       "858   Television actor Karan Wahi has slammed the se...  \n",
       "227   Twenty-nine Indian cities and towns including ...  \n",
       "177   The Gorkha Janmukti Morcha (GJM) has given the...  "
      ]
     },
     "execution_count": 23,
     "metadata": {},
     "output_type": "execute_result"
    }
   ],
   "source": [
    "df3 = pd.read_csv(\"data/kaggle_with_predicted_summaries.csv\", index_col=0)\n",
    "df3.head()"
   ]
  },
  {
   "cell_type": "code",
   "execution_count": 24,
   "metadata": {},
   "outputs": [
    {
     "data": {
      "text/html": [
       "<div>\n",
       "<style scoped>\n",
       "    .dataframe tbody tr th:only-of-type {\n",
       "        vertical-align: middle;\n",
       "    }\n",
       "\n",
       "    .dataframe tbody tr th {\n",
       "        vertical-align: top;\n",
       "    }\n",
       "\n",
       "    .dataframe thead th {\n",
       "        text-align: right;\n",
       "    }\n",
       "</style>\n",
       "<table border=\"1\" class=\"dataframe\">\n",
       "  <thead>\n",
       "    <tr style=\"text-align: right;\">\n",
       "      <th></th>\n",
       "      <th>text</th>\n",
       "      <th>abstract</th>\n",
       "      <th>abstract_size</th>\n",
       "      <th>pred_summary</th>\n",
       "      <th>nltk_pred_summary</th>\n",
       "    </tr>\n",
       "  </thead>\n",
       "  <tbody>\n",
       "    <tr>\n",
       "      <th>3344</th>\n",
       "      <td>India's only existing steam engine was put on ...</td>\n",
       "      <td>A shiny, sleek white steam engine huffing and ...</td>\n",
       "      <td>16</td>\n",
       "      <td>India's only existing steam engine was put on ...</td>\n",
       "      <td>India's only existing steam engine was put on ...</td>\n",
       "    </tr>\n",
       "    <tr>\n",
       "      <th>3080</th>\n",
       "      <td>A producer filed a petition claiming the title...</td>\n",
       "      <td>A court on Thursday sought the response of sup...</td>\n",
       "      <td>25</td>\n",
       "      <td>A producer filed a petition claiming the title...</td>\n",
       "      <td>Further, he claimed that the film's title has ...</td>\n",
       "    </tr>\n",
       "    <tr>\n",
       "      <th>858</th>\n",
       "      <td>Television actor Karan Wahi has slammed the se...</td>\n",
       "      <td>Television actor Karan Wahi has expressed his ...</td>\n",
       "      <td>47</td>\n",
       "      <td>Television actor Karan Wahi has slammed the se...</td>\n",
       "      <td>Television actor Karan Wahi has slammed the se...</td>\n",
       "    </tr>\n",
       "    <tr>\n",
       "      <th>227</th>\n",
       "      <td>Twenty-nine Indian cities and towns including ...</td>\n",
       "      <td>Twenty-nine Indian cities and towns, including...</td>\n",
       "      <td>22</td>\n",
       "      <td>Twenty-nine Indian cities and towns including ...</td>\n",
       "      <td>Twenty-nine Indian cities and towns including ...</td>\n",
       "    </tr>\n",
       "    <tr>\n",
       "      <th>177</th>\n",
       "      <td>The Gorkha Janmukti Morcha (GJM) has given the...</td>\n",
       "      <td>The Gorkha Janamukti Morcha has given a ten-da...</td>\n",
       "      <td>14</td>\n",
       "      <td>The Gorkha Janmukti Morcha (GJM) has given the...</td>\n",
       "      <td>The Gorkha Janmukti Morcha (GJM) has given the...</td>\n",
       "    </tr>\n",
       "  </tbody>\n",
       "</table>\n",
       "</div>"
      ],
      "text/plain": [
       "                                                   text  \\\n",
       "3344  India's only existing steam engine was put on ...   \n",
       "3080  A producer filed a petition claiming the title...   \n",
       "858   Television actor Karan Wahi has slammed the se...   \n",
       "227   Twenty-nine Indian cities and towns including ...   \n",
       "177   The Gorkha Janmukti Morcha (GJM) has given the...   \n",
       "\n",
       "                                               abstract  abstract_size  \\\n",
       "3344  A shiny, sleek white steam engine huffing and ...             16   \n",
       "3080  A court on Thursday sought the response of sup...             25   \n",
       "858   Television actor Karan Wahi has expressed his ...             47   \n",
       "227   Twenty-nine Indian cities and towns, including...             22   \n",
       "177   The Gorkha Janamukti Morcha has given a ten-da...             14   \n",
       "\n",
       "                                           pred_summary  \\\n",
       "3344  India's only existing steam engine was put on ...   \n",
       "3080  A producer filed a petition claiming the title...   \n",
       "858   Television actor Karan Wahi has slammed the se...   \n",
       "227   Twenty-nine Indian cities and towns including ...   \n",
       "177   The Gorkha Janmukti Morcha (GJM) has given the...   \n",
       "\n",
       "                                      nltk_pred_summary  \n",
       "3344  India's only existing steam engine was put on ...  \n",
       "3080  Further, he claimed that the film's title has ...  \n",
       "858   Television actor Karan Wahi has slammed the se...  \n",
       "227   Twenty-nine Indian cities and towns including ...  \n",
       "177   The Gorkha Janmukti Morcha (GJM) has given the...  "
      ]
     },
     "execution_count": 24,
     "metadata": {},
     "output_type": "execute_result"
    }
   ],
   "source": [
    "df3[\"nltk_pred_summary\"] = df3.apply(lambda x: nltk_summarizer_n(x[\"text\"], x[\"abstract_size\"]), axis=1)\n",
    "df3.head()"
   ]
  },
  {
   "cell_type": "code",
   "execution_count": 25,
   "metadata": {},
   "outputs": [],
   "source": [
    "df3.to_csv(\"data/kaggle_with_predicted_summaries.csv\")"
   ]
  },
  {
   "cell_type": "code",
   "execution_count": 25,
   "metadata": {},
   "outputs": [
    {
     "data": {
      "text/html": [
       "<div>\n",
       "<style scoped>\n",
       "    .dataframe tbody tr th:only-of-type {\n",
       "        vertical-align: middle;\n",
       "    }\n",
       "\n",
       "    .dataframe tbody tr th {\n",
       "        vertical-align: top;\n",
       "    }\n",
       "\n",
       "    .dataframe thead th {\n",
       "        text-align: right;\n",
       "    }\n",
       "</style>\n",
       "<table border=\"1\" class=\"dataframe\">\n",
       "  <thead>\n",
       "    <tr style=\"text-align: right;\">\n",
       "      <th></th>\n",
       "      <th>text</th>\n",
       "      <th>abstract</th>\n",
       "      <th>abstract_size</th>\n",
       "      <th>pred_summary</th>\n",
       "      <th>nltk_pred_summary</th>\n",
       "    </tr>\n",
       "  </thead>\n",
       "  <tbody>\n",
       "    <tr>\n",
       "      <th>3344</th>\n",
       "      <td>India's only existing steam engine was put on ...</td>\n",
       "      <td>A shiny, sleek white steam engine huffing and ...</td>\n",
       "      <td>16</td>\n",
       "      <td>India's only existing steam engine was put on ...</td>\n",
       "      <td>India's only existing steam engine was put on ...</td>\n",
       "    </tr>\n",
       "    <tr>\n",
       "      <th>3080</th>\n",
       "      <td>A producer filed a petition claiming the title...</td>\n",
       "      <td>A court on Thursday sought the response of sup...</td>\n",
       "      <td>25</td>\n",
       "      <td>A producer filed a petition claiming the title...</td>\n",
       "      <td>Further, he claimed that the film's title has ...</td>\n",
       "    </tr>\n",
       "    <tr>\n",
       "      <th>858</th>\n",
       "      <td>Television actor Karan Wahi has slammed the se...</td>\n",
       "      <td>Television actor Karan Wahi has expressed his ...</td>\n",
       "      <td>47</td>\n",
       "      <td>Television actor Karan Wahi has slammed the se...</td>\n",
       "      <td>Television actor Karan Wahi has slammed the se...</td>\n",
       "    </tr>\n",
       "    <tr>\n",
       "      <th>227</th>\n",
       "      <td>Twenty-nine Indian cities and towns including ...</td>\n",
       "      <td>Twenty-nine Indian cities and towns, including...</td>\n",
       "      <td>22</td>\n",
       "      <td>Twenty-nine Indian cities and towns including ...</td>\n",
       "      <td>Twenty-nine Indian cities and towns including ...</td>\n",
       "    </tr>\n",
       "    <tr>\n",
       "      <th>177</th>\n",
       "      <td>The Gorkha Janmukti Morcha (GJM) has given the...</td>\n",
       "      <td>The Gorkha Janamukti Morcha has given a ten-da...</td>\n",
       "      <td>14</td>\n",
       "      <td>The Gorkha Janmukti Morcha (GJM) has given the...</td>\n",
       "      <td>The Gorkha Janmukti Morcha (GJM) has given the...</td>\n",
       "    </tr>\n",
       "  </tbody>\n",
       "</table>\n",
       "</div>"
      ],
      "text/plain": [
       "                                                   text  \\\n",
       "3344  India's only existing steam engine was put on ...   \n",
       "3080  A producer filed a petition claiming the title...   \n",
       "858   Television actor Karan Wahi has slammed the se...   \n",
       "227   Twenty-nine Indian cities and towns including ...   \n",
       "177   The Gorkha Janmukti Morcha (GJM) has given the...   \n",
       "\n",
       "                                               abstract  abstract_size  \\\n",
       "3344  A shiny, sleek white steam engine huffing and ...             16   \n",
       "3080  A court on Thursday sought the response of sup...             25   \n",
       "858   Television actor Karan Wahi has expressed his ...             47   \n",
       "227   Twenty-nine Indian cities and towns, including...             22   \n",
       "177   The Gorkha Janamukti Morcha has given a ten-da...             14   \n",
       "\n",
       "                                           pred_summary  \\\n",
       "3344  India's only existing steam engine was put on ...   \n",
       "3080  A producer filed a petition claiming the title...   \n",
       "858   Television actor Karan Wahi has slammed the se...   \n",
       "227   Twenty-nine Indian cities and towns including ...   \n",
       "177   The Gorkha Janmukti Morcha (GJM) has given the...   \n",
       "\n",
       "                                      nltk_pred_summary  \n",
       "3344  India's only existing steam engine was put on ...  \n",
       "3080  Further, he claimed that the film's title has ...  \n",
       "858   Television actor Karan Wahi has slammed the se...  \n",
       "227   Twenty-nine Indian cities and towns including ...  \n",
       "177   The Gorkha Janmukti Morcha (GJM) has given the...  "
      ]
     },
     "execution_count": 25,
     "metadata": {},
     "output_type": "execute_result"
    }
   ],
   "source": [
    "df3 = pd.read_csv(\"data/kaggle_with_predicted_summaries.csv\", index_col=0)\n",
    "df3.head()"
   ]
  },
  {
   "cell_type": "code",
   "execution_count": 26,
   "metadata": {
    "scrolled": true
   },
   "outputs": [
    {
     "data": {
      "text/html": [
       "<div>\n",
       "<style scoped>\n",
       "    .dataframe tbody tr th:only-of-type {\n",
       "        vertical-align: middle;\n",
       "    }\n",
       "\n",
       "    .dataframe tbody tr th {\n",
       "        vertical-align: top;\n",
       "    }\n",
       "\n",
       "    .dataframe thead th {\n",
       "        text-align: right;\n",
       "    }\n",
       "</style>\n",
       "<table border=\"1\" class=\"dataframe\">\n",
       "  <thead>\n",
       "    <tr style=\"text-align: right;\">\n",
       "      <th></th>\n",
       "      <th>text</th>\n",
       "      <th>abstract</th>\n",
       "      <th>abstract_size</th>\n",
       "      <th>pred_summary</th>\n",
       "      <th>nltk_pred_summary</th>\n",
       "      <th>pred_summary_score</th>\n",
       "      <th>my_pred_summary_score</th>\n",
       "    </tr>\n",
       "  </thead>\n",
       "  <tbody>\n",
       "    <tr>\n",
       "      <th>3344</th>\n",
       "      <td>India's only existing steam engine was put on ...</td>\n",
       "      <td>A shiny, sleek white steam engine huffing and ...</td>\n",
       "      <td>16</td>\n",
       "      <td>India's only existing steam engine was put on ...</td>\n",
       "      <td>India's only existing steam engine was put on ...</td>\n",
       "      <td>(0.24571428571428572, 0.11494252873563218)</td>\n",
       "      <td>[0.6666666666666666, 0.15748031496062992, 0.18...</td>\n",
       "    </tr>\n",
       "    <tr>\n",
       "      <th>3080</th>\n",
       "      <td>A producer filed a petition claiming the title...</td>\n",
       "      <td>A court on Thursday sought the response of sup...</td>\n",
       "      <td>25</td>\n",
       "      <td>A producer filed a petition claiming the title...</td>\n",
       "      <td>Further, he claimed that the film's title has ...</td>\n",
       "      <td>(0.15771812080536915, 0.06734006734006734)</td>\n",
       "      <td>[0.8, 0.12631578947368421, 0.1518987341772152]</td>\n",
       "    </tr>\n",
       "    <tr>\n",
       "      <th>858</th>\n",
       "      <td>Television actor Karan Wahi has slammed the se...</td>\n",
       "      <td>Television actor Karan Wahi has expressed his ...</td>\n",
       "      <td>47</td>\n",
       "      <td>Television actor Karan Wahi has slammed the se...</td>\n",
       "      <td>Television actor Karan Wahi has slammed the se...</td>\n",
       "      <td>(0.11372064276885044, 0.07434944237918216)</td>\n",
       "      <td>[0.875, 0.11570247933884298, 0.14]</td>\n",
       "    </tr>\n",
       "    <tr>\n",
       "      <th>227</th>\n",
       "      <td>Twenty-nine Indian cities and towns including ...</td>\n",
       "      <td>Twenty-nine Indian cities and towns, including...</td>\n",
       "      <td>22</td>\n",
       "      <td>Twenty-nine Indian cities and towns including ...</td>\n",
       "      <td>Twenty-nine Indian cities and towns including ...</td>\n",
       "      <td>(0.20081967213114751, 0.102880658436214)</td>\n",
       "      <td>[0.9696969696969697, 0.1787709497206704, 0.213...</td>\n",
       "    </tr>\n",
       "    <tr>\n",
       "      <th>177</th>\n",
       "      <td>The Gorkha Janmukti Morcha (GJM) has given the...</td>\n",
       "      <td>The Gorkha Janamukti Morcha has given a ten-da...</td>\n",
       "      <td>14</td>\n",
       "      <td>The Gorkha Janmukti Morcha (GJM) has given the...</td>\n",
       "      <td>The Gorkha Janmukti Morcha (GJM) has given the...</td>\n",
       "      <td>(0.27561837455830385, 0.16370106761565836)</td>\n",
       "      <td>[0.7142857142857143, 0.19801980198019803, 0.23...</td>\n",
       "    </tr>\n",
       "  </tbody>\n",
       "</table>\n",
       "</div>"
      ],
      "text/plain": [
       "                                                   text  \\\n",
       "3344  India's only existing steam engine was put on ...   \n",
       "3080  A producer filed a petition claiming the title...   \n",
       "858   Television actor Karan Wahi has slammed the se...   \n",
       "227   Twenty-nine Indian cities and towns including ...   \n",
       "177   The Gorkha Janmukti Morcha (GJM) has given the...   \n",
       "\n",
       "                                               abstract  abstract_size  \\\n",
       "3344  A shiny, sleek white steam engine huffing and ...             16   \n",
       "3080  A court on Thursday sought the response of sup...             25   \n",
       "858   Television actor Karan Wahi has expressed his ...             47   \n",
       "227   Twenty-nine Indian cities and towns, including...             22   \n",
       "177   The Gorkha Janamukti Morcha has given a ten-da...             14   \n",
       "\n",
       "                                           pred_summary  \\\n",
       "3344  India's only existing steam engine was put on ...   \n",
       "3080  A producer filed a petition claiming the title...   \n",
       "858   Television actor Karan Wahi has slammed the se...   \n",
       "227   Twenty-nine Indian cities and towns including ...   \n",
       "177   The Gorkha Janmukti Morcha (GJM) has given the...   \n",
       "\n",
       "                                      nltk_pred_summary  \\\n",
       "3344  India's only existing steam engine was put on ...   \n",
       "3080  Further, he claimed that the film's title has ...   \n",
       "858   Television actor Karan Wahi has slammed the se...   \n",
       "227   Twenty-nine Indian cities and towns including ...   \n",
       "177   The Gorkha Janmukti Morcha (GJM) has given the...   \n",
       "\n",
       "                              pred_summary_score  \\\n",
       "3344  (0.24571428571428572, 0.11494252873563218)   \n",
       "3080  (0.15771812080536915, 0.06734006734006734)   \n",
       "858   (0.11372064276885044, 0.07434944237918216)   \n",
       "227     (0.20081967213114751, 0.102880658436214)   \n",
       "177   (0.27561837455830385, 0.16370106761565836)   \n",
       "\n",
       "                                  my_pred_summary_score  \n",
       "3344  [0.6666666666666666, 0.15748031496062992, 0.18...  \n",
       "3080     [0.8, 0.12631578947368421, 0.1518987341772152]  \n",
       "858                  [0.875, 0.11570247933884298, 0.14]  \n",
       "227   [0.9696969696969697, 0.1787709497206704, 0.213...  \n",
       "177   [0.7142857142857143, 0.19801980198019803, 0.23...  "
      ]
     },
     "execution_count": 26,
     "metadata": {},
     "output_type": "execute_result"
    }
   ],
   "source": [
    "df3[\"pred_summary_score\"] = df3.apply(lambda x: score(x[\"nltk_pred_summary\"], x[\"abstract\"]), axis=1)\n",
    "df3[\"my_pred_summary_score\"] = df3.apply(lambda x: get_rouge_score(x[\"nltk_pred_summary\"], x[\"abstract\"]), axis=1)\n",
    "df3.head()"
   ]
  },
  {
   "cell_type": "code",
   "execution_count": 27,
   "metadata": {},
   "outputs": [],
   "source": [
    "rouge1_3 = [a[0] for a in df3[\"pred_summary_score\"].values]\n",
    "rouge2_3 = [a[1] for a in df3[\"pred_summary_score\"].values]\n",
    "\n",
    "my_precisions_3 = [a[0] for a in df3[\"my_pred_summary_score\"].values]\n",
    "my_recalls_3 = [a[1] for a in df3[\"my_pred_summary_score\"].values]\n",
    "#f2s_3 = [a[2] for a in df3[\"my_pred_summary_score\"].values]\n",
    "\n",
    "x2 = list(range(len(my_precisions_3)))"
   ]
  },
  {
   "cell_type": "code",
   "execution_count": 28,
   "metadata": {
    "scrolled": false
   },
   "outputs": [
    {
     "data": {
      "image/png": "[encoded data removed]",
      "text/plain": [
       "<Figure size 864x288 with 2 Axes>"
      ]
     },
     "metadata": {
      "needs_background": "light"
     },
     "output_type": "display_data"
    }
   ],
   "source": [
    "fig, axs = plt.subplots(1, 2, figsize=(12, 4))\n",
    "\n",
    "#sns.regplot(x2, rouge1_2, scatter=True, ax=axs[0,0])\n",
    "#sns.regplot(x2, rouge2_2, scatter=True, ax=axs[0,1])\n",
    "\n",
    "axs[0].scatter(x2, my_precisions_3, color='#da33ff')\n",
    "axs[0].set_ylim(0,1)\n",
    "axs[0].set_xlim(0,150)\n",
    "#axs[0].get_xaxis().set_visible(False)\n",
    "\n",
    "axs[1].scatter(x2, my_recalls_3, color='#60e18a')\n",
    "axs[1].set_ylim(0,1)\n",
    "axs[1].set_xlim(0,150)\n",
    "#axs[1].get_xaxis().set_visible(False)\n",
    "\n",
    "#sns.regplot(x2, my_precisions_2, scatter=True, ax=axs[1,0])\n",
    "#sns.regplot(x2, my_recalls_2, scatter=True, ax=axs[1,1])\n",
    "#sns.regplot(x2, f2s, scatter=True, ax=axs[2])\n",
    "\n",
    "plt.savefig(\"presentation/fa_kaggle.png\")\n",
    "plt.show()"
   ]
  },
  {
   "cell_type": "code",
   "execution_count": 43,
   "metadata": {
    "scrolled": false
   },
   "outputs": [
    {
     "data": {
      "image/png": "[encoded data removed]",
      "text/plain": [
       "<Figure size 576x432 with 1 Axes>"
      ]
     },
     "metadata": {
      "needs_background": "light"
     },
     "output_type": "display_data"
    }
   ],
   "source": [
    "fig, axs = plt.subplots(figsize=(8, 6), sharey=True)\n",
    "sns.scatterplot(my_precisions_3, my_recalls_3, ax=axs)\n",
    "axs.set(xlabel='Precision', ylabel='Recall')\n",
    "axs.axhline(0.5, alpha=0.4)  #horizontal line\n",
    "axs.axvline(0.5, alpha=0.4)  #vertical line\n",
    "axs.set_xlim(0,1)\n",
    "axs.set_ylim(0,1)\n",
    "plt.savefig(\"presentation/fa_kaggle_eval.png\", transparency=True)"
   ]
  },
  {
   "cell_type": "code",
   "execution_count": 30,
   "metadata": {},
   "outputs": [],
   "source": [
    "df3[[\"pred_summary_score\", \"my_pred_summary_score\"]].to_csv(\"data/kaggle_scores.csv\")"
   ]
  },
  {
   "cell_type": "code",
   "execution_count": null,
   "metadata": {},
   "outputs": [],
   "source": []
  }
 ],
 "metadata": {
  "kernelspec": {
   "display_name": "Python 3",
   "language": "python",
   "name": "python3"
  },
  "language_info": {
   "codemirror_mode": {
    "name": "ipython",
    "version": 3
   },
   "file_extension": ".py",
   "mimetype": "text/x-python",
   "name": "python",
   "nbconvert_exporter": "python",
   "pygments_lexer": "ipython3",
   "version": "3.7.4"
  }
 },
 "nbformat": 4,
 "nbformat_minor": 2
}
